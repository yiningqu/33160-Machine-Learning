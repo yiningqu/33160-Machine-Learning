{
 "cells": [
  {
   "cell_type": "markdown",
   "id": "1dc1b5d6",
   "metadata": {},
   "source": [
    "Drawdown is defined as the drop from a local maximum of the yearly returns curve\n",
    "to the next local minimum. Drawdowns are bad because they make investors\n",
    "anxious.\n",
    "\n",
    "Another measure of performance is the maximum drawdown over a period.\n",
    "\n",
    "Use the included 3 sets of optimal features over the holding period 2003-2018\n",
    "and an AdaBoostClassifier.\n",
    "Use Optuna to find hyper-parameters for the training\n",
    "period 2001-01-01 to 2004-01-01 and use these hyper-parameters and the sets of\n",
    "optimal features to compute the maximum drawdown for each of them.\n",
    "\n",
    "Try different Optuna objectives such as accuracy and max drawdown on the period\n",
    "2001-01-01 to 2004-04-01\n",
    "\n",
    "Next try to change the labels as in Homework 1 and 2 (or try to use your own way\n",
    "to make labels) and try to find a strategy that has both good Sharpe Ratio and a small\n",
    "max drawdown."
   ]
  },
  {
   "cell_type": "code",
   "execution_count": 1,
   "id": "f9d9f476",
   "metadata": {},
   "outputs": [
    {
     "name": "stderr",
     "output_type": "stream",
     "text": [
      "/opt/anaconda3/lib/python3.8/site-packages/scipy/__init__.py:146: UserWarning: A NumPy version >=1.16.5 and <1.23.0 is required for this version of SciPy (detected version 1.24.4\n",
      "  warnings.warn(f\"A NumPy version >={np_minversion} and <{np_maxversion}\"\n"
     ]
    }
   ],
   "source": [
    "import pandas as pd\n",
    "import numpy as np\n",
    "import matplotlib.pyplot as plt\n",
    "%matplotlib inline\n",
    "from sklearn.metrics import accuracy_score, confusion_matrix\n",
    "pd.set_option('use_inf_as_na', True)\n",
    "from collections import Counter\n",
    "from sklearn.tree import DecisionTreeClassifier\n",
    "from sklearn.metrics import accuracy_score,confusion_matrix\n",
    "import optuna\n",
    "from optuna.trial import Trial\n",
    "optuna.logging.set_verbosity(optuna.logging.FATAL)\n",
    "import warnings\n",
    "warnings.filterwarnings(\"ignore\")\n",
    "from sklearn.ensemble import RandomForestClassifier\n",
    "from sklearn.ensemble import BaggingClassifier\n",
    "import sklearn\n",
    "pd.set_option('use_inf_as_na', True)\n",
    "from collections import Counter\n",
    "from sklearn.preprocessing import MinMaxScaler,StandardScaler\n",
    "from functools import partial\n",
    "from sklearn.ensemble import AdaBoostClassifier"
   ]
  },
  {
   "cell_type": "code",
   "execution_count": 2,
   "id": "4e39ad58",
   "metadata": {},
   "outputs": [],
   "source": [
    "raw_data = pd.read_pickle(\"/Users/yiningqu/Desktop/研究生/33160 Machine Learning/Assignment2/dataset.pkl\").fillna(0.0)\n",
    "\n",
    "data = raw_data[raw_data['market_cap'] > 1000.0]\n",
    "data = data.copy()\n",
    "data.fillna(0.0,inplace=True)"
   ]
  },
  {
   "cell_type": "code",
   "execution_count": 3,
   "id": "25a273ab",
   "metadata": {},
   "outputs": [],
   "source": [
    "def f(x):\n",
    "\n",
    "    if x > 0.01:\n",
    "        return 1\n",
    "    elif x < -0.025:\n",
    "\n",
    "        return -1\n",
    "    \n",
    "\n",
    "    else:\n",
    "    \n",
    "        return 0"
   ]
  },
  {
   "cell_type": "code",
   "execution_count": 4,
   "id": "8e7eed21",
   "metadata": {},
   "outputs": [],
   "source": [
    "data['rel_performance'] = data['pred_rel_return'].apply(f)\n",
    "data.reset_index(inplace=True,)\n",
    "data.set_index('date',inplace=True)"
   ]
  },
  {
   "cell_type": "code",
   "execution_count": 5,
   "id": "0dc34e1c",
   "metadata": {},
   "outputs": [],
   "source": [
    "scaler = StandardScaler()"
   ]
  },
  {
   "cell_type": "code",
   "execution_count": 6,
   "id": "5f833f26",
   "metadata": {},
   "outputs": [],
   "source": [
    "start_dates = [pd.to_datetime('2003-01-01') + pd.DateOffset(months = 3*i) for i in range(59)]\n",
    "end_dates = [d + pd.DateOffset(months = 36) for d in start_dates]"
   ]
  },
  {
   "cell_type": "code",
   "execution_count": 7,
   "id": "eeb92385",
   "metadata": {},
   "outputs": [],
   "source": [
    "training_frames = [data.loc[d:d+pd.DateOffset(months = 36)] for d in start_dates]\n",
    "valid_frames = [data.loc[d+pd.DateOffset(months = 3):d+pd.DateOffset(months = 6)] for d in end_dates]\n",
    "test_frames = [data.loc[d+pd.DateOffset(months = 9):d+pd.DateOffset(months = 12)] for d in end_dates]"
   ]
  },
  {
   "cell_type": "code",
   "execution_count": 8,
   "id": "d17f8197",
   "metadata": {},
   "outputs": [],
   "source": [
    "training_data = [d.reset_index().drop\n",
    "                                 (['ticker','date',\n",
    "                                   'next_period_return',\n",
    "                                   'spy_next_period_return',\n",
    "                                   'rel_performance','pred_rel_return',\n",
    "                                  'return', 'cum_ret', 'spy_cum_ret'],axis=1) for d in training_frames]\n",
    "valid_data = [d.reset_index().drop\n",
    "                                 (['ticker','date',\n",
    "                                   'next_period_return',\n",
    "                                   'spy_next_period_return',\n",
    "                                   'rel_performance','pred_rel_return',\n",
    "                                  'return', 'cum_ret', 'spy_cum_ret'],axis=1) for d in valid_frames]\n",
    "test_data = [d.reset_index().drop(['ticker','date',\n",
    "                                   'spy_next_period_return',\n",
    "                                    'next_period_return',\n",
    "                                   'rel_performance','pred_rel_return',\n",
    "                                  'return', 'cum_ret', 'spy_cum_ret'],axis=1) for d in test_frames]"
   ]
  },
  {
   "cell_type": "code",
   "execution_count": 9,
   "id": "7084eb4f",
   "metadata": {},
   "outputs": [],
   "source": [
    "training_labels = [d['rel_performance'].values for d in training_frames]\n",
    "valid_labels = [d['rel_performance'].values for d in valid_frames] \n",
    "test_labels = [d['rel_performance'].values for d in test_frames]"
   ]
  },
  {
   "cell_type": "code",
   "execution_count": 10,
   "id": "77d9d45e",
   "metadata": {},
   "outputs": [],
   "source": [
    "training_data1 = training_data[0]\n",
    "valid_data1 = valid_data[0]\n",
    "training_labels1 = training_labels[0]\n",
    "valid_labels1 = valid_labels[0]"
   ]
  },
  {
   "cell_type": "code",
   "execution_count": 11,
   "id": "fc41e674",
   "metadata": {},
   "outputs": [],
   "source": [
    "scaler = StandardScaler()"
   ]
  },
  {
   "cell_type": "code",
   "execution_count": null,
   "id": "b2d447d6",
   "metadata": {},
   "outputs": [],
   "source": [
    "features1 = pd.read_pickle('/Users/yiningqu/Desktop/shap_features_ada_01.pkl')\n",
    "features2 = pd.read_pickle('/Users/yiningqu/Desktop/shap_features_ada_02.pkl')\n",
    "features3 = pd.read_pickle('/Users/yiningqu/Desktop/shap_features_ada.pkl')"
   ]
  }
 ],
 "metadata": {
  "kernelspec": {
   "display_name": "Python 3 (ipykernel)",
   "language": "python",
   "name": "python3"
  },
  "language_info": {
   "codemirror_mode": {
    "name": "ipython",
    "version": 3
   },
   "file_extension": ".py",
   "mimetype": "text/x-python",
   "name": "python",
   "nbconvert_exporter": "python",
   "pygments_lexer": "ipython3",
   "version": "3.8.8"
  }
 },
 "nbformat": 4,
 "nbformat_minor": 5
}
