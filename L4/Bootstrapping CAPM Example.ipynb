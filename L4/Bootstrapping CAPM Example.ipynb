{
 "cells": [
  {
   "cell_type": "code",
   "execution_count": 50,
   "metadata": {
    "ExecuteTime": {
     "end_time": "2020-01-28T00:37:07.279206Z",
     "start_time": "2020-01-28T00:37:04.833105Z"
    }
   },
   "outputs": [],
   "source": [
    "import pandas as pd\n",
    "import numpy as np\n",
    "import matplotlib.pyplot as plt"
   ]
  },
  {
   "cell_type": "code",
   "execution_count": 51,
   "metadata": {
    "ExecuteTime": {
     "end_time": "2020-01-28T00:39:43.096272Z",
     "start_time": "2020-01-28T00:39:43.027343Z"
    }
   },
   "outputs": [
    {
     "data": {
      "text/html": [
       "<div>\n",
       "<style scoped>\n",
       "    .dataframe tbody tr th:only-of-type {\n",
       "        vertical-align: middle;\n",
       "    }\n",
       "\n",
       "    .dataframe tbody tr th {\n",
       "        vertical-align: top;\n",
       "    }\n",
       "\n",
       "    .dataframe thead th {\n",
       "        text-align: right;\n",
       "    }\n",
       "</style>\n",
       "<table border=\"1\" class=\"dataframe\">\n",
       "  <thead>\n",
       "    <tr style=\"text-align: right;\">\n",
       "      <th></th>\n",
       "      <th>IBM</th>\n",
       "      <th>SP500</th>\n",
       "      <th>Risk Free Rate</th>\n",
       "    </tr>\n",
       "    <tr>\n",
       "      <th>Date</th>\n",
       "      <th></th>\n",
       "      <th></th>\n",
       "      <th></th>\n",
       "    </tr>\n",
       "  </thead>\n",
       "  <tbody>\n",
       "    <tr>\n",
       "      <th>2010-06-01</th>\n",
       "      <td>-0.009158</td>\n",
       "      <td>-0.053882</td>\n",
       "      <td>0.000142</td>\n",
       "    </tr>\n",
       "    <tr>\n",
       "      <th>2010-07-01</th>\n",
       "      <td>0.039844</td>\n",
       "      <td>0.068778</td>\n",
       "      <td>0.000117</td>\n",
       "    </tr>\n",
       "    <tr>\n",
       "      <th>2010-08-01</th>\n",
       "      <td>-0.041043</td>\n",
       "      <td>-0.047449</td>\n",
       "      <td>0.000113</td>\n",
       "    </tr>\n",
       "    <tr>\n",
       "      <th>2010-09-01</th>\n",
       "      <td>0.094816</td>\n",
       "      <td>0.087551</td>\n",
       "      <td>0.000129</td>\n",
       "    </tr>\n",
       "    <tr>\n",
       "      <th>2010-10-01</th>\n",
       "      <td>0.070524</td>\n",
       "      <td>0.036856</td>\n",
       "      <td>0.000092</td>\n",
       "    </tr>\n",
       "  </tbody>\n",
       "</table>\n",
       "</div>"
      ],
      "text/plain": [
       "                 IBM     SP500  Risk Free Rate\n",
       "Date                                          \n",
       "2010-06-01 -0.009158 -0.053882        0.000142\n",
       "2010-07-01  0.039844  0.068778        0.000117\n",
       "2010-08-01 -0.041043 -0.047449        0.000113\n",
       "2010-09-01  0.094816  0.087551        0.000129\n",
       "2010-10-01  0.070524  0.036856        0.000092"
      ]
     },
     "execution_count": 51,
     "metadata": {},
     "output_type": "execute_result"
    }
   ],
   "source": [
    "df = pd.read_csv(r'C:\\Users\\niels\\OneDrive\\data_1\\IBM.csv',usecols=['Date','Adj Close'])\n",
    "\n",
    "df.set_index(['Date'],inplace=True)\n",
    "\n",
    "df['IBM'] = df['Adj Close']\n",
    "df.drop(['Adj Close'],axis=1,inplace=True)\n",
    "\n",
    "df['SP500'] = pd.read_csv(r'C:\\Users\\niels\\OneDrive\\data_1\\^GSPC.csv',usecols=['Adj Close']).values\n",
    "\n",
    "df['Risk Free Rate'] = pd.read_csv(r'C:\\Users\\niels\\OneDrive\\data_1\\^IRX.csv',usecols=['Adj Close']).values\n",
    "\n",
    "df['IBM'] = df['IBM'].pct_change()\n",
    "df['SP500'] = df['SP500'].pct_change()\n",
    "df['Risk Free Rate'] = df['Risk Free Rate'] *0.01/12\n",
    "\n",
    "df = df.iloc[2:]\n",
    "\n",
    "df.head()"
   ]
  },
  {
   "cell_type": "code",
   "execution_count": 52,
   "metadata": {
    "ExecuteTime": {
     "end_time": "2020-01-27T15:27:58.641835Z",
     "start_time": "2020-01-27T15:27:58.635811Z"
    }
   },
   "outputs": [
    {
     "data": {
      "text/plain": [
       "Date\n",
       "2010-06-01    0.000142\n",
       "2010-07-01    0.000117\n",
       "2010-08-01    0.000113\n",
       "2010-09-01    0.000129\n",
       "2010-10-01    0.000092\n",
       "                ...   \n",
       "2019-01-01    0.001950\n",
       "2019-02-01    0.001986\n",
       "2019-03-01    0.001940\n",
       "2019-04-01    0.001971\n",
       "2019-04-11    0.001975\n",
       "Name: Risk Free Rate, Length: 108, dtype: float64"
      ]
     },
     "execution_count": 52,
     "metadata": {},
     "output_type": "execute_result"
    }
   ],
   "source": [
    "df['Risk Free Rate']"
   ]
  },
  {
   "cell_type": "code",
   "execution_count": 53,
   "metadata": {
    "ExecuteTime": {
     "end_time": "2020-01-28T00:40:47.620195Z",
     "start_time": "2020-01-28T00:40:47.615195Z"
    }
   },
   "outputs": [],
   "source": [
    "df['IBM'] = df['IBM'] - df['Risk Free Rate']\n",
    "df['SP500'] = df['SP500'] - df['Risk Free Rate']"
   ]
  },
  {
   "cell_type": "code",
   "execution_count": 54,
   "metadata": {
    "ExecuteTime": {
     "end_time": "2020-01-28T00:40:51.053659Z",
     "start_time": "2020-01-28T00:40:51.041660Z"
    }
   },
   "outputs": [
    {
     "data": {
      "text/html": [
       "<div>\n",
       "<style scoped>\n",
       "    .dataframe tbody tr th:only-of-type {\n",
       "        vertical-align: middle;\n",
       "    }\n",
       "\n",
       "    .dataframe tbody tr th {\n",
       "        vertical-align: top;\n",
       "    }\n",
       "\n",
       "    .dataframe thead th {\n",
       "        text-align: right;\n",
       "    }\n",
       "</style>\n",
       "<table border=\"1\" class=\"dataframe\">\n",
       "  <thead>\n",
       "    <tr style=\"text-align: right;\">\n",
       "      <th></th>\n",
       "      <th>IBM</th>\n",
       "      <th>SP500</th>\n",
       "      <th>Risk Free Rate</th>\n",
       "    </tr>\n",
       "    <tr>\n",
       "      <th>Date</th>\n",
       "      <th></th>\n",
       "      <th></th>\n",
       "      <th></th>\n",
       "    </tr>\n",
       "  </thead>\n",
       "  <tbody>\n",
       "    <tr>\n",
       "      <th>2010-06-01</th>\n",
       "      <td>-0.009299</td>\n",
       "      <td>-0.054024</td>\n",
       "      <td>0.000142</td>\n",
       "    </tr>\n",
       "    <tr>\n",
       "      <th>2010-07-01</th>\n",
       "      <td>0.039727</td>\n",
       "      <td>0.068661</td>\n",
       "      <td>0.000117</td>\n",
       "    </tr>\n",
       "    <tr>\n",
       "      <th>2010-08-01</th>\n",
       "      <td>-0.041156</td>\n",
       "      <td>-0.047562</td>\n",
       "      <td>0.000113</td>\n",
       "    </tr>\n",
       "    <tr>\n",
       "      <th>2010-09-01</th>\n",
       "      <td>0.094687</td>\n",
       "      <td>0.087422</td>\n",
       "      <td>0.000129</td>\n",
       "    </tr>\n",
       "    <tr>\n",
       "      <th>2010-10-01</th>\n",
       "      <td>0.070432</td>\n",
       "      <td>0.036764</td>\n",
       "      <td>0.000092</td>\n",
       "    </tr>\n",
       "  </tbody>\n",
       "</table>\n",
       "</div>"
      ],
      "text/plain": [
       "                 IBM     SP500  Risk Free Rate\n",
       "Date                                          \n",
       "2010-06-01 -0.009299 -0.054024        0.000142\n",
       "2010-07-01  0.039727  0.068661        0.000117\n",
       "2010-08-01 -0.041156 -0.047562        0.000113\n",
       "2010-09-01  0.094687  0.087422        0.000129\n",
       "2010-10-01  0.070432  0.036764        0.000092"
      ]
     },
     "execution_count": 54,
     "metadata": {},
     "output_type": "execute_result"
    }
   ],
   "source": [
    "df.head()"
   ]
  },
  {
   "cell_type": "code",
   "execution_count": 55,
   "metadata": {
    "ExecuteTime": {
     "end_time": "2020-01-28T00:41:25.512137Z",
     "start_time": "2020-01-28T00:41:25.502136Z"
    }
   },
   "outputs": [
    {
     "data": {
      "text/html": [
       "<div>\n",
       "<style scoped>\n",
       "    .dataframe tbody tr th:only-of-type {\n",
       "        vertical-align: middle;\n",
       "    }\n",
       "\n",
       "    .dataframe tbody tr th {\n",
       "        vertical-align: top;\n",
       "    }\n",
       "\n",
       "    .dataframe thead th {\n",
       "        text-align: right;\n",
       "    }\n",
       "</style>\n",
       "<table border=\"1\" class=\"dataframe\">\n",
       "  <thead>\n",
       "    <tr style=\"text-align: right;\">\n",
       "      <th></th>\n",
       "      <th>IBM</th>\n",
       "      <th>SP500</th>\n",
       "      <th>Risk Free Rate</th>\n",
       "    </tr>\n",
       "    <tr>\n",
       "      <th>Date</th>\n",
       "      <th></th>\n",
       "      <th></th>\n",
       "      <th></th>\n",
       "    </tr>\n",
       "  </thead>\n",
       "  <tbody>\n",
       "    <tr>\n",
       "      <th>2019-01-01</th>\n",
       "      <td>0.180596</td>\n",
       "      <td>0.076734</td>\n",
       "      <td>0.001950</td>\n",
       "    </tr>\n",
       "    <tr>\n",
       "      <th>2019-02-01</th>\n",
       "      <td>0.025614</td>\n",
       "      <td>0.027743</td>\n",
       "      <td>0.001986</td>\n",
       "    </tr>\n",
       "    <tr>\n",
       "      <th>2019-03-01</th>\n",
       "      <td>0.031463</td>\n",
       "      <td>0.015984</td>\n",
       "      <td>0.001940</td>\n",
       "    </tr>\n",
       "    <tr>\n",
       "      <th>2019-04-01</th>\n",
       "      <td>0.017023</td>\n",
       "      <td>0.017053</td>\n",
       "      <td>0.001971</td>\n",
       "    </tr>\n",
       "    <tr>\n",
       "      <th>2019-04-11</th>\n",
       "      <td>-0.001975</td>\n",
       "      <td>-0.001975</td>\n",
       "      <td>0.001975</td>\n",
       "    </tr>\n",
       "  </tbody>\n",
       "</table>\n",
       "</div>"
      ],
      "text/plain": [
       "                 IBM     SP500  Risk Free Rate\n",
       "Date                                          \n",
       "2019-01-01  0.180596  0.076734        0.001950\n",
       "2019-02-01  0.025614  0.027743        0.001986\n",
       "2019-03-01  0.031463  0.015984        0.001940\n",
       "2019-04-01  0.017023  0.017053        0.001971\n",
       "2019-04-11 -0.001975 -0.001975        0.001975"
      ]
     },
     "execution_count": 55,
     "metadata": {},
     "output_type": "execute_result"
    }
   ],
   "source": [
    "df.tail()"
   ]
  },
  {
   "cell_type": "code",
   "execution_count": 56,
   "metadata": {
    "ExecuteTime": {
     "end_time": "2020-01-27T15:28:14.377145Z",
     "start_time": "2020-01-27T15:28:14.368145Z"
    }
   },
   "outputs": [
    {
     "data": {
      "text/html": [
       "<div>\n",
       "<style scoped>\n",
       "    .dataframe tbody tr th:only-of-type {\n",
       "        vertical-align: middle;\n",
       "    }\n",
       "\n",
       "    .dataframe tbody tr th {\n",
       "        vertical-align: top;\n",
       "    }\n",
       "\n",
       "    .dataframe thead th {\n",
       "        text-align: right;\n",
       "    }\n",
       "</style>\n",
       "<table border=\"1\" class=\"dataframe\">\n",
       "  <thead>\n",
       "    <tr style=\"text-align: right;\">\n",
       "      <th></th>\n",
       "      <th>IBM</th>\n",
       "      <th>SP500</th>\n",
       "      <th>Risk Free Rate</th>\n",
       "    </tr>\n",
       "    <tr>\n",
       "      <th>Date</th>\n",
       "      <th></th>\n",
       "      <th></th>\n",
       "      <th></th>\n",
       "    </tr>\n",
       "  </thead>\n",
       "  <tbody>\n",
       "    <tr>\n",
       "      <th>2018-12-01</th>\n",
       "      <td>-0.075565</td>\n",
       "      <td>-0.093694</td>\n",
       "      <td>0.001917</td>\n",
       "    </tr>\n",
       "    <tr>\n",
       "      <th>2019-01-01</th>\n",
       "      <td>0.180596</td>\n",
       "      <td>0.076734</td>\n",
       "      <td>0.001950</td>\n",
       "    </tr>\n",
       "    <tr>\n",
       "      <th>2019-02-01</th>\n",
       "      <td>0.025614</td>\n",
       "      <td>0.027743</td>\n",
       "      <td>0.001986</td>\n",
       "    </tr>\n",
       "    <tr>\n",
       "      <th>2019-03-01</th>\n",
       "      <td>0.031463</td>\n",
       "      <td>0.015984</td>\n",
       "      <td>0.001940</td>\n",
       "    </tr>\n",
       "    <tr>\n",
       "      <th>2019-04-01</th>\n",
       "      <td>0.017023</td>\n",
       "      <td>0.017053</td>\n",
       "      <td>0.001971</td>\n",
       "    </tr>\n",
       "  </tbody>\n",
       "</table>\n",
       "</div>"
      ],
      "text/plain": [
       "                 IBM     SP500  Risk Free Rate\n",
       "Date                                          \n",
       "2018-12-01 -0.075565 -0.093694        0.001917\n",
       "2019-01-01  0.180596  0.076734        0.001950\n",
       "2019-02-01  0.025614  0.027743        0.001986\n",
       "2019-03-01  0.031463  0.015984        0.001940\n",
       "2019-04-01  0.017023  0.017053        0.001971"
      ]
     },
     "execution_count": 56,
     "metadata": {},
     "output_type": "execute_result"
    }
   ],
   "source": [
    "df = df.iloc[:-1]\n",
    "df.tail()"
   ]
  },
  {
   "cell_type": "code",
   "execution_count": 57,
   "metadata": {
    "ExecuteTime": {
     "end_time": "2020-01-28T00:42:29.471071Z",
     "start_time": "2020-01-28T00:42:29.338055Z"
    }
   },
   "outputs": [
    {
     "data": {
      "image/png": "[encoded data removed]",
      "text/plain": [
       "<Figure size 432x288 with 1 Axes>"
      ]
     },
     "metadata": {
      "needs_background": "light"
     },
     "output_type": "display_data"
    }
   ],
   "source": [
    "plt.scatter(df['SP500'],df['IBM']);"
   ]
  },
  {
   "cell_type": "code",
   "execution_count": 58,
   "metadata": {
    "ExecuteTime": {
     "end_time": "2020-01-28T00:43:36.566777Z",
     "start_time": "2020-01-28T00:43:35.977197Z"
    }
   },
   "outputs": [],
   "source": [
    "from scipy.stats import linregress"
   ]
  },
  {
   "cell_type": "code",
   "execution_count": 74,
   "metadata": {
    "ExecuteTime": {
     "end_time": "2020-01-28T00:44:41.908842Z",
     "start_time": "2020-01-28T00:44:41.902841Z"
    }
   },
   "outputs": [],
   "source": [
    "slope, intercept, r_value, p_value, std_err = linregress(df[['SP500','IBM']])"
   ]
  },
  {
   "cell_type": "code",
   "execution_count": 60,
   "metadata": {
    "ExecuteTime": {
     "end_time": "2020-01-28T00:44:46.630494Z",
     "start_time": "2020-01-28T00:44:46.622500Z"
    }
   },
   "outputs": [
    {
     "name": "stdout",
     "output_type": "stream",
     "text": [
      "0.9655071347625879 -0.004005175608166176\n"
     ]
    }
   ],
   "source": [
    "print(slope,intercept)"
   ]
  },
  {
   "cell_type": "code",
   "execution_count": 75,
   "metadata": {},
   "outputs": [
    {
     "data": {
      "text/plain": [
       "8.062366591519843e-12"
      ]
     },
     "execution_count": 75,
     "metadata": {},
     "output_type": "execute_result"
    }
   ],
   "source": [
    "p_value"
   ]
  },
  {
   "cell_type": "code",
   "execution_count": 62,
   "metadata": {
    "ExecuteTime": {
     "end_time": "2020-01-28T00:45:08.968788Z",
     "start_time": "2020-01-28T00:45:08.834745Z"
    }
   },
   "outputs": [
    {
     "data": {
      "image/png": "[encoded data removed]",
      "text/plain": [
       "<Figure size 432x288 with 1 Axes>"
      ]
     },
     "metadata": {
      "needs_background": "light"
     },
     "output_type": "display_data"
    }
   ],
   "source": [
    "t = np.linspace(-0.12,0.12,100)\n",
    "plt.scatter(df['SP500'],df['IBM']);\n",
    "plt.plot(t,intercept + slope * t,c='r');"
   ]
  },
  {
   "cell_type": "code",
   "execution_count": 63,
   "metadata": {
    "ExecuteTime": {
     "end_time": "2020-01-28T00:46:50.543440Z",
     "start_time": "2020-01-28T00:46:50.539471Z"
    }
   },
   "outputs": [],
   "source": [
    "residuals = df['IBM'] - (intercept + slope * df['SP500'])"
   ]
  },
  {
   "cell_type": "code",
   "execution_count": 64,
   "metadata": {
    "ExecuteTime": {
     "end_time": "2020-01-28T00:46:51.889124Z",
     "start_time": "2020-01-28T00:46:51.737603Z"
    }
   },
   "outputs": [
    {
     "data": {
      "image/png": "[encoded data removed]",
      "text/plain": [
       "<Figure size 432x288 with 1 Axes>"
      ]
     },
     "metadata": {
      "needs_background": "light"
     },
     "output_type": "display_data"
    }
   ],
   "source": [
    "plt.scatter(range(len(df)),residuals);"
   ]
  },
  {
   "cell_type": "code",
   "execution_count": 65,
   "metadata": {
    "ExecuteTime": {
     "end_time": "2020-01-28T00:47:20.578438Z",
     "start_time": "2020-01-28T00:47:20.573443Z"
    }
   },
   "outputs": [
    {
     "data": {
      "text/plain": [
       "1.2645647768802892e-18"
      ]
     },
     "execution_count": 65,
     "metadata": {},
     "output_type": "execute_result"
    }
   ],
   "source": [
    "np.mean(residuals)"
   ]
  },
  {
   "cell_type": "code",
   "execution_count": 66,
   "metadata": {
    "ExecuteTime": {
     "end_time": "2020-01-28T00:47:41.361601Z",
     "start_time": "2020-01-28T00:47:41.204079Z"
    }
   },
   "outputs": [
    {
     "data": {
      "image/png": "[encoded data removed]",
      "text/plain": [
       "<Figure size 432x288 with 1 Axes>"
      ]
     },
     "metadata": {
      "needs_background": "light"
     },
     "output_type": "display_data"
    }
   ],
   "source": [
    "plt.scatter(range(len(df)),residuals**2);"
   ]
  },
  {
   "cell_type": "code",
   "execution_count": 67,
   "metadata": {
    "ExecuteTime": {
     "end_time": "2020-01-28T00:48:22.459899Z",
     "start_time": "2020-01-28T00:48:22.453869Z"
    }
   },
   "outputs": [],
   "source": [
    "residuals = residuals.values\n",
    "residuals.sort()"
   ]
  },
  {
   "cell_type": "code",
   "execution_count": 68,
   "metadata": {
    "ExecuteTime": {
     "end_time": "2020-01-28T00:48:46.644812Z",
     "start_time": "2020-01-28T00:48:46.639788Z"
    }
   },
   "outputs": [],
   "source": [
    "p = np.linspace(0,1,len(df))"
   ]
  },
  {
   "cell_type": "code",
   "execution_count": 69,
   "metadata": {
    "ExecuteTime": {
     "end_time": "2020-01-28T00:48:55.866088Z",
     "start_time": "2020-01-28T00:48:55.863085Z"
    }
   },
   "outputs": [],
   "source": [
    "mu = residuals.mean()\n",
    "sigma = residuals.std()"
   ]
  },
  {
   "cell_type": "code",
   "execution_count": 70,
   "metadata": {
    "ExecuteTime": {
     "end_time": "2020-01-28T00:49:26.662406Z",
     "start_time": "2020-01-28T00:49:26.536405Z"
    }
   },
   "outputs": [
    {
     "data": {
      "image/png": "[encoded data removed]",
      "text/plain": [
       "<Figure size 432x288 with 1 Axes>"
      ]
     },
     "metadata": {
      "needs_background": "light"
     },
     "output_type": "display_data"
    }
   ],
   "source": [
    "plt.step(residuals,p);"
   ]
  },
  {
   "cell_type": "code",
   "execution_count": 71,
   "metadata": {
    "ExecuteTime": {
     "end_time": "2020-01-28T00:50:27.177772Z",
     "start_time": "2020-01-28T00:50:27.038720Z"
    }
   },
   "outputs": [
    {
     "data": {
      "image/png": "[encoded data removed]",
      "text/plain": [
       "<Figure size 432x288 with 1 Axes>"
      ]
     },
     "metadata": {
      "needs_background": "light"
     },
     "output_type": "display_data"
    }
   ],
   "source": [
    "from scipy.stats import norm\n",
    "fig, ax = plt.subplots()\n",
    "plt.step(residuals,p);\n",
    "x = np.linspace(sigma*norm.ppf(0.001),\n",
    "                sigma * norm.ppf(0.99), 100)\n",
    "ax.plot(x, norm.cdf(x/sigma),\n",
    "      'r-', lw=5, alpha=0.6, label='norm cdf');\n",
    "ax.legend();"
   ]
  },
  {
   "cell_type": "code",
   "execution_count": 72,
   "metadata": {
    "ExecuteTime": {
     "end_time": "2020-01-28T00:51:20.720304Z",
     "start_time": "2020-01-28T00:51:20.555309Z"
    }
   },
   "outputs": [
    {
     "data": {
      "image/png": "[encoded data removed]",
      "text/plain": [
       "<Figure size 432x288 with 1 Axes>"
      ]
     },
     "metadata": {
      "needs_background": "light"
     },
     "output_type": "display_data"
    }
   ],
   "source": [
    "fig, ax = plt.subplots()\n",
    "plt.hist(residuals,bins=20,density=True);\n",
    "\n",
    "x = np.linspace(sigma*norm.ppf(0.001),\n",
    "                sigma * norm.ppf(0.999), 100)\n",
    "ax.plot(x, norm.pdf(x/sigma)/sigma,\n",
    "      'r-', lw=5, alpha=0.6, label='norm pdf');\n",
    "ax.legend();\n"
   ]
  },
  {
   "cell_type": "code",
   "execution_count": 73,
   "metadata": {
    "ExecuteTime": {
     "end_time": "2020-01-28T00:52:16.823039Z",
     "start_time": "2020-01-28T00:52:16.815046Z"
    }
   },
   "outputs": [
    {
     "data": {
      "text/plain": [
       "KstestResult(statistic=0.45600107383796196, pvalue=7.432879905776598e-21)"
      ]
     },
     "execution_count": 73,
     "metadata": {},
     "output_type": "execute_result"
    }
   ],
   "source": [
    "from scipy.stats import kstest\n",
    "\n",
    "kstest(residuals,'norm')"
   ]
  },
  {
   "cell_type": "code",
   "execution_count": 24,
   "metadata": {
    "ExecuteTime": {
     "end_time": "2020-01-28T00:58:15.276410Z",
     "start_time": "2020-01-28T00:58:15.270409Z"
    }
   },
   "outputs": [
    {
     "data": {
      "text/plain": [
       "0.21339180071528385"
      ]
     },
     "execution_count": 24,
     "metadata": {},
     "output_type": "execute_result"
    }
   ],
   "source": [
    "USSR = (residuals**2).sum()\n",
    "USSR"
   ]
  },
  {
   "cell_type": "markdown",
   "metadata": {},
   "source": [
    "## Estimating the restricted model"
   ]
  },
  {
   "cell_type": "code",
   "execution_count": 25,
   "metadata": {
    "ExecuteTime": {
     "end_time": "2020-01-28T00:56:01.196669Z",
     "start_time": "2020-01-28T00:56:01.192077Z"
    }
   },
   "outputs": [],
   "source": [
    "z = (df['IBM'] - 0.7 * df['SP500']).values"
   ]
  },
  {
   "cell_type": "code",
   "execution_count": 26,
   "metadata": {
    "ExecuteTime": {
     "end_time": "2020-01-28T00:56:06.321214Z",
     "start_time": "2020-01-28T00:56:06.182192Z"
    }
   },
   "outputs": [
    {
     "data": {
      "image/png": "[encoded data removed]",
      "text/plain": [
       "<Figure size 432x288 with 1 Axes>"
      ]
     },
     "metadata": {
      "needs_background": "light"
     },
     "output_type": "display_data"
    }
   ],
   "source": [
    "plt.scatter(range(len(z)),z);"
   ]
  },
  {
   "cell_type": "code",
   "execution_count": 27,
   "metadata": {
    "ExecuteTime": {
     "end_time": "2020-01-28T00:57:13.935800Z",
     "start_time": "2020-01-28T00:57:13.931799Z"
    }
   },
   "outputs": [],
   "source": [
    "residuals_res = z.mean() - z"
   ]
  },
  {
   "cell_type": "code",
   "execution_count": 28,
   "metadata": {
    "ExecuteTime": {
     "end_time": "2020-01-28T00:57:33.426791Z",
     "start_time": "2020-01-28T00:57:33.421820Z"
    }
   },
   "outputs": [
    {
     "data": {
      "text/plain": [
       "0.22249405192672114"
      ]
     },
     "execution_count": 28,
     "metadata": {},
     "output_type": "execute_result"
    }
   ],
   "source": [
    "RSSR = (residuals_res**2).sum()\n",
    "RSSR"
   ]
  },
  {
   "cell_type": "code",
   "execution_count": 29,
   "metadata": {
    "ExecuteTime": {
     "end_time": "2020-01-28T00:58:21.156086Z",
     "start_time": "2020-01-28T00:58:21.151086Z"
    }
   },
   "outputs": [],
   "source": [
    "F = (RSSR - USSR)/(USSR/(len(z)-2))"
   ]
  },
  {
   "cell_type": "code",
   "execution_count": 30,
   "metadata": {
    "ExecuteTime": {
     "end_time": "2020-01-28T00:58:24.950152Z",
     "start_time": "2020-01-28T00:58:24.944153Z"
    }
   },
   "outputs": [
    {
     "data": {
      "text/plain": [
       "4.478786785608968"
      ]
     },
     "execution_count": 30,
     "metadata": {},
     "output_type": "execute_result"
    }
   ],
   "source": [
    "F"
   ]
  },
  {
   "cell_type": "code",
   "execution_count": 27,
   "metadata": {
    "ExecuteTime": {
     "end_time": "2020-01-28T00:59:56.735422Z",
     "start_time": "2020-01-28T00:59:56.731452Z"
    }
   },
   "outputs": [],
   "source": [
    "from scipy.stats import f"
   ]
  },
  {
   "cell_type": "code",
   "execution_count": 28,
   "metadata": {
    "ExecuteTime": {
     "end_time": "2020-01-28T01:00:52.616465Z",
     "start_time": "2020-01-28T01:00:52.599219Z"
    }
   },
   "outputs": [
    {
     "data": {
      "text/plain": [
       "(0.00395098311823501, 3.9315564099949247)"
      ]
     },
     "execution_count": 28,
     "metadata": {},
     "output_type": "execute_result"
    }
   ],
   "source": [
    "f.interval(0.90, 1, 105, loc=0, scale=1)"
   ]
  },
  {
   "cell_type": "code",
   "execution_count": 32,
   "metadata": {
    "ExecuteTime": {
     "end_time": "2020-01-28T01:02:45.600230Z",
     "start_time": "2020-01-28T01:02:45.455235Z"
    }
   },
   "outputs": [
    {
     "data": {
      "text/plain": [
       "<matplotlib.collections.LineCollection at 0x1a5eb2ace20>"
      ]
     },
     "execution_count": 32,
     "metadata": {},
     "output_type": "execute_result"
    },
    {
     "data": {
      "image/png": "[encoded data removed]",
      "text/plain": [
       "<Figure size 432x288 with 1 Axes>"
      ]
     },
     "metadata": {
      "needs_background": "light"
     },
     "output_type": "display_data"
    }
   ],
   "source": [
    "x = np.linspace(f.ppf(0.01, 1, 105),\n",
    "                f.ppf(0.99, 1, 105), 100)\n",
    "\n",
    "fig, ax = plt.subplots(1,1)\n",
    "rv = f(1, 105)\n",
    "ax.plot(x, rv.cdf(x), 'k-', lw=2, label='frozen pdf');\n",
    "plt.hlines(0.90,0,7,colors='g')\n",
    "plt.vlines(4.478786,0,1,colors='b')"
   ]
  },
  {
   "cell_type": "code",
   "execution_count": 33,
   "metadata": {
    "ExecuteTime": {
     "end_time": "2020-01-28T01:04:17.645807Z",
     "start_time": "2020-01-28T01:04:16.564633Z"
    }
   },
   "outputs": [],
   "source": [
    "from sklearn.utils import resample"
   ]
  },
  {
   "cell_type": "code",
   "execution_count": 34,
   "metadata": {
    "ExecuteTime": {
     "end_time": "2020-01-28T01:04:20.747180Z",
     "start_time": "2020-01-28T01:04:20.743179Z"
    }
   },
   "outputs": [],
   "source": [
    "u = resample(residuals)\n",
    "y_resampled = intercept + slope * df['SP500'].values + u"
   ]
  },
  {
   "cell_type": "code",
   "execution_count": 35,
   "metadata": {
    "ExecuteTime": {
     "end_time": "2020-01-28T01:05:29.716685Z",
     "start_time": "2020-01-28T01:05:29.572687Z"
    }
   },
   "outputs": [
    {
     "data": {
      "image/png": "[encoded data removed]",
      "text/plain": [
       "<Figure size 432x288 with 1 Axes>"
      ]
     },
     "metadata": {
      "needs_background": "light"
     },
     "output_type": "display_data"
    }
   ],
   "source": [
    "plt.scatter(df['SP500'],y_resampled);"
   ]
  },
  {
   "cell_type": "code",
   "execution_count": 37,
   "metadata": {},
   "outputs": [],
   "source": [
    "from collections import Counter"
   ]
  },
  {
   "cell_type": "code",
   "execution_count": 39,
   "metadata": {},
   "outputs": [
    {
     "data": {
      "text/plain": [
       "Counter({0.007366430767021169: 3,\n",
       "         0.030771334944009993: 2,\n",
       "         0.05798627935615209: 3,\n",
       "         0.015455782052428708: 3,\n",
       "         -0.15235802179392371: 3,\n",
       "         0.1105134953614921: 1,\n",
       "         -0.008690571819561378: 3,\n",
       "         -0.022216403791988228: 1,\n",
       "         -0.05849789536554345: 2,\n",
       "         0.10793333427428103: 2,\n",
       "         0.014285377752004114: 1,\n",
       "         -0.006115735587383644: 3,\n",
       "         -0.0015559873028765554: 1,\n",
       "         0.0045634558766108335: 1,\n",
       "         0.0759371362995737: 1,\n",
       "         -0.10984878134314392: 3,\n",
       "         0.02420706734442514: 1,\n",
       "         0.0432410496181329: 2,\n",
       "         0.0041766359001674525: 1,\n",
       "         -0.003674168918086279: 1,\n",
       "         0.027141944417970937: 3,\n",
       "         -0.07793867312435873: 2,\n",
       "         -0.0011431841971398745: 2,\n",
       "         -0.015698963390780366: 1,\n",
       "         -0.08432859021807843: 1,\n",
       "         -0.03125090943338139: 2,\n",
       "         -0.005659693775715304: 1,\n",
       "         0.02649745271987325: 1,\n",
       "         0.017036526226846278: 2,\n",
       "         -0.05387484754133561: 1,\n",
       "         -0.007886598064886573: 2,\n",
       "         -0.06390320860873112: 3,\n",
       "         0.018902034315339447: 1,\n",
       "         -0.010465159642461745: 2,\n",
       "         -0.033246640613573936: 3,\n",
       "         0.04254135081420006: 3,\n",
       "         0.011976953560219617: 2,\n",
       "         0.017928830455461172: 1,\n",
       "         0.06300586078970971: 1,\n",
       "         -0.05498720826252128: 2,\n",
       "         0.013635837635561386: 1,\n",
       "         -0.03168751092052808: 2,\n",
       "         -0.07129207246857694: 2,\n",
       "         0.09493920454606877: 2,\n",
       "         0.03847257541669572: 1,\n",
       "         -0.16567553815949004: 1,\n",
       "         -0.01957032633370891: 1,\n",
       "         -0.029064901275249716: 1,\n",
       "         0.0066063881829271365: 1,\n",
       "         0.038940867870171564: 1,\n",
       "         -0.01969804375144755: 1,\n",
       "         0.011013950190698781: 1,\n",
       "         -0.019176390706340786: 1,\n",
       "         0.01869400264244884: 1,\n",
       "         -0.006513067169449542: 1,\n",
       "         -0.016046860551052: 1,\n",
       "         0.010388214182171111: 1,\n",
       "         0.035819742069258156: 2,\n",
       "         -0.02045618409977979: 2,\n",
       "         -0.017707823411332098: 1,\n",
       "         -0.04209100703169493: 2,\n",
       "         0.009927558720176657: 1,\n",
       "         -0.040245897149380705: 1,\n",
       "         0.002833361940077387: 1,\n",
       "         0.04444685827135142: 1,\n",
       "         0.01894145962376921: 1,\n",
       "         0.04686661029148477: 1})"
      ]
     },
     "execution_count": 39,
     "metadata": {},
     "output_type": "execute_result"
    }
   ],
   "source": [
    "Counter(u)"
   ]
  },
  {
   "cell_type": "code",
   "execution_count": 40,
   "metadata": {
    "ExecuteTime": {
     "end_time": "2020-01-28T01:06:06.995934Z",
     "start_time": "2020-01-28T01:06:06.990915Z"
    }
   },
   "outputs": [
    {
     "name": "stdout",
     "output_type": "stream",
     "text": [
      "1.1247566549871437 -0.01206404025704249\n"
     ]
    }
   ],
   "source": [
    "slope_resampled, intercept_resampled, _,_,_ = linregress(df['SP500'],y_resampled)\n",
    "print(slope_resampled,intercept_resampled)"
   ]
  },
  {
   "cell_type": "code",
   "execution_count": 41,
   "metadata": {
    "ExecuteTime": {
     "end_time": "2020-01-28T01:07:21.806505Z",
     "start_time": "2020-01-28T01:07:16.342940Z"
    }
   },
   "outputs": [],
   "source": [
    "slopes = []\n",
    "intercepts = []\n",
    "\n",
    "for _ in range(10000):\n",
    "    u = resample(residuals)\n",
    "    y_ = (intercept + slope * df['SP500']).values + u\n",
    "    slope_resamp, intercept_resamp,_,_,_ = linregress(df['SP500'],y_)\n",
    "    slopes.append(slope_resamp)\n",
    "    intercepts.append(intercept_resamp)\n",
    "    \n"
   ]
  },
  {
   "cell_type": "code",
   "execution_count": 42,
   "metadata": {
    "ExecuteTime": {
     "end_time": "2020-01-28T01:07:45.496003Z",
     "start_time": "2020-01-28T01:07:45.235356Z"
    }
   },
   "outputs": [
    {
     "data": {
      "image/png": "[encoded data removed]",
      "text/plain": [
       "<Figure size 432x288 with 1 Axes>"
      ]
     },
     "metadata": {
      "needs_background": "light"
     },
     "output_type": "display_data"
    }
   ],
   "source": [
    "plt.hist(slopes,bins=100,density=True);"
   ]
  },
  {
   "cell_type": "code",
   "execution_count": 43,
   "metadata": {
    "ExecuteTime": {
     "end_time": "2020-01-28T01:08:22.650609Z",
     "start_time": "2020-01-28T01:08:22.396547Z"
    }
   },
   "outputs": [
    {
     "data": {
      "image/png": "[encoded data removed]",
      "text/plain": [
       "<Figure size 432x288 with 1 Axes>"
      ]
     },
     "metadata": {
      "needs_background": "light"
     },
     "output_type": "display_data"
    }
   ],
   "source": [
    "plt.hist(intercepts,bins=100,density=True);"
   ]
  },
  {
   "cell_type": "code",
   "execution_count": 44,
   "metadata": {
    "ExecuteTime": {
     "end_time": "2020-01-28T01:09:21.350928Z",
     "start_time": "2020-01-28T01:09:14.229424Z"
    }
   },
   "outputs": [],
   "source": [
    "gamma = 0.7\n",
    "F_stats = []\n",
    "\n",
    "for _ in range(10000):\n",
    "    u = resample(residuals)\n",
    "    y_ = (intercept + slope * df['SP500']).values + u\n",
    "    slope_resamp, intercept_resamp,_,_,_ = linregress(df['SP500'],y_)\n",
    "    res_resamp = y_ - (intercept_resamp + slope_resamp * df['SP500'].values)\n",
    "    z = y_ - gamma * df['SP500'].values\n",
    "    resid_rest_resampl = z.mean() - z\n",
    "    USSR = (res_resamp**2).sum()\n",
    "    RSSR = (resid_rest_resampl**2).sum()\n",
    "    \n",
    "    F = (RSSR - USSR)/(USSR/(len(z)-2))\n",
    "\n",
    "  \n",
    "    F_stats.append(F)"
   ]
  },
  {
   "cell_type": "code",
   "execution_count": 45,
   "metadata": {
    "ExecuteTime": {
     "end_time": "2020-01-28T01:09:32.073527Z",
     "start_time": "2020-01-28T01:09:31.788412Z"
    }
   },
   "outputs": [
    {
     "data": {
      "image/png": "[encoded data removed]",
      "text/plain": [
       "<Figure size 432x288 with 1 Axes>"
      ]
     },
     "metadata": {
      "needs_background": "light"
     },
     "output_type": "display_data"
    }
   ],
   "source": [
    "plt.hist(F_stats,bins=100,density=True);"
   ]
  },
  {
   "cell_type": "code",
   "execution_count": 46,
   "metadata": {
    "ExecuteTime": {
     "end_time": "2020-01-28T01:10:07.967925Z",
     "start_time": "2020-01-28T01:10:07.964874Z"
    }
   },
   "outputs": [],
   "source": [
    "t = np.linspace(0.01,1,10000)"
   ]
  },
  {
   "cell_type": "code",
   "execution_count": 47,
   "metadata": {
    "ExecuteTime": {
     "end_time": "2020-01-28T01:10:10.718057Z",
     "start_time": "2020-01-28T01:10:10.711025Z"
    }
   },
   "outputs": [],
   "source": [
    "F_stats.sort()"
   ]
  },
  {
   "cell_type": "code",
   "execution_count": 49,
   "metadata": {
    "ExecuteTime": {
     "end_time": "2020-01-28T01:10:28.166970Z",
     "start_time": "2020-01-28T01:10:28.000967Z"
    }
   },
   "outputs": [
    {
     "data": {
      "image/png": "[encoded data removed]",
      "text/plain": [
       "<Figure size 432x288 with 1 Axes>"
      ]
     },
     "metadata": {
      "needs_background": "light"
     },
     "output_type": "display_data"
    }
   ],
   "source": [
    "\n",
    "x = np.linspace(f.ppf(0.01, 1, 105),\n",
    "                f.ppf(0.999999, 1, 105), 100)\n",
    "\n",
    "fig, ax = plt.subplots(1,1)\n",
    "rv = f(1, 105)\n",
    "ax.plot(x, rv.cdf(x), 'k-', lw=2, label='F pdf');\n",
    "plt.step(F_stats[:10000],t,c='r',label='Empirical pdf');\n",
    "plt.hlines(0.90,0,35,colors='g')\n",
    "plt.vlines(4.478786,0,1,colors='b')\n",
    "ax.legend();\n",
    "plt.legend();"
   ]
  },
  {
   "cell_type": "code",
   "execution_count": 51,
   "metadata": {
    "ExecuteTime": {
     "end_time": "2020-01-27T15:41:33.861811Z",
     "start_time": "2020-01-27T15:41:33.743279Z"
    }
   },
   "outputs": [
    {
     "data": {
      "image/png": "[encoded data removed]",
      "text/plain": [
       "<Figure size 432x288 with 1 Axes>"
      ]
     },
     "metadata": {
      "needs_background": "light"
     },
     "output_type": "display_data"
    }
   ],
   "source": [
    "plt.step(t,F_stats[:10000],c='r');\n",
    "plt.hlines(4.478786,0,1,colors='b');"
   ]
  },
  {
   "cell_type": "code",
   "execution_count": null,
   "metadata": {},
   "outputs": [],
   "source": []
  }
 ],
 "metadata": {
  "kernelspec": {
   "display_name": "Python 3 (ipykernel)",
   "language": "python",
   "name": "python3"
  },
  "language_info": {
   "codemirror_mode": {
    "name": "ipython",
    "version": 3
   },
   "file_extension": ".py",
   "mimetype": "text/x-python",
   "name": "python",
   "nbconvert_exporter": "python",
   "pygments_lexer": "ipython3",
   "version": "3.10.4"
  },
  "latex_envs": {
   "LaTeX_envs_menu_present": true,
   "autoclose": false,
   "autocomplete": true,
   "bibliofile": "biblio.bib",
   "cite_by": "apalike",
   "current_citInitial": 1,
   "eqLabelWithNumbers": true,
   "eqNumInitial": 1,
   "hotkeys": {
    "equation": "Ctrl-E",
    "itemize": "Ctrl-I"
   },
   "labels_anchors": false,
   "latex_user_defs": false,
   "report_style_numbering": false,
   "user_envs_cfg": false
  }
 },
 "nbformat": 4,
 "nbformat_minor": 2
}
