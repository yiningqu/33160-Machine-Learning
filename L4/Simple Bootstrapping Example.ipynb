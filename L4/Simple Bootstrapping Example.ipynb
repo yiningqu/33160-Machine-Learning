{
 "cells": [
  {
   "cell_type": "code",
   "execution_count": 1,
   "metadata": {
    "ExecuteTime": {
     "end_time": "2020-01-27T00:29:43.729242Z",
     "start_time": "2020-01-27T00:29:43.323224Z"
    }
   },
   "outputs": [],
   "source": [
    "import matplotlib.pyplot as plt\n",
    "import numpy as np\n",
    "%matplotlib inline"
   ]
  },
  {
   "cell_type": "code",
   "execution_count": 2,
   "metadata": {
    "ExecuteTime": {
     "end_time": "2020-01-27T00:29:45.287679Z",
     "start_time": "2020-01-27T00:29:45.283678Z"
    }
   },
   "outputs": [],
   "source": [
    "X = np.array([-0.2322,0.0603,1.9935,0.5873,0.4529,-1.5701,-0.7856,-0.7313,-0.6444,2.2676])"
   ]
  },
  {
   "cell_type": "code",
   "execution_count": 3,
   "metadata": {
    "ExecuteTime": {
     "end_time": "2020-01-27T00:29:46.591316Z",
     "start_time": "2020-01-27T00:29:46.586273Z"
    }
   },
   "outputs": [],
   "source": [
    "X.sort()"
   ]
  },
  {
   "cell_type": "code",
   "execution_count": 4,
   "metadata": {
    "ExecuteTime": {
     "end_time": "2020-01-27T00:29:47.728275Z",
     "start_time": "2020-01-27T00:29:47.721272Z"
    }
   },
   "outputs": [
    {
     "data": {
      "text/plain": [
       "array([-1.5701, -0.7856, -0.7313, -0.6444, -0.2322,  0.0603,  0.4529,\n",
       "        0.5873,  1.9935,  2.2676])"
      ]
     },
     "execution_count": 4,
     "metadata": {},
     "output_type": "execute_result"
    }
   ],
   "source": [
    "X"
   ]
  },
  {
   "cell_type": "code",
   "execution_count": 5,
   "metadata": {},
   "outputs": [],
   "source": [
    "def cdf(x):\n",
    "    \n",
    "    u = []\n",
    "    for z in x:\n",
    "        for i in range(10):\n",
    "            if z < X[i]:\n",
    "                u.append(i/10.0)\n",
    "                break\n",
    "            elif z >= X[9]:\n",
    "                u.append(1.0)\n",
    "                break\n",
    "            else:\n",
    "                continue\n",
    "         \n",
    "    return u"
   ]
  },
  {
   "cell_type": "code",
   "execution_count": 6,
   "metadata": {
    "ExecuteTime": {
     "end_time": "2020-01-27T00:29:53.400258Z",
     "start_time": "2020-01-27T00:29:53.396259Z"
    }
   },
   "outputs": [],
   "source": [
    "p = np.linspace(-3,3,300)"
   ]
  },
  {
   "cell_type": "code",
   "execution_count": 8,
   "metadata": {},
   "outputs": [
    {
     "data": {
      "text/plain": [
       "array([-3.        , -2.97993311, -2.95986622, -2.93979933, -2.91973244,\n",
       "       -2.89966555, -2.87959866, -2.85953177, -2.83946488, -2.81939799,\n",
       "       -2.7993311 , -2.77926421, -2.75919732, -2.73913043, -2.71906355,\n",
       "       -2.69899666, -2.67892977, -2.65886288, -2.63879599, -2.6187291 ,\n",
       "       -2.59866221, -2.57859532, -2.55852843, -2.53846154, -2.51839465,\n",
       "       -2.49832776, -2.47826087, -2.45819398, -2.43812709, -2.4180602 ,\n",
       "       -2.39799331, -2.37792642, -2.35785953, -2.33779264, -2.31772575,\n",
       "       -2.29765886, -2.27759197, -2.25752508, -2.23745819, -2.2173913 ,\n",
       "       -2.19732441, -2.17725753, -2.15719064, -2.13712375, -2.11705686,\n",
       "       -2.09698997, -2.07692308, -2.05685619, -2.0367893 , -2.01672241,\n",
       "       -1.99665552, -1.97658863, -1.95652174, -1.93645485, -1.91638796,\n",
       "       -1.89632107, -1.87625418, -1.85618729, -1.8361204 , -1.81605351,\n",
       "       -1.79598662, -1.77591973, -1.75585284, -1.73578595, -1.71571906,\n",
       "       -1.69565217, -1.67558528, -1.65551839, -1.63545151, -1.61538462,\n",
       "       -1.59531773, -1.57525084, -1.55518395, -1.53511706, -1.51505017,\n",
       "       -1.49498328, -1.47491639, -1.4548495 , -1.43478261, -1.41471572,\n",
       "       -1.39464883, -1.37458194, -1.35451505, -1.33444816, -1.31438127,\n",
       "       -1.29431438, -1.27424749, -1.2541806 , -1.23411371, -1.21404682,\n",
       "       -1.19397993, -1.17391304, -1.15384615, -1.13377926, -1.11371237,\n",
       "       -1.09364548, -1.0735786 , -1.05351171, -1.03344482, -1.01337793,\n",
       "       -0.99331104, -0.97324415, -0.95317726, -0.93311037, -0.91304348,\n",
       "       -0.89297659, -0.8729097 , -0.85284281, -0.83277592, -0.81270903,\n",
       "       -0.79264214, -0.77257525, -0.75250836, -0.73244147, -0.71237458,\n",
       "       -0.69230769, -0.6722408 , -0.65217391, -0.63210702, -0.61204013,\n",
       "       -0.59197324, -0.57190635, -0.55183946, -0.53177258, -0.51170569,\n",
       "       -0.4916388 , -0.47157191, -0.45150502, -0.43143813, -0.41137124,\n",
       "       -0.39130435, -0.37123746, -0.35117057, -0.33110368, -0.31103679,\n",
       "       -0.2909699 , -0.27090301, -0.25083612, -0.23076923, -0.21070234,\n",
       "       -0.19063545, -0.17056856, -0.15050167, -0.13043478, -0.11036789,\n",
       "       -0.090301  , -0.07023411, -0.05016722, -0.03010033, -0.01003344,\n",
       "        0.01003344,  0.03010033,  0.05016722,  0.07023411,  0.090301  ,\n",
       "        0.11036789,  0.13043478,  0.15050167,  0.17056856,  0.19063545,\n",
       "        0.21070234,  0.23076923,  0.25083612,  0.27090301,  0.2909699 ,\n",
       "        0.31103679,  0.33110368,  0.35117057,  0.37123746,  0.39130435,\n",
       "        0.41137124,  0.43143813,  0.45150502,  0.47157191,  0.4916388 ,\n",
       "        0.51170569,  0.53177258,  0.55183946,  0.57190635,  0.59197324,\n",
       "        0.61204013,  0.63210702,  0.65217391,  0.6722408 ,  0.69230769,\n",
       "        0.71237458,  0.73244147,  0.75250836,  0.77257525,  0.79264214,\n",
       "        0.81270903,  0.83277592,  0.85284281,  0.8729097 ,  0.89297659,\n",
       "        0.91304348,  0.93311037,  0.95317726,  0.97324415,  0.99331104,\n",
       "        1.01337793,  1.03344482,  1.05351171,  1.0735786 ,  1.09364548,\n",
       "        1.11371237,  1.13377926,  1.15384615,  1.17391304,  1.19397993,\n",
       "        1.21404682,  1.23411371,  1.2541806 ,  1.27424749,  1.29431438,\n",
       "        1.31438127,  1.33444816,  1.35451505,  1.37458194,  1.39464883,\n",
       "        1.41471572,  1.43478261,  1.4548495 ,  1.47491639,  1.49498328,\n",
       "        1.51505017,  1.53511706,  1.55518395,  1.57525084,  1.59531773,\n",
       "        1.61538462,  1.63545151,  1.65551839,  1.67558528,  1.69565217,\n",
       "        1.71571906,  1.73578595,  1.75585284,  1.77591973,  1.79598662,\n",
       "        1.81605351,  1.8361204 ,  1.85618729,  1.87625418,  1.89632107,\n",
       "        1.91638796,  1.93645485,  1.95652174,  1.97658863,  1.99665552,\n",
       "        2.01672241,  2.0367893 ,  2.05685619,  2.07692308,  2.09698997,\n",
       "        2.11705686,  2.13712375,  2.15719064,  2.17725753,  2.19732441,\n",
       "        2.2173913 ,  2.23745819,  2.25752508,  2.27759197,  2.29765886,\n",
       "        2.31772575,  2.33779264,  2.35785953,  2.37792642,  2.39799331,\n",
       "        2.4180602 ,  2.43812709,  2.45819398,  2.47826087,  2.49832776,\n",
       "        2.51839465,  2.53846154,  2.55852843,  2.57859532,  2.59866221,\n",
       "        2.6187291 ,  2.63879599,  2.65886288,  2.67892977,  2.69899666,\n",
       "        2.71906355,  2.73913043,  2.75919732,  2.77926421,  2.7993311 ,\n",
       "        2.81939799,  2.83946488,  2.85953177,  2.87959866,  2.89966555,\n",
       "        2.91973244,  2.93979933,  2.95986622,  2.97993311,  3.        ])"
      ]
     },
     "execution_count": 8,
     "metadata": {},
     "output_type": "execute_result"
    }
   ],
   "source": [
    "p"
   ]
  },
  {
   "cell_type": "code",
   "execution_count": 7,
   "metadata": {},
   "outputs": [
    {
     "data": {
      "image/png": "[encoded data removed]",
      "text/plain": [
       "<Figure size 432x288 with 1 Axes>"
      ]
     },
     "metadata": {
      "needs_background": "light"
     },
     "output_type": "display_data"
    }
   ],
   "source": [
    "plt.plot(p,cdf(p));"
   ]
  },
  {
   "cell_type": "code",
   "execution_count": 9,
   "metadata": {
    "ExecuteTime": {
     "end_time": "2020-01-27T00:30:00.531751Z",
     "start_time": "2020-01-27T00:30:00.337235Z"
    }
   },
   "outputs": [
    {
     "data": {
      "image/png": "[encoded data removed]",
      "text/plain": [
       "<Figure size 432x288 with 1 Axes>"
      ]
     },
     "metadata": {
      "needs_background": "light"
     },
     "output_type": "display_data"
    }
   ],
   "source": [
    "plt.plot(cdf(p),p);"
   ]
  },
  {
   "cell_type": "code",
   "execution_count": null,
   "metadata": {
    "ExecuteTime": {
     "end_time": "2020-01-27T00:30:06.275322Z",
     "start_time": "2020-01-27T00:30:06.270319Z"
    }
   },
   "outputs": [],
   "source": [
    "def cdf_inv(x):\n",
    "    for i in range(10):\n",
    "        if x < (i+1)/10:\n",
    "            return X[i]\n",
    "    "
   ]
  },
  {
   "cell_type": "code",
   "execution_count": null,
   "metadata": {
    "ExecuteTime": {
     "end_time": "2020-01-27T00:30:09.053793Z",
     "start_time": "2020-01-27T00:30:09.047786Z"
    }
   },
   "outputs": [],
   "source": [
    "p_1 = np.random.uniform(0,1,10)"
   ]
  },
  {
   "cell_type": "code",
   "execution_count": null,
   "metadata": {
    "ExecuteTime": {
     "end_time": "2020-01-27T00:30:15.980784Z",
     "start_time": "2020-01-27T00:30:15.976787Z"
    }
   },
   "outputs": [],
   "source": [
    "sample = [cdf_inv(t) for t in p_1]"
   ]
  },
  {
   "cell_type": "code",
   "execution_count": null,
   "metadata": {
    "ExecuteTime": {
     "end_time": "2020-01-27T00:30:20.838862Z",
     "start_time": "2020-01-27T00:30:20.833863Z"
    }
   },
   "outputs": [],
   "source": [
    "sample"
   ]
  },
  {
   "cell_type": "code",
   "execution_count": null,
   "metadata": {},
   "outputs": [],
   "source": [
    "X[np.random.choice(10,10)]"
   ]
  },
  {
   "cell_type": "code",
   "execution_count": null,
   "metadata": {},
   "outputs": [],
   "source": []
  },
  {
   "cell_type": "code",
   "execution_count": null,
   "metadata": {},
   "outputs": [],
   "source": []
  }
 ],
 "metadata": {
  "kernelspec": {
   "display_name": "Python 3 (ipykernel)",
   "language": "python",
   "name": "python3"
  },
  "language_info": {
   "codemirror_mode": {
    "name": "ipython",
    "version": 3
   },
   "file_extension": ".py",
   "mimetype": "text/x-python",
   "name": "python",
   "nbconvert_exporter": "python",
   "pygments_lexer": "ipython3",
   "version": "3.10.4"
  },
  "latex_envs": {
   "LaTeX_envs_menu_present": true,
   "autoclose": false,
   "autocomplete": true,
   "bibliofile": "biblio.bib",
   "cite_by": "apalike",
   "current_citInitial": 1,
   "eqLabelWithNumbers": true,
   "eqNumInitial": 1,
   "hotkeys": {
    "equation": "Ctrl-E",
    "itemize": "Ctrl-I"
   },
   "labels_anchors": false,
   "latex_user_defs": false,
   "report_style_numbering": false,
   "user_envs_cfg": false
  }
 },
 "nbformat": 4,
 "nbformat_minor": 2
}
