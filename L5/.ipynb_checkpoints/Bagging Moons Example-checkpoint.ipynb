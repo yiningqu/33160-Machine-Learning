{
 "cells": [
  {
   "cell_type": "code",
   "execution_count": 1,
   "metadata": {
    "ExecuteTime": {
     "end_time": "2020-09-08T17:17:19.317544Z",
     "start_time": "2020-09-08T17:17:13.317562Z"
    }
   },
   "outputs": [],
   "source": [
    "from sklearn.datasets import make_classification,make_moons\n",
    "import numpy as np\n",
    "import matplotlib.pyplot as plt\n",
    "from collections import Counter"
   ]
  },
  {
   "cell_type": "code",
   "execution_count": 2,
   "metadata": {
    "ExecuteTime": {
     "end_time": "2020-01-28T01:16:21.433783Z",
     "start_time": "2020-01-28T01:16:21.430779Z"
    }
   },
   "outputs": [],
   "source": [
    "N = 20"
   ]
  },
  {
   "cell_type": "code",
   "execution_count": 3,
   "metadata": {
    "ExecuteTime": {
     "end_time": "2020-01-28T01:16:43.016457Z",
     "start_time": "2020-01-28T01:16:43.009451Z"
    }
   },
   "outputs": [],
   "source": [
    "X,y = make_moons(n_samples=N,noise=0.5)"
   ]
  },
  {
   "cell_type": "code",
   "execution_count": 4,
   "metadata": {
    "ExecuteTime": {
     "end_time": "2020-01-28T01:16:53.545645Z",
     "start_time": "2020-01-28T01:16:53.399681Z"
    }
   },
   "outputs": [
    {
     "data": {
      "image/png": "[encoded data removed]",
      "text/plain": [
       "<Figure size 640x480 with 1 Axes>"
      ]
     },
     "metadata": {},
     "output_type": "display_data"
    }
   ],
   "source": [
    "plt.scatter(X[:,0],X[:,1],c=y);"
   ]
  },
  {
   "cell_type": "code",
   "execution_count": 5,
   "metadata": {
    "ExecuteTime": {
     "end_time": "2020-01-28T01:17:46.103804Z",
     "start_time": "2020-01-28T01:17:45.909634Z"
    }
   },
   "outputs": [],
   "source": [
    "from sklearn.tree import DecisionTreeClassifier"
   ]
  },
  {
   "cell_type": "code",
   "execution_count": 6,
   "metadata": {
    "ExecuteTime": {
     "end_time": "2020-01-28T01:17:50.206559Z",
     "start_time": "2020-01-28T01:17:50.198559Z"
    }
   },
   "outputs": [
    {
     "data": {
      "text/html": [
       "<style>#sk-container-id-1 {color: black;}#sk-container-id-1 pre{padding: 0;}#sk-container-id-1 div.sk-toggleable {background-color: white;}#sk-container-id-1 label.sk-toggleable__label {cursor: pointer;display: block;width: 100%;margin-bottom: 0;padding: 0.3em;box-sizing: border-box;text-align: center;}#sk-container-id-1 label.sk-toggleable__label-arrow:before {content: \"▸\";float: left;margin-right: 0.25em;color: #696969;}#sk-container-id-1 label.sk-toggleable__label-arrow:hover:before {color: black;}#sk-container-id-1 div.sk-estimator:hover label.sk-toggleable__label-arrow:before {color: black;}#sk-container-id-1 div.sk-toggleable__content {max-height: 0;max-width: 0;overflow: hidden;text-align: left;background-color: #f0f8ff;}#sk-container-id-1 div.sk-toggleable__content pre {margin: 0.2em;color: black;border-radius: 0.25em;background-color: #f0f8ff;}#sk-container-id-1 input.sk-toggleable__control:checked~div.sk-toggleable__content {max-height: 200px;max-width: 100%;overflow: auto;}#sk-container-id-1 input.sk-toggleable__control:checked~label.sk-toggleable__label-arrow:before {content: \"▾\";}#sk-container-id-1 div.sk-estimator input.sk-toggleable__control:checked~label.sk-toggleable__label {background-color: #d4ebff;}#sk-container-id-1 div.sk-label input.sk-toggleable__control:checked~label.sk-toggleable__label {background-color: #d4ebff;}#sk-container-id-1 input.sk-hidden--visually {border: 0;clip: rect(1px 1px 1px 1px);clip: rect(1px, 1px, 1px, 1px);height: 1px;margin: -1px;overflow: hidden;padding: 0;position: absolute;width: 1px;}#sk-container-id-1 div.sk-estimator {font-family: monospace;background-color: #f0f8ff;border: 1px dotted black;border-radius: 0.25em;box-sizing: border-box;margin-bottom: 0.5em;}#sk-container-id-1 div.sk-estimator:hover {background-color: #d4ebff;}#sk-container-id-1 div.sk-parallel-item::after {content: \"\";width: 100%;border-bottom: 1px solid gray;flex-grow: 1;}#sk-container-id-1 div.sk-label:hover label.sk-toggleable__label {background-color: #d4ebff;}#sk-container-id-1 div.sk-serial::before {content: \"\";position: absolute;border-left: 1px solid gray;box-sizing: border-box;top: 0;bottom: 0;left: 50%;z-index: 0;}#sk-container-id-1 div.sk-serial {display: flex;flex-direction: column;align-items: center;background-color: white;padding-right: 0.2em;padding-left: 0.2em;position: relative;}#sk-container-id-1 div.sk-item {position: relative;z-index: 1;}#sk-container-id-1 div.sk-parallel {display: flex;align-items: stretch;justify-content: center;background-color: white;position: relative;}#sk-container-id-1 div.sk-item::before, #sk-container-id-1 div.sk-parallel-item::before {content: \"\";position: absolute;border-left: 1px solid gray;box-sizing: border-box;top: 0;bottom: 0;left: 50%;z-index: -1;}#sk-container-id-1 div.sk-parallel-item {display: flex;flex-direction: column;z-index: 1;position: relative;background-color: white;}#sk-container-id-1 div.sk-parallel-item:first-child::after {align-self: flex-end;width: 50%;}#sk-container-id-1 div.sk-parallel-item:last-child::after {align-self: flex-start;width: 50%;}#sk-container-id-1 div.sk-parallel-item:only-child::after {width: 0;}#sk-container-id-1 div.sk-dashed-wrapped {border: 1px dashed gray;margin: 0 0.4em 0.5em 0.4em;box-sizing: border-box;padding-bottom: 0.4em;background-color: white;}#sk-container-id-1 div.sk-label label {font-family: monospace;font-weight: bold;display: inline-block;line-height: 1.2em;}#sk-container-id-1 div.sk-label-container {text-align: center;}#sk-container-id-1 div.sk-container {/* jupyter's `normalize.less` sets `[hidden] { display: none; }` but bootstrap.min.css set `[hidden] { display: none !important; }` so we also need the `!important` here to be able to override the default hidden behavior on the sphinx rendered scikit-learn.org. See: https://github.com/scikit-learn/scikit-learn/issues/21755 */display: inline-block !important;position: relative;}#sk-container-id-1 div.sk-text-repr-fallback {display: none;}</style><div id=\"sk-container-id-1\" class=\"sk-top-container\"><div class=\"sk-text-repr-fallback\"><pre>DecisionTreeClassifier()</pre><b>In a Jupyter environment, please rerun this cell to show the HTML representation or trust the notebook. <br />On GitHub, the HTML representation is unable to render, please try loading this page with nbviewer.org.</b></div><div class=\"sk-container\" hidden><div class=\"sk-item\"><div class=\"sk-estimator sk-toggleable\"><input class=\"sk-toggleable__control sk-hidden--visually\" id=\"sk-estimator-id-1\" type=\"checkbox\" checked><label for=\"sk-estimator-id-1\" class=\"sk-toggleable__label sk-toggleable__label-arrow\">DecisionTreeClassifier</label><div class=\"sk-toggleable__content\"><pre>DecisionTreeClassifier()</pre></div></div></div></div></div>"
      ],
      "text/plain": [
       "DecisionTreeClassifier()"
      ]
     },
     "execution_count": 6,
     "metadata": {},
     "output_type": "execute_result"
    }
   ],
   "source": [
    "t_0 = DecisionTreeClassifier()\n",
    "t_0.fit(X,y)"
   ]
  },
  {
   "cell_type": "code",
   "execution_count": 7,
   "metadata": {
    "ExecuteTime": {
     "end_time": "2020-01-28T01:18:24.560953Z",
     "start_time": "2020-01-28T01:18:24.551952Z"
    }
   },
   "outputs": [],
   "source": [
    "def plot_decision_boundary(data,labels,clf):\n",
    "    plot_step = 0.02\n",
    "    x_min, x_max = data[:,0].min() -1, data[:,0].max() + 1\n",
    "    y_min,y_max = data[:,1].min() -1 , data[:,1].max() + 1\n",
    "\n",
    "    xx,yy = np.meshgrid(np.arange(x_min,x_max,plot_step),\n",
    "                   np.arange(y_min,y_max,plot_step))\n",
    "    Z = clf.predict(np.c_[xx.ravel(),yy.ravel()])\n",
    "    Z = Z.reshape(xx.shape)\n",
    "    cs = plt.contourf(xx,yy,Z,cmap='cool')\n",
    "\n",
    "    plt.xlabel('x')\n",
    "    plt.ylabel('y')\n",
    "    plt.title('Decision Boundary')\n",
    "\n",
    "    plt.scatter(data[:,0],data[:,1],c=labels,cmap='hot',s=100)\n",
    "    plt.show()"
   ]
  },
  {
   "cell_type": "code",
   "execution_count": 97,
   "metadata": {
    "ExecuteTime": {
     "end_time": "2020-01-28T01:18:54.019720Z",
     "start_time": "2020-01-28T01:18:53.861727Z"
    }
   },
   "outputs": [
    {
     "data": {
      "image/png": "[encoded data removed]",
      "text/plain": [
       "<Figure size 432x288 with 1 Axes>"
      ]
     },
     "metadata": {
      "needs_background": "light"
     },
     "output_type": "display_data"
    }
   ],
   "source": [
    "plot_decision_boundary(X,y,t_0)"
   ]
  },
  {
   "cell_type": "code",
   "execution_count": 8,
   "metadata": {
    "ExecuteTime": {
     "end_time": "2020-01-28T01:23:03.934502Z",
     "start_time": "2020-01-28T01:23:03.930504Z"
    }
   },
   "outputs": [],
   "source": [
    "def make_boot_strapped_tree():\n",
    "    sample = np.random.choice(range(N),N)\n",
    "    X_resampled = X[sample]\n",
    "    y_resampled = y[sample]\n",
    "    t = DecisionTreeClassifier()\n",
    "    t.fit(X_resampled,y_resampled)\n",
    "    return t"
   ]
  },
  {
   "cell_type": "code",
   "execution_count": null,
   "metadata": {},
   "outputs": [],
   "source": []
  },
  {
   "cell_type": "code",
   "execution_count": 9,
   "metadata": {},
   "outputs": [
    {
     "data": {
      "text/plain": [
       "array([[ 0.79405498,  0.15844875],\n",
       "       [ 0.77463131, -0.20800151],\n",
       "       [ 0.47961344, -0.88991193],\n",
       "       [-0.44114953, -0.56455187],\n",
       "       [ 0.47961344, -0.88991193],\n",
       "       [ 1.07906951,  0.31278606],\n",
       "       [ 0.77463131, -0.20800151],\n",
       "       [ 0.88001294,  0.25036532],\n",
       "       [-0.52013465,  1.47627311],\n",
       "       [ 0.88001294,  0.25036532],\n",
       "       [-0.44114953, -0.56455187],\n",
       "       [ 1.37559923,  0.78158803],\n",
       "       [ 1.37387807, -1.02964235],\n",
       "       [ 0.18387199, -0.27927254],\n",
       "       [ 1.07906951,  0.31278606],\n",
       "       [ 0.88001294,  0.25036532],\n",
       "       [-0.72500744,  0.22443027],\n",
       "       [-0.44114953, -0.56455187],\n",
       "       [ 1.93351302, -0.12826233],\n",
       "       [-0.44114953, -0.56455187]])"
      ]
     },
     "execution_count": 9,
     "metadata": {},
     "output_type": "execute_result"
    }
   ],
   "source": [
    "sample = np.random.choice(range(N),N)\n",
    "X[sample]"
   ]
  },
  {
   "cell_type": "code",
   "execution_count": 10,
   "metadata": {},
   "outputs": [
    {
     "data": {
      "text/plain": [
       "array([ 3, 16,  9, 13, 12,  1, 18, 14, 12,  5,  1, 18, 10, 16, 18, 11, 19,\n",
       "       12,  3,  8])"
      ]
     },
     "execution_count": 10,
     "metadata": {},
     "output_type": "execute_result"
    }
   ],
   "source": [
    "np.random.choice(range(N),N)"
   ]
  },
  {
   "cell_type": "code",
   "execution_count": null,
   "metadata": {},
   "outputs": [],
   "source": []
  },
  {
   "cell_type": "code",
   "execution_count": 11,
   "metadata": {
    "ExecuteTime": {
     "end_time": "2020-01-28T01:23:17.236318Z",
     "start_time": "2020-01-28T01:23:17.231335Z"
    }
   },
   "outputs": [],
   "source": [
    "t = make_boot_strapped_tree()"
   ]
  },
  {
   "cell_type": "code",
   "execution_count": 12,
   "metadata": {
    "ExecuteTime": {
     "end_time": "2020-01-28T01:24:01.343709Z",
     "start_time": "2020-01-28T01:24:01.170820Z"
    }
   },
   "outputs": [
    {
     "data": {
      "image/png": "[encoded data removed]",
      "text/plain": [
       "<Figure size 640x480 with 1 Axes>"
      ]
     },
     "metadata": {},
     "output_type": "display_data"
    }
   ],
   "source": [
    "plot_decision_boundary(X,y,t)"
   ]
  },
  {
   "cell_type": "code",
   "execution_count": 13,
   "metadata": {
    "ExecuteTime": {
     "end_time": "2020-01-28T01:28:54.387481Z",
     "start_time": "2020-01-28T01:28:54.378461Z"
    }
   },
   "outputs": [],
   "source": [
    "class bt_clf():\n",
    "    \n",
    "    def __init__(self,T):\n",
    "        self.T = T\n",
    "        \n",
    "    def predict(self,X):\n",
    "        p = np.array([t.predict(X) for t in self.T])\n",
    "        return np.array([Counter(p_).most_common(1)[0][0] for p_ in p.T])\n"
   ]
  },
  {
   "cell_type": "code",
   "execution_count": 14,
   "metadata": {
    "ExecuteTime": {
     "end_time": "2020-01-28T01:29:35.342887Z",
     "start_time": "2020-01-28T01:29:35.325914Z"
    }
   },
   "outputs": [],
   "source": [
    "T = [make_boot_strapped_tree() for _ in range(50)]"
   ]
  },
  {
   "cell_type": "code",
   "execution_count": 15,
   "metadata": {
    "ExecuteTime": {
     "end_time": "2020-01-28T01:29:57.242658Z",
     "start_time": "2020-01-28T01:29:57.239659Z"
    }
   },
   "outputs": [],
   "source": [
    "b = bt_clf(T)"
   ]
  },
  {
   "cell_type": "code",
   "execution_count": 16,
   "metadata": {
    "ExecuteTime": {
     "end_time": "2020-01-28T01:31:11.547822Z",
     "start_time": "2020-01-28T01:31:10.064228Z"
    }
   },
   "outputs": [
    {
     "data": {
      "image/png": "[encoded data removed]",
      "text/plain": [
       "<Figure size 640x480 with 1 Axes>"
      ]
     },
     "metadata": {},
     "output_type": "display_data"
    }
   ],
   "source": [
    "plot_decision_boundary(X,y,b)"
   ]
  },
  {
   "cell_type": "code",
   "execution_count": 17,
   "metadata": {
    "ExecuteTime": {
     "end_time": "2020-01-28T01:31:52.178761Z",
     "start_time": "2020-01-28T01:31:52.133714Z"
    }
   },
   "outputs": [],
   "source": [
    "from sklearn.ensemble import BaggingClassifier"
   ]
  },
  {
   "cell_type": "code",
   "execution_count": 18,
   "metadata": {
    "ExecuteTime": {
     "end_time": "2020-01-28T01:32:00.077405Z",
     "start_time": "2020-01-28T01:32:00.073445Z"
    }
   },
   "outputs": [],
   "source": [
    "bt = BaggingClassifier(t_0,n_estimators=50)"
   ]
  },
  {
   "cell_type": "code",
   "execution_count": 19,
   "metadata": {
    "ExecuteTime": {
     "end_time": "2020-01-28T01:32:08.746771Z",
     "start_time": "2020-01-28T01:32:08.691785Z"
    }
   },
   "outputs": [
    {
     "data": {
      "text/html": [
       "<style>#sk-container-id-2 {color: black;}#sk-container-id-2 pre{padding: 0;}#sk-container-id-2 div.sk-toggleable {background-color: white;}#sk-container-id-2 label.sk-toggleable__label {cursor: pointer;display: block;width: 100%;margin-bottom: 0;padding: 0.3em;box-sizing: border-box;text-align: center;}#sk-container-id-2 label.sk-toggleable__label-arrow:before {content: \"▸\";float: left;margin-right: 0.25em;color: #696969;}#sk-container-id-2 label.sk-toggleable__label-arrow:hover:before {color: black;}#sk-container-id-2 div.sk-estimator:hover label.sk-toggleable__label-arrow:before {color: black;}#sk-container-id-2 div.sk-toggleable__content {max-height: 0;max-width: 0;overflow: hidden;text-align: left;background-color: #f0f8ff;}#sk-container-id-2 div.sk-toggleable__content pre {margin: 0.2em;color: black;border-radius: 0.25em;background-color: #f0f8ff;}#sk-container-id-2 input.sk-toggleable__control:checked~div.sk-toggleable__content {max-height: 200px;max-width: 100%;overflow: auto;}#sk-container-id-2 input.sk-toggleable__control:checked~label.sk-toggleable__label-arrow:before {content: \"▾\";}#sk-container-id-2 div.sk-estimator input.sk-toggleable__control:checked~label.sk-toggleable__label {background-color: #d4ebff;}#sk-container-id-2 div.sk-label input.sk-toggleable__control:checked~label.sk-toggleable__label {background-color: #d4ebff;}#sk-container-id-2 input.sk-hidden--visually {border: 0;clip: rect(1px 1px 1px 1px);clip: rect(1px, 1px, 1px, 1px);height: 1px;margin: -1px;overflow: hidden;padding: 0;position: absolute;width: 1px;}#sk-container-id-2 div.sk-estimator {font-family: monospace;background-color: #f0f8ff;border: 1px dotted black;border-radius: 0.25em;box-sizing: border-box;margin-bottom: 0.5em;}#sk-container-id-2 div.sk-estimator:hover {background-color: #d4ebff;}#sk-container-id-2 div.sk-parallel-item::after {content: \"\";width: 100%;border-bottom: 1px solid gray;flex-grow: 1;}#sk-container-id-2 div.sk-label:hover label.sk-toggleable__label {background-color: #d4ebff;}#sk-container-id-2 div.sk-serial::before {content: \"\";position: absolute;border-left: 1px solid gray;box-sizing: border-box;top: 0;bottom: 0;left: 50%;z-index: 0;}#sk-container-id-2 div.sk-serial {display: flex;flex-direction: column;align-items: center;background-color: white;padding-right: 0.2em;padding-left: 0.2em;position: relative;}#sk-container-id-2 div.sk-item {position: relative;z-index: 1;}#sk-container-id-2 div.sk-parallel {display: flex;align-items: stretch;justify-content: center;background-color: white;position: relative;}#sk-container-id-2 div.sk-item::before, #sk-container-id-2 div.sk-parallel-item::before {content: \"\";position: absolute;border-left: 1px solid gray;box-sizing: border-box;top: 0;bottom: 0;left: 50%;z-index: -1;}#sk-container-id-2 div.sk-parallel-item {display: flex;flex-direction: column;z-index: 1;position: relative;background-color: white;}#sk-container-id-2 div.sk-parallel-item:first-child::after {align-self: flex-end;width: 50%;}#sk-container-id-2 div.sk-parallel-item:last-child::after {align-self: flex-start;width: 50%;}#sk-container-id-2 div.sk-parallel-item:only-child::after {width: 0;}#sk-container-id-2 div.sk-dashed-wrapped {border: 1px dashed gray;margin: 0 0.4em 0.5em 0.4em;box-sizing: border-box;padding-bottom: 0.4em;background-color: white;}#sk-container-id-2 div.sk-label label {font-family: monospace;font-weight: bold;display: inline-block;line-height: 1.2em;}#sk-container-id-2 div.sk-label-container {text-align: center;}#sk-container-id-2 div.sk-container {/* jupyter's `normalize.less` sets `[hidden] { display: none; }` but bootstrap.min.css set `[hidden] { display: none !important; }` so we also need the `!important` here to be able to override the default hidden behavior on the sphinx rendered scikit-learn.org. See: https://github.com/scikit-learn/scikit-learn/issues/21755 */display: inline-block !important;position: relative;}#sk-container-id-2 div.sk-text-repr-fallback {display: none;}</style><div id=\"sk-container-id-2\" class=\"sk-top-container\"><div class=\"sk-text-repr-fallback\"><pre>BaggingClassifier(estimator=DecisionTreeClassifier(), n_estimators=50)</pre><b>In a Jupyter environment, please rerun this cell to show the HTML representation or trust the notebook. <br />On GitHub, the HTML representation is unable to render, please try loading this page with nbviewer.org.</b></div><div class=\"sk-container\" hidden><div class=\"sk-item sk-dashed-wrapped\"><div class=\"sk-label-container\"><div class=\"sk-label sk-toggleable\"><input class=\"sk-toggleable__control sk-hidden--visually\" id=\"sk-estimator-id-2\" type=\"checkbox\" ><label for=\"sk-estimator-id-2\" class=\"sk-toggleable__label sk-toggleable__label-arrow\">BaggingClassifier</label><div class=\"sk-toggleable__content\"><pre>BaggingClassifier(estimator=DecisionTreeClassifier(), n_estimators=50)</pre></div></div></div><div class=\"sk-parallel\"><div class=\"sk-parallel-item\"><div class=\"sk-item\"><div class=\"sk-label-container\"><div class=\"sk-label sk-toggleable\"><input class=\"sk-toggleable__control sk-hidden--visually\" id=\"sk-estimator-id-3\" type=\"checkbox\" ><label for=\"sk-estimator-id-3\" class=\"sk-toggleable__label sk-toggleable__label-arrow\">estimator: DecisionTreeClassifier</label><div class=\"sk-toggleable__content\"><pre>DecisionTreeClassifier()</pre></div></div></div><div class=\"sk-serial\"><div class=\"sk-item\"><div class=\"sk-estimator sk-toggleable\"><input class=\"sk-toggleable__control sk-hidden--visually\" id=\"sk-estimator-id-4\" type=\"checkbox\" ><label for=\"sk-estimator-id-4\" class=\"sk-toggleable__label sk-toggleable__label-arrow\">DecisionTreeClassifier</label><div class=\"sk-toggleable__content\"><pre>DecisionTreeClassifier()</pre></div></div></div></div></div></div></div></div></div></div>"
      ],
      "text/plain": [
       "BaggingClassifier(estimator=DecisionTreeClassifier(), n_estimators=50)"
      ]
     },
     "execution_count": 19,
     "metadata": {},
     "output_type": "execute_result"
    }
   ],
   "source": [
    "bt.fit(X,y)"
   ]
  },
  {
   "cell_type": "code",
   "execution_count": 20,
   "metadata": {
    "ExecuteTime": {
     "end_time": "2020-01-28T01:32:13.721701Z",
     "start_time": "2020-01-28T01:32:13.301053Z"
    }
   },
   "outputs": [
    {
     "data": {
      "image/png": "[encoded data removed]",
      "text/plain": [
       "<Figure size 640x480 with 1 Axes>"
      ]
     },
     "metadata": {},
     "output_type": "display_data"
    }
   ],
   "source": [
    "plot_decision_boundary(X,y,bt)"
   ]
  },
  {
   "cell_type": "code",
   "execution_count": 21,
   "metadata": {
    "ExecuteTime": {
     "end_time": "2020-01-27T15:51:11.283288Z",
     "start_time": "2020-01-27T15:51:11.279244Z"
    }
   },
   "outputs": [],
   "source": [
    "t = make_boot_strapped_tree()"
   ]
  },
  {
   "cell_type": "code",
   "execution_count": 22,
   "metadata": {
    "ExecuteTime": {
     "end_time": "2020-01-27T15:51:15.042294Z",
     "start_time": "2020-01-27T15:51:15.005254Z"
    }
   },
   "outputs": [],
   "source": [
    "import graphviz\n",
    "from sklearn import tree"
   ]
  },
  {
   "cell_type": "code",
   "execution_count": 23,
   "metadata": {
    "ExecuteTime": {
     "end_time": "2020-01-27T15:53:54.050102Z",
     "start_time": "2020-01-27T15:53:53.824002Z"
    }
   },
   "outputs": [
    {
     "data": {
      "text/plain": [
       "'tree_3.pdf'"
      ]
     },
     "execution_count": 23,
     "metadata": {},
     "output_type": "execute_result"
    }
   ],
   "source": [
    "dot_data = tree.export_graphviz(t,out_file=None)\n",
    "graph = graphviz.Source(dot_data)\n",
    "graph.render('tree_3')"
   ]
  },
  {
   "cell_type": "code",
   "execution_count": 89,
   "metadata": {},
   "outputs": [
    {
     "data": {
      "image/png": "[encoded data removed]",
      "text/plain": [
       "<Figure size 432x288 with 1 Axes>"
      ]
     },
     "metadata": {
      "needs_background": "light"
     },
     "output_type": "display_data"
    }
   ],
   "source": [
    "plot_decision_boundary(X,y,t)"
   ]
  },
  {
   "cell_type": "code",
   "execution_count": 24,
   "metadata": {
    "ExecuteTime": {
     "end_time": "2020-01-27T15:57:19.125421Z",
     "start_time": "2020-01-27T15:57:19.120464Z"
    }
   },
   "outputs": [],
   "source": [
    "def make_boot_strapped_tree_and_samples():\n",
    "    sample = np.random.choice(range(N),N)\n",
    "    X_resampled = X[sample]\n",
    "    y_resampled = y[sample]\n",
    "    t = DecisionTreeClassifier()\n",
    "    t.fit(X_resampled,y_resampled)\n",
    "    return t, sample"
   ]
  },
  {
   "cell_type": "code",
   "execution_count": 25,
   "metadata": {
    "ExecuteTime": {
     "end_time": "2020-01-27T15:57:32.476712Z",
     "start_time": "2020-01-27T15:57:32.469893Z"
    }
   },
   "outputs": [],
   "source": [
    " S = np.array([make_boot_strapped_tree_and_samples() for _ in range(5)],dtype=object)"
   ]
  },
  {
   "cell_type": "code",
   "execution_count": 26,
   "metadata": {
    "ExecuteTime": {
     "end_time": "2020-01-27T15:57:43.778849Z",
     "start_time": "2020-01-27T15:57:43.771841Z"
    }
   },
   "outputs": [],
   "source": [
    "samples = S[:,1]"
   ]
  },
  {
   "cell_type": "code",
   "execution_count": 27,
   "metadata": {},
   "outputs": [
    {
     "data": {
      "text/plain": [
       "array([array([ 6,  2,  8,  5,  0,  2,  4, 19,  6, 18,  7,  2, 19,  0, 12, 18, 17,\n",
       "               3,  4, 10])                                                       ,\n",
       "       array([10,  5, 15, 14, 10,  4,  7, 13,  4, 19, 18,  2,  9,  2, 10,  1, 12,\n",
       "              11,  9,  4])                                                       ,\n",
       "       array([ 9, 15, 18, 13,  4, 15,  3,  8,  3, 12, 15,  0,  5,  6,  5, 13,  0,\n",
       "               0, 17,  6])                                                       ,\n",
       "       array([ 4,  1,  6, 16,  1, 10, 15,  2,  9,  9, 13, 18, 13,  2, 13, 17,  6,\n",
       "               0, 15,  0])                                                       ,\n",
       "       array([11, 14,  1,  2,  2, 17, 13,  4, 16, 17, 10,  0,  5,  8,  4, 11, 11,\n",
       "              15,  7,  7])                                                       ],\n",
       "      dtype=object)"
      ]
     },
     "execution_count": 27,
     "metadata": {},
     "output_type": "execute_result"
    }
   ],
   "source": [
    "samples"
   ]
  },
  {
   "cell_type": "code",
   "execution_count": 28,
   "metadata": {
    "ExecuteTime": {
     "end_time": "2020-01-27T15:59:02.743096Z",
     "start_time": "2020-01-27T15:59:02.724235Z"
    }
   },
   "outputs": [],
   "source": [
    "predictions = []\n",
    "for i in range(N):\n",
    "    for j in range(5):\n",
    "        if i not in S[:,1][j]:\n",
    "            predictions.append([i,j,S[:,0][j].predict([X[i]]).item(),y[i]])            "
   ]
  },
  {
   "cell_type": "code",
   "execution_count": 30,
   "metadata": {
    "ExecuteTime": {
     "end_time": "2020-01-27T15:59:05.584488Z",
     "start_time": "2020-01-27T15:59:05.570543Z"
    }
   },
   "outputs": [],
   "source": [
    "predictions = np.array(predictions)"
   ]
  },
  {
   "cell_type": "code",
   "execution_count": 31,
   "metadata": {},
   "outputs": [
    {
     "data": {
      "text/plain": [
       "array([[ 0,  1,  1,  1],\n",
       "       [ 1,  0,  1,  1],\n",
       "       [ 1,  2,  1,  1],\n",
       "       [ 2,  2,  0,  0],\n",
       "       [ 3,  1,  1,  1],\n",
       "       [ 3,  3,  1,  1],\n",
       "       [ 3,  4,  1,  1],\n",
       "       [ 5,  3,  1,  1],\n",
       "       [ 6,  1,  0,  0],\n",
       "       [ 6,  4,  0,  0],\n",
       "       [ 7,  2,  0,  1],\n",
       "       [ 7,  3,  0,  1],\n",
       "       [ 8,  1,  0,  0],\n",
       "       [ 8,  3,  0,  0],\n",
       "       [ 9,  0,  0,  0],\n",
       "       [ 9,  4,  0,  0],\n",
       "       [10,  2,  1,  1],\n",
       "       [11,  0,  1,  1],\n",
       "       [11,  2,  1,  1],\n",
       "       [11,  3,  0,  1],\n",
       "       [12,  3,  0,  1],\n",
       "       [12,  4,  1,  1],\n",
       "       [13,  0,  1,  0],\n",
       "       [14,  0,  0,  0],\n",
       "       [14,  2,  0,  0],\n",
       "       [14,  3,  0,  0],\n",
       "       [15,  0,  1,  0],\n",
       "       [16,  0,  0,  0],\n",
       "       [16,  1,  0,  0],\n",
       "       [16,  2,  1,  0],\n",
       "       [17,  1,  0,  0],\n",
       "       [18,  4,  1,  0],\n",
       "       [19,  2,  0,  1],\n",
       "       [19,  3,  0,  1],\n",
       "       [19,  4,  1,  1]], dtype=int64)"
      ]
     },
     "execution_count": 31,
     "metadata": {},
     "output_type": "execute_result"
    }
   ],
   "source": [
    "predictions"
   ]
  },
  {
   "cell_type": "code",
   "execution_count": 32,
   "metadata": {},
   "outputs": [],
   "source": [
    "correct_pred = predictions[[i for i in range(len(predictions)) if predictions[i][2] == predictions[i][3]]]"
   ]
  },
  {
   "cell_type": "code",
   "execution_count": 33,
   "metadata": {},
   "outputs": [],
   "source": [
    "oob_score = 0.0\n",
    "for i in range(N):\n",
    "    pred_i = predictions[predictions[:,0] == i]\n",
    "    n = len(pred_i)\n",
    "\n",
    "    m = len(pred_i[pred_i[:,2] == pred_i[:,3]])\n",
    "    if n != 0:\n",
    "        oob_score+=m/(n*N)\n",
    "    \n"
   ]
  },
  {
   "cell_type": "code",
   "execution_count": 34,
   "metadata": {},
   "outputs": [
    {
     "data": {
      "text/plain": [
       "0.6583333333333334"
      ]
     },
     "execution_count": 34,
     "metadata": {},
     "output_type": "execute_result"
    }
   ],
   "source": [
    "oob_score"
   ]
  },
  {
   "cell_type": "code",
   "execution_count": 35,
   "metadata": {},
   "outputs": [
    {
     "data": {
      "text/plain": [
       "[1,\n",
       " 1,\n",
       " 0,\n",
       " 1,\n",
       " 1,\n",
       " 1,\n",
       " 0,\n",
       " 1,\n",
       " 0,\n",
       " 0,\n",
       " 1,\n",
       " 1,\n",
       " 1,\n",
       " 1,\n",
       " 0,\n",
       " 1,\n",
       " 0,\n",
       " 0,\n",
       " 0,\n",
       " 1,\n",
       " 1,\n",
       " 1,\n",
       " 0,\n",
       " 1,\n",
       " 1,\n",
       " 1,\n",
       " 0,\n",
       " 1,\n",
       " 0,\n",
       " 0,\n",
       " 1,\n",
       " 1,\n",
       " 1,\n",
       " 0,\n",
       " 0,\n",
       " 0,\n",
       " 0,\n",
       " 0,\n",
       " 0,\n",
       " 1,\n",
       " 1,\n",
       " 1,\n",
       " 0,\n",
       " 1,\n",
       " 1,\n",
       " 1,\n",
       " 0,\n",
       " 0,\n",
       " 0,\n",
       " 0,\n",
       " 1,\n",
       " 1,\n",
       " 1,\n",
       " 0,\n",
       " 0,\n",
       " 0,\n",
       " 1,\n",
       " 0,\n",
       " 0,\n",
       " 0,\n",
       " 1,\n",
       " 1,\n",
       " 0,\n",
       " 1,\n",
       " 1,\n",
       " 1,\n",
       " 0,\n",
       " 0,\n",
       " 0,\n",
       " 0,\n",
       " 1,\n",
       " 0,\n",
       " 0,\n",
       " 0,\n",
       " 0,\n",
       " 0,\n",
       " 0,\n",
       " 0,\n",
       " 0,\n",
       " 0,\n",
       " 1,\n",
       " 1,\n",
       " 0,\n",
       " 1,\n",
       " 1,\n",
       " 1,\n",
       " 0,\n",
       " 1,\n",
       " 0,\n",
       " 0,\n",
       " 1,\n",
       " 1,\n",
       " 1,\n",
       " 0,\n",
       " 0,\n",
       " 0,\n",
       " 0,\n",
       " 0,\n",
       " 1,\n",
       " 1]"
      ]
     },
     "execution_count": 35,
     "metadata": {},
     "output_type": "execute_result"
    }
   ],
   "source": [
    "[[S[i,0].predict(X) for i in range(5)][j][k] for j in range(5) for k in range(20)] "
   ]
  },
  {
   "cell_type": "code",
   "execution_count": 36,
   "metadata": {
    "ExecuteTime": {
     "end_time": "2020-01-27T16:00:02.662448Z",
     "start_time": "2020-01-27T16:00:02.658481Z"
    }
   },
   "outputs": [],
   "source": [
    "d1 = X[np.random.choice(range(N),N)]"
   ]
  },
  {
   "cell_type": "code",
   "execution_count": 37,
   "metadata": {
    "ExecuteTime": {
     "end_time": "2020-01-27T16:00:04.235899Z",
     "start_time": "2020-01-27T16:00:04.226898Z"
    }
   },
   "outputs": [
    {
     "data": {
      "text/plain": [
       "array([[ 0.05455273,  1.17646558],\n",
       "       [-0.44114953, -0.56455187],\n",
       "       [-0.52013465,  1.47627311],\n",
       "       [ 0.79405498,  0.15844875],\n",
       "       [ 0.88001294,  0.25036532],\n",
       "       [ 1.61807153, -1.04819059],\n",
       "       [ 1.61807153, -1.04819059],\n",
       "       [ 0.47961344, -0.88991193],\n",
       "       [ 1.37387807, -1.02964235],\n",
       "       [-0.57184257,  0.0796771 ],\n",
       "       [ 1.37387807, -1.02964235],\n",
       "       [-0.44114953, -0.56455187],\n",
       "       [ 1.61807153, -1.04819059],\n",
       "       [ 1.37559923,  0.78158803],\n",
       "       [ 0.0266185 ,  1.3852888 ],\n",
       "       [-0.52013465,  1.47627311],\n",
       "       [ 0.18387199, -0.27927254],\n",
       "       [-0.72500744,  0.22443027],\n",
       "       [ 0.0266185 ,  1.3852888 ],\n",
       "       [-0.72500744,  0.22443027]])"
      ]
     },
     "execution_count": 37,
     "metadata": {},
     "output_type": "execute_result"
    }
   ],
   "source": [
    "d1"
   ]
  },
  {
   "cell_type": "code",
   "execution_count": 38,
   "metadata": {
    "ExecuteTime": {
     "end_time": "2020-01-27T16:00:18.096440Z",
     "start_time": "2020-01-27T16:00:18.091469Z"
    }
   },
   "outputs": [],
   "source": [
    "def make_bootstrap_sample():\n",
    "    sample = np.random.choice(range(N),N)\n",
    "    X_resampled = X[sample]\n",
    "    y_resampled = y[sample]\n",
    "    return [(x,y) for x,y in zip(X_resampled,y_resampled)]"
   ]
  },
  {
   "cell_type": "code",
   "execution_count": 39,
   "metadata": {
    "ExecuteTime": {
     "end_time": "2020-01-27T16:00:20.785060Z",
     "start_time": "2020-01-27T16:00:20.780556Z"
    }
   },
   "outputs": [],
   "source": [
    "bootstrap_sample = make_bootstrap_sample()"
   ]
  },
  {
   "cell_type": "code",
   "execution_count": 40,
   "metadata": {
    "ExecuteTime": {
     "end_time": "2020-01-27T16:00:23.325722Z",
     "start_time": "2020-01-27T16:00:23.322726Z"
    }
   },
   "outputs": [],
   "source": [
    "depth = 3"
   ]
  },
  {
   "cell_type": "code",
   "execution_count": 41,
   "metadata": {
    "ExecuteTime": {
     "end_time": "2020-01-27T16:00:30.352321Z",
     "start_time": "2020-01-27T16:00:30.348321Z"
    }
   },
   "outputs": [],
   "source": [
    "features = np.random.choice([0,1],depth)"
   ]
  },
  {
   "cell_type": "code",
   "execution_count": 42,
   "metadata": {
    "ExecuteTime": {
     "end_time": "2020-01-27T16:00:31.553025Z",
     "start_time": "2020-01-27T16:00:31.548026Z"
    }
   },
   "outputs": [
    {
     "data": {
      "text/plain": [
       "array([1, 0, 0])"
      ]
     },
     "execution_count": 42,
     "metadata": {},
     "output_type": "execute_result"
    }
   ],
   "source": [
    "features"
   ]
  },
  {
   "cell_type": "code",
   "execution_count": 43,
   "metadata": {
    "ExecuteTime": {
     "end_time": "2020-01-27T16:00:34.418058Z",
     "start_time": "2020-01-27T16:00:34.412026Z"
    }
   },
   "outputs": [],
   "source": [
    "def gini_index(nd):\n",
    "    label_0 = [x for x in nd if x[1]==0]\n",
    "    label_1 = [ x for x in nd if x[1] == 1]\n",
    "    m = len(nd)\n",
    "    m_0 = len(label_0)\n",
    "    m_1 = len(label_1)\n",
    "    return 2 * (m_0/m) * (m_1/m)\n",
    "    "
   ]
  },
  {
   "cell_type": "code",
   "execution_count": 44,
   "metadata": {
    "ExecuteTime": {
     "end_time": "2020-01-27T16:00:38.355033Z",
     "start_time": "2020-01-27T16:00:38.350029Z"
    }
   },
   "outputs": [
    {
     "data": {
      "text/plain": [
       "0.375"
      ]
     },
     "execution_count": 44,
     "metadata": {},
     "output_type": "execute_result"
    }
   ],
   "source": [
    "gini_index(bootstrap_sample)"
   ]
  },
  {
   "cell_type": "code",
   "execution_count": 45,
   "metadata": {
    "ExecuteTime": {
     "end_time": "2020-01-27T16:00:40.303498Z",
     "start_time": "2020-01-27T16:00:40.297496Z"
    }
   },
   "outputs": [],
   "source": [
    "def split_gini_index(split,node):\n",
    "    L = [ x for x in node if x[0][split[0]] >= split[1]]\n",
    "    R = [ x for x in node if x[0][split[0]] < split[1]]\n",
    "    if len(L) == 0 or len(R) == 0:\n",
    "        return 0\n",
    "    else:\n",
    "        return (len(L)/len(node))*gini_index(L) + (len(R)/len(node))*gini_index(R)"
   ]
  },
  {
   "cell_type": "code",
   "execution_count": 46,
   "metadata": {
    "ExecuteTime": {
     "end_time": "2020-01-27T16:00:41.143512Z",
     "start_time": "2020-01-27T16:00:41.139492Z"
    }
   },
   "outputs": [],
   "source": [
    "splits = [[1,x[0][1]] for x in bootstrap_sample]"
   ]
  },
  {
   "cell_type": "code",
   "execution_count": 47,
   "metadata": {
    "ExecuteTime": {
     "end_time": "2020-01-27T16:00:43.317867Z",
     "start_time": "2020-01-27T16:00:43.310859Z"
    }
   },
   "outputs": [
    {
     "data": {
      "text/plain": [
       "[[1, -0.8899119258488847],\n",
       " [1, 0.0796770957312308],\n",
       " [1, 1.176465578124118],\n",
       " [1, 1.1364048244434926],\n",
       " [1, -0.4327422338738428],\n",
       " [1, 0.22443027299798757],\n",
       " [1, 1.1364048244434926],\n",
       " [1, 0.1584487486966381],\n",
       " [1, 0.22443027299798757],\n",
       " [1, 1.1364048244434926],\n",
       " [1, 1.1364048244434926],\n",
       " [1, 1.176465578124118],\n",
       " [1, 1.176465578124118],\n",
       " [1, 1.4762731146697106],\n",
       " [1, 1.176465578124118],\n",
       " [1, -1.0296423523521763],\n",
       " [1, -0.5645518687267976],\n",
       " [1, -0.5645518687267976],\n",
       " [1, -0.5645518687267976],\n",
       " [1, 0.0796770957312308]]"
      ]
     },
     "execution_count": 47,
     "metadata": {},
     "output_type": "execute_result"
    }
   ],
   "source": [
    "splits"
   ]
  },
  {
   "cell_type": "code",
   "execution_count": 48,
   "metadata": {
    "ExecuteTime": {
     "end_time": "2020-01-27T16:00:50.855881Z",
     "start_time": "2020-01-27T16:00:50.832852Z"
    }
   },
   "outputs": [
    {
     "data": {
      "text/plain": [
       "0.3214285714285714"
      ]
     },
     "execution_count": 48,
     "metadata": {},
     "output_type": "execute_result"
    }
   ],
   "source": [
    "for split in splits:\n",
    "    gi = []\n",
    "    gi.append(split_gini_index(split,bootstrap_sample))\n",
    "min(gi)"
   ]
  },
  {
   "cell_type": "code",
   "execution_count": 49,
   "metadata": {
    "ExecuteTime": {
     "end_time": "2020-01-27T16:00:54.107682Z",
     "start_time": "2020-01-27T16:00:54.101687Z"
    }
   },
   "outputs": [
    {
     "data": {
      "text/plain": [
       "[1, 0.0796770957312308]"
      ]
     },
     "execution_count": 49,
     "metadata": {},
     "output_type": "execute_result"
    }
   ],
   "source": [
    "splits[1]"
   ]
  },
  {
   "cell_type": "code",
   "execution_count": null,
   "metadata": {},
   "outputs": [],
   "source": []
  }
 ],
 "metadata": {
  "kernelspec": {
   "display_name": "Python 3 (ipykernel)",
   "language": "python",
   "name": "python3"
  },
  "language_info": {
   "codemirror_mode": {
    "name": "ipython",
    "version": 3
   },
   "file_extension": ".py",
   "mimetype": "text/x-python",
   "name": "python",
   "nbconvert_exporter": "python",
   "pygments_lexer": "ipython3",
   "version": "3.8.8"
  },
  "latex_envs": {
   "LaTeX_envs_menu_present": true,
   "autoclose": false,
   "autocomplete": true,
   "bibliofile": "biblio.bib",
   "cite_by": "apalike",
   "current_citInitial": 1,
   "eqLabelWithNumbers": true,
   "eqNumInitial": 1,
   "hotkeys": {
    "equation": "Ctrl-E",
    "itemize": "Ctrl-I"
   },
   "labels_anchors": false,
   "latex_user_defs": false,
   "report_style_numbering": false,
   "user_envs_cfg": false
  }
 },
 "nbformat": 4,
 "nbformat_minor": 2
}
