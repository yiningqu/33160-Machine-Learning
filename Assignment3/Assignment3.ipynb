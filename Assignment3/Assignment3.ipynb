{
 "cells": [
  {
   "cell_type": "code",
   "execution_count": 1,
   "metadata": {},
   "outputs": [],
   "source": [
    "import pandas as pd\n",
    "import numpy as np\n",
    "import matplotlib.pyplot as plt\n",
    "%matplotlib inline\n",
    "from sklearn.metrics import accuracy_score, confusion_matrix\n",
    "from sklearn.tree import DecisionTreeClassifier\n",
    "from sklearn.ensemble import AdaBoostClassifier\n",
    "import sklearn\n",
    "pd.set_option('use_inf_as_na', True)\n",
    "from collections import Counter"
   ]
  },
  {
   "cell_type": "markdown",
   "metadata": {},
   "source": [
    "#### 1. Use the included 3 sets of optimal features over the holding period 2003-2018 and an AdaBoostClassifier. Use Optuna to find hyper-parameters for the training period 2001-01-01 to 2004-01-01 and use these hyper-parameters and the sets of optimal features to compute the maximum drawdown for each of them."
   ]
  },
  {
   "cell_type": "code",
   "execution_count": 2,
   "metadata": {},
   "outputs": [],
   "source": [
    "raw_data = pd.read_pickle(r'dataset.pkl')\n",
    "data = raw_data[raw_data['market_cap'] > 1000.0]\n",
    "data = data.copy()\n",
    "data.fillna(0.0,inplace=True)"
   ]
  },
  {
   "cell_type": "code",
   "execution_count": 3,
   "metadata": {},
   "outputs": [],
   "source": [
    "def f(x):\n",
    "    if x > 0.01:\n",
    "        return 1\n",
    "    elif x < -0.025:\n",
    "        return -1\n",
    "    else:\n",
    "    \n",
    "        return 0"
   ]
  },
  {
   "cell_type": "code",
   "execution_count": 4,
   "metadata": {},
   "outputs": [],
   "source": [
    "data['rel_performance'] = data['pred_rel_return'].apply(f)\n",
    "data.reset_index(inplace=True)\n",
    "data.set_index('date',inplace=True)"
   ]
  },
  {
   "cell_type": "code",
   "execution_count": 5,
   "metadata": {},
   "outputs": [],
   "source": [
    "df_1 = data.loc['2001-01-01':'2004-01-01']\n",
    "df_valid = data.loc['2004-04-01':'2004-07-01']\n",
    "df_test = data.loc['2004-10-01':'2005-01-01']"
   ]
  },
  {
   "cell_type": "code",
   "execution_count": 6,
   "metadata": {},
   "outputs": [],
   "source": [
    "train_1 = df_1.reset_index().drop(['ticker','date',\n",
    "                                   'next_period_return',\n",
    "                                   'spy_next_period_return',\n",
    "                                   'rel_performance','pred_rel_return',\n",
    "                                  'return', 'cum_ret', 'spy_cum_ret'],axis=1)\n",
    "\n",
    "valid = df_valid.reset_index().drop(['ticker','date',\n",
    "                                    'next_period_return',\n",
    "                                   'spy_next_period_return',\n",
    "                                   'rel_performance','pred_rel_return',\n",
    "                                  'return', 'cum_ret', 'spy_cum_ret'],axis=1)\n",
    "test = df_test.reset_index().drop(['ticker','date',\n",
    "                                   'next_period_return',\n",
    "                                   'spy_next_period_return',\n",
    "                                   'rel_performance','pred_rel_return',\n",
    "                                  'return', 'cum_ret', 'spy_cum_ret'],axis=1)"
   ]
  },
  {
   "cell_type": "code",
   "execution_count": 7,
   "metadata": {},
   "outputs": [],
   "source": [
    "train_1_stock_returns = df_1['next_period_return']\n",
    "valid_stock_returns = df_valid['next_period_return']\n",
    "test_stock_returns = df_test['next_period_return']\n",
    "\n",
    "y_1 = df_1['rel_performance']\n",
    "y_valid = df_valid['rel_performance']\n",
    "y_test = df_test['rel_performance']\n",
    "\n",
    "y_1 = y_1.values\n",
    "y_valid = y_valid.values\n",
    "y_test = y_test.values"
   ]
  },
  {
   "cell_type": "code",
   "execution_count": 8,
   "metadata": {},
   "outputs": [],
   "source": [
    "import optuna\n",
    "from optuna.trial import Trial\n",
    "optuna.logging.set_verbosity(optuna.logging.FATAL)\n",
    "import warnings\n",
    "warnings.filterwarnings(\"ignore\")"
   ]
  },
  {
   "cell_type": "code",
   "execution_count": 9,
   "metadata": {},
   "outputs": [],
   "source": [
    "def max_drawdown(returns):\n",
    "        local_max = [n for n in range(len(returns)-1) if ((n==0) and (returns[0] > returns[1])) or \n",
    "           ((n > 0) and  (returns[n-1]<returns[n]) and (returns[n+1]<returns[n]))] \n",
    "        \n",
    "        local_min = [n for n in range(1,len(returns)) if ((n == len(returns)-1) and (returns[-1] < returns[-2])) or\n",
    "                (returns[n-1]>returns[n]) and (returns[n+1]>returns[n])]\n",
    "        \n",
    "        def next_local_min(n):\n",
    "            if [m for m in local_min if m > n]:\n",
    "                return [m for m in local_min if m > n][0]\n",
    "            else: return None\n",
    "        \n",
    "        drawdowns = [(n,next_local_min(n)) for n in local_max]\n",
    "        drawdown_values = [returns[n] - returns[m] for (n,m) in drawdowns if m != None]\n",
    "        if drawdown_values:\n",
    "            return  np.max(drawdown_values)\n",
    "        else: return 0.0"
   ]
  },
  {
   "cell_type": "code",
   "execution_count": 10,
   "metadata": {},
   "outputs": [],
   "source": [
    "qrt_profit = (train_1_stock_returns*y_1).resample('Q').sum().to_list()\n",
    "percentage_changes = [(qrt_profit[i] / qrt_profit[i-1] - 1) for i in range(1, len(qrt_profit))]\n"
   ]
  },
  {
   "cell_type": "code",
   "execution_count": 11,
   "metadata": {},
   "outputs": [],
   "source": [
    "def objective(trial:Trial,train=None,labels=None,val=None,val_labels=None,val_rets=None,prev_profit=None):\n",
    "\n",
    "    ada_m_depth = trial.suggest_int('max_depth',1,5)\n",
    "    ada_n_estimators = trial.suggest_int('n_estimators', 10,100,step=10)\n",
    "    ada_learning_rate = trial.suggest_float('learning_rate',0.1,0.5, step=0.1)\n",
    "\n",
    "    \n",
    "    ada_clf = AdaBoostClassifier(DecisionTreeClassifier(max_depth=ada_m_depth),\n",
    "                                 n_estimators=ada_n_estimators,\n",
    "                                 learning_rate=ada_learning_rate,\n",
    "                                 algorithm=\"SAMME.R\")\n",
    "\n",
    "    ada_clf.fit(train,labels)\n",
    "    profit = []\n",
    "    profit.append(prev_profit)\n",
    "    preds = ada_clf.predict(val)\n",
    "    profit_next = (preds * val_rets).sum()\n",
    "    profit.append(profit_next)\n",
    "    all_return = [(profit[i] / profit[i-1] - 1) for i in range(1, len(profit))]\n",
    "    period_max_drawdown = max_drawdown(all_return)\n",
    " \n",
    "    return period_max_drawdown"
   ]
  },
  {
   "cell_type": "code",
   "execution_count": 12,
   "metadata": {},
   "outputs": [],
   "source": [
    "study = optuna.create_study(direction=\"minimize\")\n",
    "from functools import partial"
   ]
  },
  {
   "cell_type": "code",
   "execution_count": 15,
   "metadata": {},
   "outputs": [
    {
     "name": "stdout",
     "output_type": "stream",
     "text": [
      "CPU times: user 13min 37s, sys: 15.1 s, total: 13min 52s\n",
      "Wall time: 5min 10s\n"
     ]
    }
   ],
   "source": [
    "%%time\n",
    "study.optimize(partial(objective,train=train_1,labels=y_1,val=valid,val_labels=y_valid,val_rets=valid_stock_returns,prev_profit=qrt_profit), n_trials=20,n_jobs=-1)"
   ]
  },
  {
   "cell_type": "code",
   "execution_count": null,
   "metadata": {},
   "outputs": [],
   "source": [
    "study.best_params"
   ]
  },
  {
   "cell_type": "code",
   "execution_count": 16,
   "metadata": {},
   "outputs": [],
   "source": [
    "max_depth = study.best_params['max_depth']\n",
    "n_estimators = study.best_params['n_estimators']\n",
    "learning_rate = study.best_params['learning_rate']"
   ]
  },
  {
   "cell_type": "code",
   "execution_count": 17,
   "metadata": {},
   "outputs": [],
   "source": [
    "best_params = {'n_estimators': n_estimators, 'learning_rate': learning_rate}"
   ]
  },
  {
   "cell_type": "code",
   "execution_count": 18,
   "metadata": {},
   "outputs": [],
   "source": [
    "ada_clf = AdaBoostClassifier(DecisionTreeClassifier(max_depth=max_depth),**best_params)"
   ]
  },
  {
   "cell_type": "code",
   "execution_count": 19,
   "metadata": {},
   "outputs": [],
   "source": [
    "from sklearn.preprocessing import MinMaxScaler,StandardScaler\n",
    "scaler = StandardScaler()"
   ]
  },
  {
   "cell_type": "code",
   "execution_count": 20,
   "metadata": {},
   "outputs": [],
   "source": [
    "import _pickle as cPickle"
   ]
  },
  {
   "cell_type": "code",
   "execution_count": 21,
   "metadata": {},
   "outputs": [],
   "source": [
    "optimal_feature = []"
   ]
  },
  {
   "cell_type": "code",
   "execution_count": 25,
   "metadata": {},
   "outputs": [],
   "source": [
    "with open(r'shap_features_ada.pkl','rb') as f:\n",
    "    optimal_feature = cPickle.load(f)\n",
    "\n",
    "optimal_feature_1 = optimal_feature[0]\n",
    "\n",
    "optimal_feature_2 = []\n",
    "\n",
    "with open(r'shap_features_ada_01.pkl','rb') as f:\n",
    "    optimal_feature_2 = cPickle.load(f)\n",
    "    \n",
    "optimal_feature_2 = optimal_feature_2[0]\n",
    "\n",
    "optimal_feature_3 = []\n",
    "\n",
    "with open(r'shap_features_ada_02.pkl','rb') as f:\n",
    "    optimal_feature_3 = cPickle.load(f)\n",
    "\n",
    "optimal_feature_3 = optimal_feature_3[0]"
   ]
  },
  {
   "cell_type": "code",
   "execution_count": 26,
   "metadata": {},
   "outputs": [],
   "source": [
    "start_dates = [pd.to_datetime('2001-01-01') + pd.DateOffset(months = 3 * i) for i in range(57)]\n",
    "end_dates = [d + pd.DateOffset(months = 36) for d in start_dates]\n",
    "\n",
    "training_frames = [data.loc[d:d+pd.DateOffset(months = 36)] for d in start_dates]\n",
    "test_frames = [data.loc[d + pd.DateOffset(months=3):d+pd.DateOffset(months = 6)] for d in end_dates]\n",
    "\n",
    "training_data = [d.reset_index().drop\n",
    "                                 (['ticker','date',\n",
    "                                   'next_period_return',\n",
    "                                   'spy_next_period_return',\n",
    "                                   'rel_performance','pred_rel_return',\n",
    "                                  'return', 'cum_ret', 'spy_cum_ret'],axis=1) for d in training_frames]\n",
    "\n",
    "test_data = [d.reset_index().drop(['ticker','date',\n",
    "                                   'next_period_return',\n",
    "                                   'spy_next_period_return',\n",
    "                                   'rel_performance','pred_rel_return',\n",
    "                                  'return', 'cum_ret', 'spy_cum_ret'],axis=1) for d in test_frames]\n",
    "\n",
    "training_labels = [d['rel_performance'].values for d in training_frames]\n",
    "validation_labels = [d['rel_performance'].values for d in test_frames]"
   ]
  },
  {
   "cell_type": "markdown",
   "metadata": {},
   "source": [
    "- Set 1"
   ]
  },
  {
   "cell_type": "code",
   "execution_count": 27,
   "metadata": {},
   "outputs": [],
   "source": [
    "scalers_1 = [StandardScaler() for i in range(len(start_dates)-1)]     \n",
    "     \n",
    "opt_training_data = [pd.DataFrame(scalers_1[i].fit_transform(training_frames[i][optimal_feature_1].values),columns=optimal_feature_1) for i in range(len(start_dates)-1)]\n",
    "opt_valid_data = [pd.DataFrame(scalers_1[i].fit_transform(training_frames[i][optimal_feature_1].values),columns=optimal_feature_1) for i in range(len(start_dates)-1)]\n",
    "opt_test_data = [pd.DataFrame(scalers_1[i].transform(test_frames[i][optimal_feature_1].values),columns=optimal_feature_1) for i in range(len(start_dates)-1)]"
   ]
  },
  {
   "cell_type": "code",
   "execution_count": 28,
   "metadata": {},
   "outputs": [],
   "source": [
    "x_1 = [1]\n",
    "ret_1 = []\n",
    "\n",
    "for i in range(len(start_dates)-1):\n",
    "        \n",
    "        ada_clf.fit(opt_training_data[i],training_labels[i])\n",
    "\n",
    "        preds = ada_clf.predict(opt_test_data[i])\n",
    "        profit_i = (preds*test_frames[i]['next_period_return']).sum()\n",
    "        ret_1.append(profit_i)\n",
    "        num_names = len(opt_test_data[i])\n",
    "        x_1.append(x_1[i] + (x_1[i]/num_names)*profit_i)"
   ]
  },
  {
   "cell_type": "code",
   "execution_count": 29,
   "metadata": {},
   "outputs": [],
   "source": [
    "def max_dd(returns):\n",
    "    i = np.argmax(np.maximum.accumulate(returns) - returns)\n",
    "    j = np.argmax(returns[:i])\n",
    "    dd = np.abs(returns[j] - returns[i])\n",
    "    plt.plot(returns);\n",
    "    plt.plot([i, j], [returns[i], returns[j]], 'o', color='Red', markersize=10)\n",
    "    print(f'maxmum drawdown during the period is {np.abs(returns[j] - returns[i])}')\n",
    "    return dd"
   ]
  },
  {
   "cell_type": "code",
   "execution_count": 30,
   "metadata": {},
   "outputs": [
    {
     "name": "stdout",
     "output_type": "stream",
     "text": [
      "maxmum drawdown during the period is 0.7354453426147312\n"
     ]
    },
    {
     "data": {
      "image/png": "[encoded data removed]",
      "text/plain": [
       "<Figure size 432x288 with 1 Axes>"
      ]
     },
     "metadata": {
      "needs_background": "light"
     },
     "output_type": "display_data"
    }
   ],
   "source": [
    "dd_1 = max_dd(x_1)"
   ]
  },
  {
   "cell_type": "markdown",
   "metadata": {},
   "source": [
    "- Set 2"
   ]
  },
  {
   "cell_type": "code",
   "execution_count": 31,
   "metadata": {},
   "outputs": [],
   "source": [
    "scalers_2 = [StandardScaler() for i in range(len(start_dates)-1)]\n",
    "           \n",
    "opt_training_data = [pd.DataFrame(scalers_2[i].fit_transform(training_frames[i][optimal_feature_2].values),columns=optimal_feature_2) for i in range(len(start_dates)-1)]\n",
    "opt_valid_data = [pd.DataFrame(scalers_2[i].fit_transform(training_frames[i][optimal_feature_2].values),columns=optimal_feature_2) for i in range(len(start_dates)-1)]\n",
    "opt_test_data = [pd.DataFrame(scalers_2[i].transform(test_frames[i][optimal_feature_2].values),columns=optimal_feature_2) for i in range(len(start_dates)-1)]"
   ]
  },
  {
   "cell_type": "code",
   "execution_count": 32,
   "metadata": {},
   "outputs": [
    {
     "name": "stdout",
     "output_type": "stream",
     "text": [
      "maxmum drawdown during the period is 0.7211264821866115\n"
     ]
    },
    {
     "data": {
      "image/png": "[encoded data removed]",
      "text/plain": [
       "<Figure size 432x288 with 1 Axes>"
      ]
     },
     "metadata": {
      "needs_background": "light"
     },
     "output_type": "display_data"
    }
   ],
   "source": [
    "x_2 = [1]\n",
    "ret_2 = []\n",
    "\n",
    "for i in range(len(start_dates)-1):\n",
    "        \n",
    "        ada_clf.fit(opt_training_data[i],training_labels[i])\n",
    "\n",
    "        preds = ada_clf.predict(opt_test_data[i])\n",
    "        profit_i = (preds*test_frames[i]['next_period_return']).sum()\n",
    "        ret_2.append(profit_i)\n",
    "        num_names = len(opt_test_data[i])\n",
    "        x_2.append(x_2[i] + (x_2[i]/num_names)*profit_i)\n",
    "        \n",
    "# it is the max drawdown for second set of feature\n",
    "dd_2 = max_dd(x_2)"
   ]
  },
  {
   "cell_type": "markdown",
   "metadata": {},
   "source": [
    "- Set 3"
   ]
  },
  {
   "cell_type": "code",
   "execution_count": 33,
   "metadata": {},
   "outputs": [
    {
     "name": "stdout",
     "output_type": "stream",
     "text": [
      "maxmum drawdown during the period is 0.6922255221646691\n"
     ]
    },
    {
     "data": {
      "image/png": "[encoded data removed]",
      "text/plain": [
       "<Figure size 432x288 with 1 Axes>"
      ]
     },
     "metadata": {
      "needs_background": "light"
     },
     "output_type": "display_data"
    }
   ],
   "source": [
    "scalers_3 = [StandardScaler() for i in range(len(start_dates)-1)]\n",
    "           \n",
    "opt_training_data = [pd.DataFrame(scalers_3[i].fit_transform(training_frames[i][optimal_feature_3].values),columns=optimal_feature_3) for i in range(len(start_dates)-1)]\n",
    "opt_valid_data = [pd.DataFrame(scalers_3[i].fit_transform(training_frames[i][optimal_feature_3].values),columns=optimal_feature_3) for i in range(len(start_dates)-1)]\n",
    "opt_test_data = [pd.DataFrame(scalers_3[i].transform(test_frames[i][optimal_feature_3].values),columns=optimal_feature_3) for i in range(len(start_dates)-1)]\n",
    "\n",
    "x_3 = [1]\n",
    "ret_3 = []\n",
    "\n",
    "for i in range(len(start_dates)-1):\n",
    "        \n",
    "        ada_clf.fit(opt_training_data[i],training_labels[i])\n",
    "\n",
    "        preds = ada_clf.predict(opt_test_data[i])\n",
    "        profit_i = (preds*test_frames[i]['next_period_return']).sum()\n",
    "        ret_3.append(profit_i)\n",
    "        num_names = len(opt_test_data[i])\n",
    "        x_3.append(x_3[i] + (x_3[i]/num_names)*profit_i)\n",
    "        \n",
    "\n",
    "# it is the max drawdown for third set of feature\n",
    "dd_3 = max_dd(x_3)"
   ]
  },
  {
   "cell_type": "markdown",
   "metadata": {},
   "source": [
    "#### 2. Try different Optuna objectives such as accuracy and max drawdown on the period 2001-01-01 to 2004-04-01"
   ]
  },
  {
   "cell_type": "code",
   "execution_count": 34,
   "metadata": {},
   "outputs": [],
   "source": [
    "def objective_2(trial:Trial,train=None,labels=None,val=None,val_labels=None,val_rets=None):\n",
    "\n",
    "    ada_m_depth = trial.suggest_int('max_depth',1,5)\n",
    "    ada_n_estimators = trial.suggest_int('n_estimators', 10,100,step=10)\n",
    "    ada_learning_rate = trial.suggest_float('learning_rate',0.1,0.5, step=0.1)\n",
    "\n",
    "    \n",
    "    ada_clf = AdaBoostClassifier(DecisionTreeClassifier(max_depth=ada_m_depth),\n",
    "                                 n_estimators=ada_n_estimators,\n",
    "                                 learning_rate=ada_learning_rate,\n",
    "                                 algorithm=\"SAMME.R\")\n",
    "\n",
    "    ada_clf.fit(train,labels)\n",
    "    preds = ada_clf.predict(val)\n",
    "    accuracy = ada_clf.score(val,val_labels)\n",
    " \n",
    "    return accuracy\n",
    "\n"
   ]
  },
  {
   "cell_type": "code",
   "execution_count": 35,
   "metadata": {},
   "outputs": [],
   "source": [
    "study_2 = optuna.create_study(direction=\"maximize\")\n",
    "from functools import partial"
   ]
  },
  {
   "cell_type": "code",
   "execution_count": 36,
   "metadata": {},
   "outputs": [
    {
     "name": "stdout",
     "output_type": "stream",
     "text": [
      "CPU times: user 13min 45s, sys: 14.6 s, total: 14min\n",
      "Wall time: 3min 7s\n"
     ]
    }
   ],
   "source": [
    "%%time\n",
    "study_2.optimize(partial(objective_2,train=train_1,labels=y_1,val=valid,val_labels=y_valid,val_rets=valid_stock_returns), n_trials=20,n_jobs=-1)\n"
   ]
  },
  {
   "cell_type": "code",
   "execution_count": 37,
   "metadata": {},
   "outputs": [
    {
     "data": {
      "text/plain": [
       "{'max_depth': 2, 'n_estimators': 50, 'learning_rate': 0.30000000000000004}"
      ]
     },
     "execution_count": 37,
     "metadata": {},
     "output_type": "execute_result"
    }
   ],
   "source": [
    "study_2.best_params\n"
   ]
  },
  {
   "cell_type": "code",
   "execution_count": 38,
   "metadata": {},
   "outputs": [],
   "source": [
    "max_depth_2 = study_2.best_params['max_depth']\n",
    "n_estimators_2 = study_2.best_params['n_estimators']\n",
    "learning_rate_2 = study_2.best_params['learning_rate']"
   ]
  },
  {
   "cell_type": "code",
   "execution_count": 39,
   "metadata": {},
   "outputs": [],
   "source": [
    "best_params_2 = {'n_estimators': n_estimators_2, 'learning_rate': learning_rate_2}"
   ]
  },
  {
   "cell_type": "code",
   "execution_count": 40,
   "metadata": {},
   "outputs": [],
   "source": [
    "ada_clf_acc = AdaBoostClassifier(DecisionTreeClassifier(max_depth=max_depth_2),**best_params_2)"
   ]
  },
  {
   "cell_type": "markdown",
   "metadata": {},
   "source": [
    "- Set 1"
   ]
  },
  {
   "cell_type": "code",
   "execution_count": 41,
   "metadata": {},
   "outputs": [
    {
     "name": "stdout",
     "output_type": "stream",
     "text": [
      "maxmum drawdown during the period is 0.6360148962517431\n"
     ]
    },
    {
     "data": {
      "image/png": "[encoded data removed]",
      "text/plain": [
       "<Figure size 432x288 with 1 Axes>"
      ]
     },
     "metadata": {
      "needs_background": "light"
     },
     "output_type": "display_data"
    }
   ],
   "source": [
    "scalers_1_acc = [StandardScaler() for i in range(len(start_dates)-1)]  \n",
    "        \n",
    "opt_training_data = [pd.DataFrame(scalers_1_acc[i].fit_transform(training_frames[i][optimal_feature_1].values),columns=optimal_feature_1) for i in range(len(start_dates)-1)]\n",
    "opt_valid_data = [pd.DataFrame(scalers_1_acc[i].fit_transform(training_frames[i][optimal_feature_1].values),columns=optimal_feature_1) for i in range(len(start_dates)-1)]\n",
    "opt_test_data = [pd.DataFrame(scalers_1_acc[i].transform(test_frames[i][optimal_feature_1].values),columns=optimal_feature_1) for i in range(len(start_dates)-1)]\n",
    "\n",
    "x_1_acc = [1]\n",
    "ret_1_acc = []\n",
    "\n",
    "for i in range(len(start_dates)-1):\n",
    "        \n",
    "        ada_clf_acc.fit(opt_training_data[i],training_labels[i])\n",
    "\n",
    "        preds = ada_clf_acc.predict(opt_test_data[i])\n",
    "        profit_i = (preds*test_frames[i]['next_period_return']).sum()\n",
    "        ret_1_acc.append(profit_i)\n",
    "        num_names = len(opt_test_data[i])\n",
    "        x_1_acc.append(x_1_acc[i] + (x_1_acc[i]/num_names)*profit_i)\n",
    "        \n",
    "dd_1_acc = max_dd(x_1_acc)\n"
   ]
  },
  {
   "cell_type": "markdown",
   "metadata": {},
   "source": [
    "- Set 2"
   ]
  },
  {
   "cell_type": "code",
   "execution_count": 42,
   "metadata": {},
   "outputs": [
    {
     "name": "stdout",
     "output_type": "stream",
     "text": [
      "maxmum drawdown during the period is 0.5663329768508405\n"
     ]
    },
    {
     "data": {
      "image/png": "[encoded data removed]",
      "text/plain": [
       "<Figure size 432x288 with 1 Axes>"
      ]
     },
     "metadata": {
      "needs_background": "light"
     },
     "output_type": "display_data"
    }
   ],
   "source": [
    "scalers_2_acc = [StandardScaler() for i in range(len(start_dates)-1)]\n",
    "\n",
    "opt_training_data = [pd.DataFrame(scalers_2_acc[i].fit_transform(training_frames[i][optimal_feature_2].values),columns=optimal_feature_2) for i in range(len(start_dates)-1)]\n",
    "opt_valid_data = [pd.DataFrame(scalers_2_acc[i].fit_transform(training_frames[i][optimal_feature_2].values),columns=optimal_feature_2) for i in range(len(start_dates)-1)]\n",
    "opt_test_data = [pd.DataFrame(scalers_2_acc[i].transform(test_frames[i][optimal_feature_2].values),columns=optimal_feature_2) for i in range(len(start_dates)-1)]\n",
    "\n",
    "x_2_acc = [1]\n",
    "ret_2_acc = []\n",
    "\n",
    "for i in range(len(start_dates)-1):\n",
    "        \n",
    "        ada_clf_acc.fit(opt_training_data[i],training_labels[i])\n",
    "\n",
    "        preds = ada_clf_acc.predict(opt_test_data[i])\n",
    "        profit_i = (preds*test_frames[i]['next_period_return']).sum()\n",
    "        ret_2_acc.append(profit_i)\n",
    "        num_names = len(opt_test_data[i])\n",
    "        x_2_acc.append(x_2_acc[i] + (x_2_acc[i]/num_names)*profit_i)\n",
    "        \n",
    "# it is the max drawdown for second set of feature with new objective\n",
    "dd_2_acc = max_dd(x_2_acc)"
   ]
  },
  {
   "cell_type": "markdown",
   "metadata": {},
   "source": [
    "- Set 3"
   ]
  },
  {
   "cell_type": "code",
   "execution_count": 43,
   "metadata": {},
   "outputs": [
    {
     "name": "stdout",
     "output_type": "stream",
     "text": [
      "maxmum drawdown during the period is 0.6339264023953406\n"
     ]
    },
    {
     "data": {
      "image/png": "[encoded data removed]",
      "text/plain": [
       "<Figure size 432x288 with 1 Axes>"
      ]
     },
     "metadata": {
      "needs_background": "light"
     },
     "output_type": "display_data"
    }
   ],
   "source": [
    "scalers_3_acc = [StandardScaler() for i in range(len(start_dates)-1)]\n",
    "           \n",
    "opt_training_data = [pd.DataFrame(scalers_3_acc[i].fit_transform(training_frames[i][optimal_feature_3].values),columns=optimal_feature_3) for i in range(len(start_dates)-1)]\n",
    "opt_valid_data = [pd.DataFrame(scalers_3_acc[i].fit_transform(training_frames[i][optimal_feature_3].values),columns=optimal_feature_3) for i in range(len(start_dates)-1)]\n",
    "opt_test_data = [pd.DataFrame(scalers_3_acc[i].transform(test_frames[i][optimal_feature_3].values),columns=optimal_feature_3) for i in range(len(start_dates)-1)]\n",
    "\n",
    "x_3_acc = [1]\n",
    "ret_3_acc = []\n",
    "\n",
    "for i in range(len(start_dates)-1):\n",
    "        \n",
    "        ada_clf_acc.fit(opt_training_data[i],training_labels[i])\n",
    "\n",
    "        preds = ada_clf_acc.predict(opt_test_data[i])\n",
    "        profit_i = (preds*test_frames[i]['next_period_return']).sum()\n",
    "        ret_3_acc.append(profit_i)\n",
    "        num_names = len(opt_test_data[i])\n",
    "        x_3_acc.append(x_3_acc[i] + (x_3_acc[i]/num_names)*profit_i)\n",
    "        \n",
    "# it is the max drawdown for third set of feature\n",
    "dd_3_acc = max_dd(x_3_acc)"
   ]
  },
  {
   "cell_type": "code",
   "execution_count": 44,
   "metadata": {},
   "outputs": [],
   "source": [
    "def objective_3(trial:Trial,train=None,labels=None,val=None,val_labels=None,val_rets=None):\n",
    "\n",
    "    ada_m_depth = trial.suggest_int('max_depth',1,5)\n",
    "    ada_n_estimators = trial.suggest_int('n_estimators', 10,100,step=10)\n",
    "    ada_learning_rate = trial.suggest_float('learning_rate',0.1,0.5, step=0.1)\n",
    "\n",
    "    \n",
    "    ada_clf = AdaBoostClassifier(DecisionTreeClassifier(max_depth=ada_m_depth),\n",
    "                                 n_estimators=ada_n_estimators,\n",
    "                                 learning_rate=ada_learning_rate,\n",
    "                                 algorithm=\"SAMME.R\")\n",
    "\n",
    "    ada_clf.fit(train,labels)\n",
    "    preds = ada_clf.predict(val)\n",
    "    profit = (preds * val_rets).sum()\n",
    " \n",
    "    return profit"
   ]
  },
  {
   "cell_type": "code",
   "execution_count": 48,
   "metadata": {},
   "outputs": [],
   "source": [
    "study_3 = optuna.create_study(direction=\"maximize\")\n",
    "from functools import partial"
   ]
  },
  {
   "cell_type": "code",
   "execution_count": 49,
   "metadata": {},
   "outputs": [
    {
     "name": "stdout",
     "output_type": "stream",
     "text": [
      "CPU times: user 10min 16s, sys: 11.1 s, total: 10min 27s\n",
      "Wall time: 1min 48s\n"
     ]
    }
   ],
   "source": [
    "%%time\n",
    "study_3.optimize(partial(objective_3,train=train_1,labels=y_1,val=valid,val_labels=y_valid,val_rets=valid_stock_returns), n_trials=20,n_jobs=-1)"
   ]
  },
  {
   "cell_type": "code",
   "execution_count": 50,
   "metadata": {},
   "outputs": [
    {
     "data": {
      "text/plain": [
       "{'max_depth': 5, 'n_estimators': 30, 'learning_rate': 0.5}"
      ]
     },
     "execution_count": 50,
     "metadata": {},
     "output_type": "execute_result"
    }
   ],
   "source": [
    "study_3.best_params"
   ]
  },
  {
   "cell_type": "code",
   "execution_count": 51,
   "metadata": {},
   "outputs": [],
   "source": [
    "max_depth_3 = study_3.best_params['max_depth']\n",
    "n_estimators_3 = study_3.best_params['n_estimators']\n",
    "learning_rate_3 = study_3.best_params['learning_rate']\n",
    "best_params_3 = {'n_estimators': n_estimators_3, 'learning_rate': learning_rate_3}"
   ]
  },
  {
   "cell_type": "code",
   "execution_count": 52,
   "metadata": {},
   "outputs": [],
   "source": [
    "ada_clf_profit = AdaBoostClassifier(DecisionTreeClassifier(max_depth=max_depth_3),**best_params_3)"
   ]
  },
  {
   "cell_type": "markdown",
   "metadata": {},
   "source": [
    "- Set 1"
   ]
  },
  {
   "cell_type": "code",
   "execution_count": 53,
   "metadata": {},
   "outputs": [
    {
     "name": "stdout",
     "output_type": "stream",
     "text": [
      "maxmum drawdown during the period is 0.4848671885074729\n"
     ]
    },
    {
     "data": {
      "image/png": "[encoded data removed]",
      "text/plain": [
       "<Figure size 432x288 with 1 Axes>"
      ]
     },
     "metadata": {
      "needs_background": "light"
     },
     "output_type": "display_data"
    }
   ],
   "source": [
    "scalers_1_profit = [StandardScaler() for i in range(len(start_dates)-1)]  \n",
    "        \n",
    "opt_training_data = [pd.DataFrame(scalers_1_profit[i].fit_transform(training_frames[i][optimal_feature_1].values),columns=optimal_feature_1) for i in range(len(start_dates)-1)]\n",
    "opt_valid_data = [pd.DataFrame(scalers_1_profit[i].fit_transform(training_frames[i][optimal_feature_1].values),columns=optimal_feature_1) for i in range(len(start_dates)-1)]\n",
    "opt_test_data = [pd.DataFrame(scalers_1_profit[i].transform(test_frames[i][optimal_feature_1].values),columns=optimal_feature_1) for i in range(len(start_dates)-1)]\n",
    "\n",
    "\n",
    "x_1_profit = [1]\n",
    "ret_1_profit = []\n",
    "\n",
    "for i in range(len(start_dates)-1):\n",
    "        \n",
    "        ada_clf_profit.fit(opt_training_data[i],training_labels[i])\n",
    "\n",
    "        preds = ada_clf_profit.predict(opt_test_data[i])\n",
    "        profit_i = (preds*test_frames[i]['next_period_return']).sum()\n",
    "        ret_1_profit.append(profit_i)\n",
    "        num_names = len(opt_test_data[i])\n",
    "        x_1_profit.append(x_1_profit[i] + (x_1_profit[i]/num_names)*profit_i)\n",
    "        \n",
    "        \n",
    "# it is the max drawdown for first set of feature with objective of maximizing profit\n",
    "dd_1_profit = max_dd(x_1_profit)"
   ]
  },
  {
   "cell_type": "markdown",
   "metadata": {},
   "source": [
    "- Set 2"
   ]
  },
  {
   "cell_type": "code",
   "execution_count": 54,
   "metadata": {},
   "outputs": [],
   "source": [
    "scalers_2_profit = [StandardScaler() for i in range(len(start_dates)-1)]\n",
    "\n",
    "opt_training_data = [pd.DataFrame(scalers_2_profit[i].fit_transform(training_frames[i][optimal_feature_2].values),columns=optimal_feature_2) for i in range(len(start_dates)-1)]\n",
    "opt_valid_data = [pd.DataFrame(scalers_2_profit[i].fit_transform(training_frames[i][optimal_feature_2].values),columns=optimal_feature_2) for i in range(len(start_dates)-1)]\n",
    "opt_test_data = [pd.DataFrame(scalers_2_profit[i].transform(test_frames[i][optimal_feature_2].values),columns=optimal_feature_2) for i in range(len(start_dates)-1)]\n"
   ]
  },
  {
   "cell_type": "code",
   "execution_count": 55,
   "metadata": {},
   "outputs": [],
   "source": [
    "x_2_profit = [1]\n",
    "ret_2_profit = []\n",
    "\n",
    "for i in range(len(start_dates)-1):\n",
    "        \n",
    "        ada_clf_profit.fit(opt_training_data[i],training_labels[i])\n",
    "\n",
    "        preds = ada_clf_profit.predict(opt_test_data[i])\n",
    "        profit_i = (preds*test_frames[i]['next_period_return']).sum()\n",
    "        ret_2_profit.append(profit_i)\n",
    "        num_names = len(opt_test_data[i])\n",
    "        x_2_profit.append(x_2_profit[i] + (x_2_profit[i]/num_names)*profit_i)"
   ]
  },
  {
   "cell_type": "code",
   "execution_count": 56,
   "metadata": {},
   "outputs": [
    {
     "name": "stdout",
     "output_type": "stream",
     "text": [
      "maxmum drawdown during the period is 0.2602888964933543\n"
     ]
    },
    {
     "data": {
      "image/png": "[encoded data removed]",
      "text/plain": [
       "<Figure size 432x288 with 1 Axes>"
      ]
     },
     "metadata": {
      "needs_background": "light"
     },
     "output_type": "display_data"
    }
   ],
   "source": [
    "dd_2_profit = max_dd(x_2_profit)"
   ]
  },
  {
   "cell_type": "markdown",
   "metadata": {},
   "source": [
    "- Set 3"
   ]
  },
  {
   "cell_type": "code",
   "execution_count": 57,
   "metadata": {},
   "outputs": [],
   "source": [
    "scalers_3_profit = [StandardScaler() for i in range(len(start_dates)-1)]\n",
    "           \n",
    "opt_training_data = [pd.DataFrame(scalers_3_profit[i].fit_transform(training_frames[i][optimal_feature_3].values),columns=optimal_feature_3) for i in range(len(start_dates)-1)]\n",
    "opt_valid_data = [pd.DataFrame(scalers_3_profit[i].fit_transform(training_frames[i][optimal_feature_3].values),columns=optimal_feature_3) for i in range(len(start_dates)-1)]\n",
    "opt_test_data = [pd.DataFrame(scalers_3_profit[i].transform(test_frames[i][optimal_feature_3].values),columns=optimal_feature_3) for i in range(len(start_dates)-1)]"
   ]
  },
  {
   "cell_type": "code",
   "execution_count": 58,
   "metadata": {},
   "outputs": [],
   "source": [
    "x_3_profit = [1]\n",
    "ret_3_profit = []\n",
    "\n",
    "for i in range(len(start_dates)-1):\n",
    "        \n",
    "        ada_clf_profit.fit(opt_training_data[i],training_labels[i])\n",
    "\n",
    "        preds = ada_clf_profit.predict(opt_test_data[i])\n",
    "        profit_i = (preds*test_frames[i]['next_period_return']).sum()\n",
    "        ret_3_profit.append(profit_i)\n",
    "        num_names = len(opt_test_data[i])\n",
    "        x_3_profit.append(x_3_profit[i] + (x_3_profit[i]/num_names)*profit_i)"
   ]
  },
  {
   "cell_type": "code",
   "execution_count": 59,
   "metadata": {},
   "outputs": [
    {
     "name": "stdout",
     "output_type": "stream",
     "text": [
      "maxmum drawdown during the period is 0.47717772598989083\n"
     ]
    },
    {
     "data": {
      "image/png": "[encoded data removed]",
      "text/plain": [
       "<Figure size 432x288 with 1 Axes>"
      ]
     },
     "metadata": {
      "needs_background": "light"
     },
     "output_type": "display_data"
    }
   ],
   "source": [
    "dd_3_profit = max_dd(x_3_profit)"
   ]
  },
  {
   "cell_type": "markdown",
   "metadata": {},
   "source": [
    "#### 3. Try to change the labels as in Homework 1 and 2 (or try to use your own way to make labels) and try to find a strategy that has both good Sharpe Ratio and a small max drawdown."
   ]
  },
  {
   "cell_type": "code",
   "execution_count": 60,
   "metadata": {},
   "outputs": [],
   "source": [
    "raw_data = pd.read_pickle(r'dataset.pkl')\n",
    "data = raw_data[raw_data['market_cap'] > 1000.0]\n",
    "data = data.copy()\n",
    "data.fillna(0.0,inplace=True)"
   ]
  },
  {
   "cell_type": "code",
   "execution_count": 61,
   "metadata": {},
   "outputs": [],
   "source": [
    "def f_new(x):\n",
    "    if x > 0.05:\n",
    "        return 1\n",
    "    elif -0.1 <= x <= 0.05:\n",
    "        return 0\n",
    "    else:\n",
    "        return -1"
   ]
  },
  {
   "cell_type": "code",
   "execution_count": 62,
   "metadata": {},
   "outputs": [],
   "source": [
    "data['rel_performance'] = data['pred_rel_return'].apply(f_new)\n",
    "data.reset_index(inplace=True)\n",
    "data.set_index('date',inplace=True)"
   ]
  },
  {
   "cell_type": "code",
   "execution_count": 63,
   "metadata": {},
   "outputs": [],
   "source": [
    "df_1 = data.loc['2001-01-01':'2004-01-01']\n",
    "df_valid = data.loc['2004-04-01':'2004-07-01']\n",
    "df_test = data.loc['2004-10-01':'2005-01-01']"
   ]
  },
  {
   "cell_type": "code",
   "execution_count": 64,
   "metadata": {},
   "outputs": [],
   "source": [
    "train_1 = df_1.reset_index().drop(['ticker','date',\n",
    "                                   'next_period_return',\n",
    "                                   'spy_next_period_return',\n",
    "                                   'rel_performance','pred_rel_return',\n",
    "                                  'return', 'cum_ret', 'spy_cum_ret'],axis=1)\n",
    "\n",
    "valid = df_valid.reset_index().drop(['ticker','date',\n",
    "                                    'next_period_return',\n",
    "                                   'spy_next_period_return',\n",
    "                                   'rel_performance','pred_rel_return',\n",
    "                                  'return', 'cum_ret', 'spy_cum_ret'],axis=1)\n",
    "\n",
    "test = df_test.reset_index().drop(['ticker','date',\n",
    "                                   'next_period_return',\n",
    "                                   'spy_next_period_return',\n",
    "                                   'rel_performance','pred_rel_return',\n",
    "                                  'return', 'cum_ret', 'spy_cum_ret'],axis=1)"
   ]
  },
  {
   "cell_type": "code",
   "execution_count": 65,
   "metadata": {},
   "outputs": [],
   "source": [
    "train_1_stock_returns = df_1['next_period_return']\n",
    "valid_stock_returns = df_valid['next_period_return']\n",
    "test_stock_returns = df_test['next_period_return']\n",
    "\n",
    "y_1 = df_1['rel_performance']\n",
    "y_valid = df_valid['rel_performance']\n",
    "y_test = df_test['rel_performance']\n",
    "\n",
    "y_1 = y_1.values\n",
    "y_valid = y_valid.values\n",
    "y_test = y_test.values\n",
    "\n",
    "qrt_profit = (train_1_stock_returns*y_1).resample('Q').sum().to_list()\n",
    "percentage_changes = [(qrt_profit[i] / qrt_profit[i-1] - 1) for i in range(1, len(qrt_profit))]"
   ]
  },
  {
   "cell_type": "code",
   "execution_count": 66,
   "metadata": {},
   "outputs": [],
   "source": [
    "def objective_4(trial:Trial,train=None,labels=None,val=None,val_labels=None,val_rets=None,prev_profit=None):\n",
    "\n",
    "    ada_m_depth = trial.suggest_int('max_depth',1,5)\n",
    "    ada_n_estimators = trial.suggest_int('n_estimators', 10,100,step=10)\n",
    "    ada_learning_rate = trial.suggest_float('learning_rate',0.1,0.5, step=0.1)\n",
    "\n",
    "    \n",
    "    ada_clf = AdaBoostClassifier(DecisionTreeClassifier(max_depth=ada_m_depth),\n",
    "                                 n_estimators=ada_n_estimators,\n",
    "                                 learning_rate=ada_learning_rate,\n",
    "                                 algorithm=\"SAMME.R\")\n",
    "\n",
    "    ada_clf.fit(train,labels)\n",
    "    profit = []\n",
    "    profit.append(prev_profit)\n",
    "    preds = ada_clf.predict(val)\n",
    "    profit_next = (preds * val_rets).sum()\n",
    "    profit.append(profit_next)\n",
    "    all_return = [(profit[i] / profit[i-1] - 1) for i in range(1, len(profit))]\n",
    "    period_max_drawdown = max_drawdown(all_return)\n",
    " \n",
    "    return period_max_drawdown"
   ]
  },
  {
   "cell_type": "code",
   "execution_count": 67,
   "metadata": {},
   "outputs": [],
   "source": [
    "study_4 = optuna.create_study(direction=\"minimize\")\n",
    "from functools import partial"
   ]
  },
  {
   "cell_type": "code",
   "execution_count": 68,
   "metadata": {},
   "outputs": [
    {
     "name": "stdout",
     "output_type": "stream",
     "text": [
      "CPU times: user 10min 29s, sys: 9.51 s, total: 10min 39s\n",
      "Wall time: 2min 13s\n"
     ]
    }
   ],
   "source": [
    "%%time\n",
    "study_4.optimize(partial(objective_4,train=train_1,labels=y_1,val=valid,val_labels=y_valid,val_rets=valid_stock_returns,prev_profit=qrt_profit), n_trials=20,n_jobs=-1)"
   ]
  },
  {
   "cell_type": "code",
   "execution_count": 69,
   "metadata": {},
   "outputs": [
    {
     "data": {
      "text/plain": [
       "{'max_depth': 4, 'n_estimators': 10, 'learning_rate': 0.30000000000000004}"
      ]
     },
     "execution_count": 69,
     "metadata": {},
     "output_type": "execute_result"
    }
   ],
   "source": [
    "study_4.best_params"
   ]
  },
  {
   "cell_type": "code",
   "execution_count": 70,
   "metadata": {},
   "outputs": [],
   "source": [
    "max_depth_4 = study_4.best_params['max_depth']\n",
    "n_estimators_4 = study_4.best_params['n_estimators']\n",
    "learning_rate_4 = study_4.best_params['learning_rate']\n",
    "\n",
    "best_params_4 = {'n_estimators': n_estimators_4, 'learning_rate': learning_rate_4}\n",
    "ada_clf_new = AdaBoostClassifier(DecisionTreeClassifier(max_depth=max_depth_4),**best_params_4)"
   ]
  },
  {
   "cell_type": "code",
   "execution_count": 71,
   "metadata": {},
   "outputs": [],
   "source": [
    "start_dates = [pd.to_datetime('2001-01-01') + pd.DateOffset(months = 3 * i) for i in range(57)]\n",
    "end_dates = [d + pd.DateOffset(months = 36) for d in start_dates]\n",
    "\n",
    "training_frames = [data.loc[d:d+pd.DateOffset(months = 36)] for d in start_dates]\n",
    "test_frames = [data.loc[d + pd.DateOffset(months=3):d+pd.DateOffset(months = 6)] for d in end_dates]\n",
    "\n",
    "training_data = [d.reset_index().drop\n",
    "                                 (['ticker','date',\n",
    "                                   'next_period_return',\n",
    "                                   'spy_next_period_return',\n",
    "                                   'rel_performance','pred_rel_return',\n",
    "                                  'return', 'cum_ret', 'spy_cum_ret'],axis=1) for d in training_frames]\n",
    "\n",
    "test_data = [d.reset_index().drop(['ticker','date',\n",
    "                                   'next_period_return',\n",
    "                                   'spy_next_period_return',\n",
    "                                   'rel_performance','pred_rel_return',\n",
    "                                  'return', 'cum_ret', 'spy_cum_ret'],axis=1) for d in test_frames]\n",
    "\n",
    "training_labels = [d['rel_performance'].values for d in training_frames]\n",
    "validation_labels = [d['rel_performance'].values for d in test_frames]"
   ]
  },
  {
   "cell_type": "code",
   "execution_count": 72,
   "metadata": {},
   "outputs": [],
   "source": [
    "scalers_1_new = [StandardScaler() for i in range(len(start_dates)-1)]     \n",
    "     \n",
    "opt_training_data = [pd.DataFrame(scalers_1_new[i].fit_transform(training_frames[i][optimal_feature_1].values),columns=optimal_feature_1) for i in range(len(start_dates)-1)]\n",
    "opt_valid_data = [pd.DataFrame(scalers_1_new[i].fit_transform(training_frames[i][optimal_feature_1].values),columns=optimal_feature_1) for i in range(len(start_dates)-1)]\n",
    "opt_test_data = [pd.DataFrame(scalers_1_new[i].transform(test_frames[i][optimal_feature_1].values),columns=optimal_feature_1) for i in range(len(start_dates)-1)]"
   ]
  },
  {
   "cell_type": "code",
   "execution_count": 73,
   "metadata": {},
   "outputs": [],
   "source": [
    "x_1_new = [1]\n",
    "ret_1_new = []\n",
    "\n",
    "for i in range(len(start_dates)-1):\n",
    "        \n",
    "        ada_clf_new.fit(opt_training_data[i],training_labels[i])\n",
    "\n",
    "        preds = ada_clf_new.predict(opt_test_data[i])\n",
    "        profit_i = (preds*test_frames[i]['next_period_return']).sum()\n",
    "        ret_1_new.append(profit_i)\n",
    "        num_names = len(opt_test_data[i])\n",
    "        x_1_new.append(x_1_new[i] + (x_1_new[i]/num_names)*profit_i)"
   ]
  },
  {
   "cell_type": "code",
   "execution_count": 74,
   "metadata": {},
   "outputs": [
    {
     "name": "stdout",
     "output_type": "stream",
     "text": [
      "maxmum drawdown during the period is 0.11762099626057121\n"
     ]
    },
    {
     "data": {
      "image/png": "[encoded data removed]",
      "text/plain": [
       "<Figure size 432x288 with 1 Axes>"
      ]
     },
     "metadata": {
      "needs_background": "light"
     },
     "output_type": "display_data"
    }
   ],
   "source": [
    "dd_1_new = max_dd(x_1_new)"
   ]
  },
  {
   "cell_type": "code",
   "execution_count": 75,
   "metadata": {},
   "outputs": [],
   "source": [
    "scalers_2_new = [StandardScaler() for i in range(len(start_dates)-1)]\n",
    "           \n",
    "opt_training_data = [pd.DataFrame(scalers_2_new[i].fit_transform(training_frames[i][optimal_feature_2].values),columns=optimal_feature_2) for i in range(len(start_dates)-1)]\n",
    "opt_valid_data = [pd.DataFrame(scalers_2_new[i].fit_transform(training_frames[i][optimal_feature_2].values),columns=optimal_feature_2) for i in range(len(start_dates)-1)]\n",
    "opt_test_data = [pd.DataFrame(scalers_2_new[i].transform(test_frames[i][optimal_feature_2].values),columns=optimal_feature_2) for i in range(len(start_dates)-1)]"
   ]
  },
  {
   "cell_type": "code",
   "execution_count": 76,
   "metadata": {},
   "outputs": [
    {
     "name": "stdout",
     "output_type": "stream",
     "text": [
      "maxmum drawdown during the period is 0.11349489880883001\n"
     ]
    },
    {
     "data": {
      "image/png": "[encoded data removed]",
      "text/plain": [
       "<Figure size 432x288 with 1 Axes>"
      ]
     },
     "metadata": {
      "needs_background": "light"
     },
     "output_type": "display_data"
    }
   ],
   "source": [
    "x_2_new = [1]\n",
    "ret_2_new = []\n",
    "\n",
    "for i in range(len(start_dates)-1):\n",
    "        \n",
    "        ada_clf_new.fit(opt_training_data[i],training_labels[i])\n",
    "\n",
    "        preds = ada_clf_new.predict(opt_test_data[i])\n",
    "        profit_i = (preds*test_frames[i]['next_period_return']).sum()\n",
    "        ret_2_new.append(profit_i)\n",
    "        num_names = len(opt_test_data[i])\n",
    "        x_2_new.append(x_2_new[i] + (x_2_new[i]/num_names)*profit_i)\n",
    "        \n",
    "dd_2_new = max_dd(x_2_new)"
   ]
  },
  {
   "cell_type": "code",
   "execution_count": 77,
   "metadata": {},
   "outputs": [
    {
     "name": "stdout",
     "output_type": "stream",
     "text": [
      "maxmum drawdown during the period is 0.10383190567009914\n"
     ]
    },
    {
     "data": {
      "image/png": "[encoded data removed]",
      "text/plain": [
       "<Figure size 432x288 with 1 Axes>"
      ]
     },
     "metadata": {
      "needs_background": "light"
     },
     "output_type": "display_data"
    }
   ],
   "source": [
    "scalers_3_new = [StandardScaler() for i in range(len(start_dates)-1)]\n",
    "           \n",
    "opt_training_data = [pd.DataFrame(scalers_3_new[i].fit_transform(training_frames[i][optimal_feature_3].values),columns=optimal_feature_3) for i in range(len(start_dates)-1)]\n",
    "opt_valid_data = [pd.DataFrame(scalers_3_new[i].fit_transform(training_frames[i][optimal_feature_3].values),columns=optimal_feature_3) for i in range(len(start_dates)-1)]\n",
    "opt_test_data = [pd.DataFrame(scalers_3_new[i].transform(test_frames[i][optimal_feature_3].values),columns=optimal_feature_3) for i in range(len(start_dates)-1)]\n",
    "\n",
    "x_3_new = [1]\n",
    "ret_3_new = []\n",
    "\n",
    "for i in range(len(start_dates)-1):\n",
    "        \n",
    "        ada_clf_new.fit(opt_training_data[i],training_labels[i])\n",
    "\n",
    "        preds = ada_clf_new.predict(opt_test_data[i])\n",
    "        profit_i = (preds*test_frames[i]['next_period_return']).sum()\n",
    "        ret_3_new.append(profit_i)\n",
    "        num_names = len(opt_test_data[i])\n",
    "        x_3_new.append(x_3_new[i] + (x_3_new[i]/num_names)*profit_i)\n",
    "        \n",
    "dd_3_new = max_dd(x_3_new)"
   ]
  },
  {
   "cell_type": "code",
   "execution_count": 80,
   "metadata": {},
   "outputs": [],
   "source": [
    "def objective_5(trial:Trial,train=None,labels=None,val=None,val_labels=None,val_rets=None):\n",
    "\n",
    "    ada_m_depth = trial.suggest_int('max_depth',1,5)\n",
    "    ada_n_estimators = trial.suggest_int('n_estimators', 10,100,step=10)\n",
    "    ada_learning_rate = trial.suggest_float('learning_rate',0.1,0.5, step=0.1)\n",
    "\n",
    "    \n",
    "    ada_clf = AdaBoostClassifier(DecisionTreeClassifier(max_depth=ada_m_depth),\n",
    "                                 n_estimators=ada_n_estimators,\n",
    "                                 learning_rate=ada_learning_rate,\n",
    "                                 algorithm=\"SAMME.R\")\n",
    "\n",
    "    ada_clf.fit(train,labels)\n",
    "    preds = ada_clf.predict(val)\n",
    "    accuracy = ada_clf.score(val,val_labels)\n",
    " \n",
    "    return accuracy\n",
    "\n",
    "study_5 = optuna.create_study(direction=\"maximize\")\n",
    "from functools import partial\n"
   ]
  },
  {
   "cell_type": "code",
   "execution_count": 81,
   "metadata": {},
   "outputs": [
    {
     "name": "stdout",
     "output_type": "stream",
     "text": [
      "CPU times: user 16min 58s, sys: 14 s, total: 17min 12s\n",
      "Wall time: 2min 53s\n"
     ]
    }
   ],
   "source": [
    "%%time\n",
    "study_5.optimize(partial(objective_5,train=train_1,labels=y_1,val=valid,val_labels=y_valid,val_rets=valid_stock_returns), n_trials=20,n_jobs=-1)"
   ]
  },
  {
   "cell_type": "code",
   "execution_count": 82,
   "metadata": {},
   "outputs": [
    {
     "data": {
      "text/plain": [
       "{'max_depth': 1, 'n_estimators': 40, 'learning_rate': 0.2}"
      ]
     },
     "execution_count": 82,
     "metadata": {},
     "output_type": "execute_result"
    }
   ],
   "source": [
    "study_5.best_params"
   ]
  },
  {
   "cell_type": "code",
   "execution_count": 83,
   "metadata": {},
   "outputs": [],
   "source": [
    "max_depth_5 = study_5.best_params['max_depth']\n",
    "n_estimators_5 = study_5.best_params['n_estimators']\n",
    "learning_rate_5 = study_5.best_params['learning_rate']\n",
    "\n",
    "best_params_5 = {'n_estimators': n_estimators_5, 'learning_rate': learning_rate_5}\n",
    "\n",
    "ada_clf_acc_new = AdaBoostClassifier(DecisionTreeClassifier(max_depth=max_depth_5),**best_params_5)"
   ]
  },
  {
   "cell_type": "markdown",
   "metadata": {},
   "source": [
    "- Set 1"
   ]
  },
  {
   "cell_type": "code",
   "execution_count": 84,
   "metadata": {},
   "outputs": [
    {
     "name": "stdout",
     "output_type": "stream",
     "text": [
      "maxmum drawdown during the period is 0.11624138745287027\n"
     ]
    },
    {
     "data": {
      "image/png": "[encoded data removed]",
      "text/plain": [
       "<Figure size 432x288 with 1 Axes>"
      ]
     },
     "metadata": {
      "needs_background": "light"
     },
     "output_type": "display_data"
    }
   ],
   "source": [
    "scalers_1_acc_new = [StandardScaler() for i in range(len(start_dates)-1)]  \n",
    "        \n",
    "opt_training_data = [pd.DataFrame(scalers_1_acc_new[i].fit_transform(training_frames[i][optimal_feature_1].values),columns=optimal_feature_1) for i in range(len(start_dates)-1)]\n",
    "opt_valid_data = [pd.DataFrame(scalers_1_acc_new[i].fit_transform(training_frames[i][optimal_feature_1].values),columns=optimal_feature_1) for i in range(len(start_dates)-1)]\n",
    "opt_test_data = [pd.DataFrame(scalers_1_acc_new[i].transform(test_frames[i][optimal_feature_1].values),columns=optimal_feature_1) for i in range(len(start_dates)-1)]\n",
    "\n",
    "x_1_acc_new = [1]\n",
    "ret_1_acc_new = []\n",
    "\n",
    "for i in range(len(start_dates)-1):\n",
    "        \n",
    "        ada_clf_acc_new.fit(opt_training_data[i],training_labels[i])\n",
    "\n",
    "        preds = ada_clf_acc_new.predict(opt_test_data[i])\n",
    "        profit_i = (preds*test_frames[i]['next_period_return']).sum()\n",
    "        ret_1_acc_new.append(profit_i)\n",
    "        num_names = len(opt_test_data[i])\n",
    "        x_1_acc_new.append(x_1_acc_new[i] + (x_1_acc_new[i]/num_names)*profit_i)\n",
    "        \n",
    "# it is the max drawdown for first set of feature with new objective and new label\n",
    "dd_1_acc_new = max_dd(x_1_acc_new)\n"
   ]
  },
  {
   "cell_type": "markdown",
   "metadata": {},
   "source": []
  },
  {
   "cell_type": "code",
   "execution_count": 85,
   "metadata": {},
   "outputs": [
    {
     "name": "stdout",
     "output_type": "stream",
     "text": [
      "maxmum drawdown during the period is 0.12212254148286283\n"
     ]
    },
    {
     "data": {
      "image/png": "[encoded data removed]",
      "text/plain": [
       "<Figure size 432x288 with 1 Axes>"
      ]
     },
     "metadata": {
      "needs_background": "light"
     },
     "output_type": "display_data"
    }
   ],
   "source": [
    "scalers_2_acc_new = [StandardScaler() for i in range(len(start_dates)-1)]\n",
    "\n",
    "opt_training_data = [pd.DataFrame(scalers_2_acc_new[i].fit_transform(training_frames[i][optimal_feature_2].values),columns=optimal_feature_2) for i in range(len(start_dates)-1)]\n",
    "opt_valid_data = [pd.DataFrame(scalers_2_acc_new[i].fit_transform(training_frames[i][optimal_feature_2].values),columns=optimal_feature_2) for i in range(len(start_dates)-1)]\n",
    "opt_test_data = [pd.DataFrame(scalers_2_acc_new[i].transform(test_frames[i][optimal_feature_2].values),columns=optimal_feature_2) for i in range(len(start_dates)-1)]\n",
    "\n",
    "x_2_acc_new = [1]\n",
    "ret_2_acc_new = []\n",
    "\n",
    "for i in range(len(start_dates)-1):\n",
    "        \n",
    "        ada_clf_acc_new.fit(opt_training_data[i],training_labels[i])\n",
    "\n",
    "        preds = ada_clf_acc_new.predict(opt_test_data[i])\n",
    "        profit_i = (preds*test_frames[i]['next_period_return']).sum()\n",
    "        ret_2_acc_new.append(profit_i)\n",
    "        num_names = len(opt_test_data[i])\n",
    "        x_2_acc_new.append(x_2_acc_new[i] + (x_2_acc_new[i]/num_names)*profit_i)\n",
    "        \n",
    "# it is the max drawdown for second set of feature with new objective and new label\n",
    "dd_2_acc_new = max_dd(x_2_acc_new)"
   ]
  },
  {
   "cell_type": "code",
   "execution_count": 86,
   "metadata": {},
   "outputs": [
    {
     "name": "stdout",
     "output_type": "stream",
     "text": [
      "maxmum drawdown during the period is 0.10471657191758621\n"
     ]
    },
    {
     "data": {
      "image/png": "[encoded data removed]",
      "text/plain": [
       "<Figure size 432x288 with 1 Axes>"
      ]
     },
     "metadata": {
      "needs_background": "light"
     },
     "output_type": "display_data"
    }
   ],
   "source": [
    "# try the third set of features with new objective\n",
    "scalers_3_acc_new = [StandardScaler() for i in range(len(start_dates)-1)]\n",
    "           \n",
    "opt_training_data = [pd.DataFrame(scalers_3_acc_new[i].fit_transform(training_frames[i][optimal_feature_3].values),columns=optimal_feature_3) for i in range(len(start_dates)-1)]\n",
    "opt_valid_data = [pd.DataFrame(scalers_3_acc_new[i].fit_transform(training_frames[i][optimal_feature_3].values),columns=optimal_feature_3) for i in range(len(start_dates)-1)]\n",
    "opt_test_data = [pd.DataFrame(scalers_3_acc_new[i].transform(test_frames[i][optimal_feature_3].values),columns=optimal_feature_3) for i in range(len(start_dates)-1)]\n",
    "\n",
    "x_3_acc_new = [1]\n",
    "ret_3_acc_new = []\n",
    "\n",
    "for i in range(len(start_dates)-1):\n",
    "        \n",
    "        ada_clf_acc_new.fit(opt_training_data[i],training_labels[i])\n",
    "\n",
    "        preds = ada_clf_acc_new.predict(opt_test_data[i])\n",
    "        profit_i = (preds*test_frames[i]['next_period_return']).sum()\n",
    "        ret_3_acc_new.append(profit_i)\n",
    "        num_names = len(opt_test_data[i])\n",
    "        x_3_acc_new.append(x_3_acc_new[i] + (x_3_acc_new[i]/num_names)*profit_i)\n",
    "        \n",
    "# it is the max drawdown for third set of feature\n",
    "dd_3_acc_new = max_dd(x_3_acc_new)"
   ]
  }
 ],
 "metadata": {
  "kernelspec": {
   "display_name": "Python 3 (ipykernel)",
   "language": "python",
   "name": "python3"
  },
  "language_info": {
   "codemirror_mode": {
    "name": "ipython",
    "version": 3
   },
   "file_extension": ".py",
   "mimetype": "text/x-python",
   "name": "python",
   "nbconvert_exporter": "python",
   "pygments_lexer": "ipython3",
   "version": "3.8.8"
  }
 },
 "nbformat": 4,
 "nbformat_minor": 2
}
