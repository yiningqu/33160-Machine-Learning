{
 "cells": [
  {
   "cell_type": "code",
   "execution_count": null,
   "metadata": {},
   "outputs": [],
   "source": [
    "# !pip install umap-learn"
   ]
  },
  {
   "cell_type": "code",
   "execution_count": 1,
   "metadata": {},
   "outputs": [],
   "source": [
    "import numpy as np\n",
    "import pandas as pd\n",
    "\n",
    "import matplotlib.pyplot as plt\n",
    "import seaborn as sns\n",
    "from scipy.stats import norm\n",
    "\n",
    "from sklearn import tree\n",
    "from matplotlib.patches import Rectangle\n",
    "from matplotlib.collections import PatchCollection\n",
    "from matplotlib import cm\n",
    "import umap #for umap\n",
    "\n",
    "sns.set()"
   ]
  },
  {
   "cell_type": "code",
   "execution_count": 2,
   "metadata": {},
   "outputs": [],
   "source": [
    "def plot_decision_boundary(data,labels,clf):\n",
    "    plot_step = 0.02\n",
    "    x_min, x_max = data[:,0].min() -1, data[:,0].max() + 1\n",
    "    y_min,y_max = data[:,1].min() -1 , data[:,1].max() + 1\n",
    "\n",
    "    xx,yy = np.meshgrid(np.arange(x_min,x_max,plot_step),\n",
    "                   np.arange(y_min,y_max,plot_step))\n",
    "    A = np.array(clf.predict(np.c_[xx.ravel(),yy.ravel()]))\n",
    "    A = A.reshape(xx.shape)\n",
    "    cs = plt.contourf(xx,yy,A,cmap='cool')\n",
    "\n",
    "    plt.xlabel('x')\n",
    "    plt.ylabel('y')\n",
    "    plt.title('Decision Boundary')\n",
    "\n",
    "    plt.scatter(data[:,0],data[:,1],c=labels,cmap='hot',s=100)\n",
    "    plt.show()"
   ]
  },
  {
   "cell_type": "markdown",
   "metadata": {},
   "source": [
    "### Optimal Features from Bagging notebook"
   ]
  },
  {
   "cell_type": "code",
   "execution_count": 3,
   "metadata": {},
   "outputs": [],
   "source": [
    "optim_feats = np.array(['fcf_yield', 'oiadpq', 'rd_saleq', 'market_cap', 'oancfy_q',\n",
    "       'oeps12', 'ibadj12', 'book_value_yield', 'oepf12', 'quick_ratioq',\n",
    "       'short_debtq', 'cf_yield', 'sic_6798', 'ibcy', 'xidoy', 'chechy',\n",
    "       'inv_turnq', 'ocf_lctq', 'dpcq', 'cfmq', 'oancfy', 'roeq',\n",
    "       'cfo-per-share', 'txpq', 'opmbdq', 'psq', 'dltisy', 'dltry',\n",
    "       'yearly_sales', 'xsgay', 'lagppent4', 'fcf_ocfq', 'cash_ratioq',\n",
    "       'de_ratioq', 'sale_equityq', 'evmq', 'opepsq', 'dvy', 'actq',\n",
    "       'capxq', 'ceq4', 'fcf_csfhdq', 'sale_invcapq', 'apq', 'dlttq',\n",
    "       'rect_actq', 'capeiq', 'nopiq', 'capxy', 'npmq', 'invt_actq',\n",
    "       'oibdpy', 'accrualq', 'int_totdebtq', 'txtq', 'gpmq',\n",
    "       'aftret_invcapxq', 'dpq'], dtype=object)"
   ]
  },
  {
   "cell_type": "code",
   "execution_count": 4,
   "metadata": {},
   "outputs": [
    {
     "data": {
      "text/plain": [
       "58"
      ]
     },
     "execution_count": 4,
     "metadata": {},
     "output_type": "execute_result"
    }
   ],
   "source": [
    "len(optim_feats)"
   ]
  },
  {
   "cell_type": "markdown",
   "metadata": {},
   "source": [
    "**Only Include half of the features randomly**"
   ]
  },
  {
   "cell_type": "code",
   "execution_count": 5,
   "metadata": {},
   "outputs": [
    {
     "data": {
      "text/plain": [
       "array(['oancfy', 'dlttq', 'sale_invcapq', 'market_cap', 'npmq', 'evmq',\n",
       "       'nopiq', 'txtq', 'oeps12', 'fcf_ocfq', 'actq', 'apq', 'fcf_yield',\n",
       "       'cash_ratioq', 'roeq', 'chechy', 'opmbdq', 'xsgay',\n",
       "       'book_value_yield', 'invt_actq', 'rect_actq', 'yearly_sales',\n",
       "       'rd_saleq', 'capxy', 'dltisy', 'cf_yield', 'ibcy', 'ibadj12',\n",
       "       'oiadpq'], dtype=object)"
      ]
     },
     "execution_count": 5,
     "metadata": {},
     "output_type": "execute_result"
    }
   ],
   "source": [
    "max_features = 0.5\n",
    "features = np.random.choice(optim_feats,int(0.5 * len(optim_feats)),replace=False)\n",
    "features"
   ]
  },
  {
   "cell_type": "code",
   "execution_count": 6,
   "metadata": {},
   "outputs": [
    {
     "data": {
      "text/plain": [
       "29"
      ]
     },
     "execution_count": 6,
     "metadata": {},
     "output_type": "execute_result"
    }
   ],
   "source": [
    "len(features)"
   ]
  },
  {
   "cell_type": "markdown",
   "metadata": {},
   "source": [
    "## The RandomForest is an ensemble of Trees. Each Tree is built up of Nodes.\n",
    "\n",
    "### Node Class"
   ]
  },
  {
   "cell_type": "code",
   "execution_count": 7,
   "metadata": {},
   "outputs": [],
   "source": [
    "class Node():\n",
    "        def __init__(self,data:pd.DataFrame = None,labels=None,min_samples_leaf = 1,max_features=0.5):\n",
    "            self.data = data\n",
    "            self.labels = labels\n",
    "            self.left = None\n",
    "            self.right = None\n",
    "            self.split = None\n",
    "            self.max_features = max_features\n",
    "            self.min_samples_leaf = min_samples_leaf\n",
    "            if len(self.data) < 2 * self.min_samples_leaf:\n",
    "                self.isLeaf = True\n",
    "            else: self.isLeaf = False\n",
    "            \n",
    "        def gini_index(self,labels):\n",
    "\n",
    "            C = Counter(labels)\n",
    "            total = len(labels)\n",
    "            frequencies = { k:v/total for (k,v) in C.items()}\n",
    "            gini_index = np.sum([p*(1-p) for p in frequencies.values()])\n",
    "            #running loop in an array saves time\n",
    "            return gini_index\n",
    "        \n",
    "        def find_best_split(self):\n",
    "            \n",
    "            if self.data.empty:\n",
    "                return\n",
    "            \n",
    "            if len(self.data) < 2*self.min_samples_leaf:\n",
    "                self.isLeaf = True\n",
    "                return\n",
    "\n",
    "        \n",
    "            data_set = self.data.reset_index(drop=True)\n",
    "            labels = self.labels\n",
    "            \n",
    "            \n",
    "            if self.max_features * len(data_set.columns) <= 1:\n",
    "                n=1\n",
    "            else:\n",
    "                n = np.random.choice(range(1,int(self.max_features * len(data_set.columns))+1),1)\n",
    " \n",
    "            random_features = np.random.choice(data_set.columns,n,replace=False)\n",
    "\n",
    "            best_split_gini = np.inf\n",
    "        \n",
    "            best_feature = None\n",
    "            best_value = None\n",
    "        \n",
    "            for f in random_features:\n",
    "           \n",
    "                for x in data_set[f]:\n",
    "                \n",
    "                \n",
    "                    L_idxs = data_set.index[data_set[f] < x].tolist()\n",
    "                    R_idxs = data_set.index[data_set[f] >= x].tolist()\n",
    "\n",
    "\n",
    "                    L_labels = labels[L_idxs]\n",
    "                    R_labels = labels[R_idxs]\n",
    "                    \n",
    "                    if (len(L_labels) < self.min_samples_leaf) or (len(R_labels) < self.min_samples_leaf):\n",
    "                        continue\n",
    "                        \n",
    "                    else:\n",
    "\n",
    "                        gi_L = self.gini_index(L_labels)\n",
    "                        gi_R = self.gini_index(R_labels)\n",
    "\n",
    "                        gini_index_of_split = len(L_idxs) * gi_L + len(R_idxs) * gi_R\n",
    "               \n",
    "                        if gini_index_of_split < best_split_gini:\n",
    "                            best_split_gini = gini_index_of_split\n",
    "                        \n",
    "                            self.left = Node(data=data_set.iloc[L_idxs].reset_index(drop=True),\n",
    "                                             labels = L_labels,min_samples_leaf = self.min_samples_leaf)\n",
    "                \n",
    "                            if (gi_L == 0) or (len(L_labels) < 2 * self.min_samples_leaf):\n",
    "                                    self.left.isLeaf = True\n",
    "\n",
    "                \n",
    "\n",
    "                            self.right = Node(data = data_set.iloc[R_idxs].reset_index(drop=True),\n",
    "                                              labels = R_labels,min_samples_leaf = self.min_samples_leaf)\n",
    "                    \n",
    "                            if (gi_R == 0) or (len(R_labels) < 2 * self.min_samples_leaf):\n",
    "                                       self.right.isLeaf = True\n",
    "\n",
    "                                \n",
    "                            best_feature = f\n",
    "                            best_value = x\n",
    "                        \n",
    "                            self.split = (best_feature,best_value)\n",
    "                                \n",
    "                        else: continue\n",
    "  \n",
    "                return\n",
    "                                "
   ]
  },
  {
   "cell_type": "markdown",
   "metadata": {},
   "source": [
    "## A data set with 4 features and 4 labels"
   ]
  },
  {
   "cell_type": "code",
   "execution_count": 8,
   "metadata": {},
   "outputs": [],
   "source": [
    "from sklearn.datasets import make_classification"
   ]
  },
  {
   "cell_type": "code",
   "execution_count": 9,
   "metadata": {},
   "outputs": [],
   "source": [
    "X, y = make_classification(n_samples=500,n_features=4, n_redundant=0, n_informative=2,\n",
    "                             n_clusters_per_class=1, n_classes=4)"
   ]
  },
  {
   "cell_type": "code",
   "execution_count": 10,
   "metadata": {},
   "outputs": [],
   "source": [
    "reducer = umap.UMAP()"
   ]
  },
  {
   "cell_type": "code",
   "execution_count": 11,
   "metadata": {},
   "outputs": [],
   "source": [
    "import matplotlib.pyplot as plt\n",
    "%matplotlib inline"
   ]
  },
  {
   "cell_type": "code",
   "execution_count": 12,
   "metadata": {},
   "outputs": [],
   "source": [
    "X_embedded = reducer.fit_transform(X)"
   ]
  },
  {
   "cell_type": "code",
   "execution_count": 13,
   "metadata": {},
   "outputs": [
    {
     "data": {
      "image/png": "[encoded data removed]",
      "text/plain": [
       "<Figure size 640x480 with 1 Axes>"
      ]
     },
     "metadata": {},
     "output_type": "display_data"
    }
   ],
   "source": [
    "plt.scatter(X_embedded[:,0],X_embedded[:,1],c=y);"
   ]
  },
  {
   "cell_type": "code",
   "execution_count": null,
   "metadata": {},
   "outputs": [],
   "source": [
    "y"
   ]
  },
  {
   "cell_type": "code",
   "execution_count": 14,
   "metadata": {},
   "outputs": [],
   "source": [
    "X = pd.DataFrame(data = X, columns = [0,1,2,3])"
   ]
  },
  {
   "cell_type": "code",
   "execution_count": null,
   "metadata": {},
   "outputs": [],
   "source": [
    "X"
   ]
  },
  {
   "cell_type": "code",
   "execution_count": 15,
   "metadata": {},
   "outputs": [
    {
     "data": {
      "text/plain": [
       "Counter({2: 126, 3: 125, 1: 125, 0: 124})"
      ]
     },
     "execution_count": 15,
     "metadata": {},
     "output_type": "execute_result"
    }
   ],
   "source": [
    "from collections import Counter\n",
    "C = Counter(y)\n",
    "C"
   ]
  },
  {
   "cell_type": "code",
   "execution_count": 16,
   "metadata": {},
   "outputs": [
    {
     "data": {
      "text/plain": [
       "[(2, 126), (3, 125), (1, 125), (0, 124)]"
      ]
     },
     "execution_count": 16,
     "metadata": {},
     "output_type": "execute_result"
    }
   ],
   "source": [
    "C.most_common()"
   ]
  },
  {
   "cell_type": "code",
   "execution_count": 17,
   "metadata": {},
   "outputs": [
    {
     "data": {
      "text/plain": [
       "2"
      ]
     },
     "execution_count": 17,
     "metadata": {},
     "output_type": "execute_result"
    }
   ],
   "source": [
    "C.most_common()[0][0]"
   ]
  },
  {
   "cell_type": "code",
   "execution_count": 18,
   "metadata": {},
   "outputs": [],
   "source": [
    "total = len(y)"
   ]
  },
  {
   "cell_type": "code",
   "execution_count": 19,
   "metadata": {},
   "outputs": [
    {
     "data": {
      "text/plain": [
       "500"
      ]
     },
     "execution_count": 19,
     "metadata": {},
     "output_type": "execute_result"
    }
   ],
   "source": [
    "total"
   ]
  },
  {
   "cell_type": "code",
   "execution_count": 20,
   "metadata": {},
   "outputs": [
    {
     "data": {
      "text/plain": [
       "dict_items([(2, 126), (3, 125), (0, 124), (1, 125)])"
      ]
     },
     "execution_count": 20,
     "metadata": {},
     "output_type": "execute_result"
    }
   ],
   "source": [
    "C.items()"
   ]
  },
  {
   "cell_type": "code",
   "execution_count": 21,
   "metadata": {},
   "outputs": [
    {
     "data": {
      "text/plain": [
       "{2: 0.252, 3: 0.25, 0: 0.248, 1: 0.25}"
      ]
     },
     "execution_count": 21,
     "metadata": {},
     "output_type": "execute_result"
    }
   ],
   "source": [
    "frequencies = { k:v/total for (k,v) in C.items()}\n",
    "frequencies"
   ]
  },
  {
   "cell_type": "code",
   "execution_count": 22,
   "metadata": {},
   "outputs": [
    {
     "data": {
      "text/plain": [
       "dict_values([0.252, 0.25, 0.248, 0.25])"
      ]
     },
     "execution_count": 22,
     "metadata": {},
     "output_type": "execute_result"
    }
   ],
   "source": [
    "frequencies.values()"
   ]
  },
  {
   "cell_type": "code",
   "execution_count": 23,
   "metadata": {},
   "outputs": [
    {
     "data": {
      "text/plain": [
       "0.749992"
      ]
     },
     "execution_count": 23,
     "metadata": {},
     "output_type": "execute_result"
    }
   ],
   "source": [
    "gini_index = np.sum([ p * (1 - p) for p in frequencies.values()])\n",
    "gini_index"
   ]
  },
  {
   "cell_type": "code",
   "execution_count": 24,
   "metadata": {},
   "outputs": [],
   "source": [
    "data_set = X\n",
    "labels = y"
   ]
  },
  {
   "cell_type": "code",
   "execution_count": 25,
   "metadata": {},
   "outputs": [
    {
     "data": {
      "text/plain": [
       "array([1, 0], dtype=int64)"
      ]
     },
     "execution_count": 25,
     "metadata": {},
     "output_type": "execute_result"
    }
   ],
   "source": [
    "max_features = 0.5\n",
    "features = np.random.choice(data_set.columns,int(0.5 * len(data_set.columns)),replace=False)\n",
    "features"
   ]
  },
  {
   "cell_type": "code",
   "execution_count": 26,
   "metadata": {},
   "outputs": [
    {
     "data": {
      "text/html": [
       "<div>\n",
       "<style scoped>\n",
       "    .dataframe tbody tr th:only-of-type {\n",
       "        vertical-align: middle;\n",
       "    }\n",
       "\n",
       "    .dataframe tbody tr th {\n",
       "        vertical-align: top;\n",
       "    }\n",
       "\n",
       "    .dataframe thead th {\n",
       "        text-align: right;\n",
       "    }\n",
       "</style>\n",
       "<table border=\"1\" class=\"dataframe\">\n",
       "  <thead>\n",
       "    <tr style=\"text-align: right;\">\n",
       "      <th></th>\n",
       "      <th>1</th>\n",
       "      <th>0</th>\n",
       "    </tr>\n",
       "  </thead>\n",
       "  <tbody>\n",
       "    <tr>\n",
       "      <th>0</th>\n",
       "      <td>0.595112</td>\n",
       "      <td>0.049394</td>\n",
       "    </tr>\n",
       "    <tr>\n",
       "      <th>1</th>\n",
       "      <td>-0.593857</td>\n",
       "      <td>0.054356</td>\n",
       "    </tr>\n",
       "    <tr>\n",
       "      <th>2</th>\n",
       "      <td>0.728556</td>\n",
       "      <td>-0.469593</td>\n",
       "    </tr>\n",
       "    <tr>\n",
       "      <th>3</th>\n",
       "      <td>-1.029016</td>\n",
       "      <td>-2.171544</td>\n",
       "    </tr>\n",
       "    <tr>\n",
       "      <th>4</th>\n",
       "      <td>-0.895415</td>\n",
       "      <td>-0.390617</td>\n",
       "    </tr>\n",
       "    <tr>\n",
       "      <th>...</th>\n",
       "      <td>...</td>\n",
       "      <td>...</td>\n",
       "    </tr>\n",
       "    <tr>\n",
       "      <th>495</th>\n",
       "      <td>1.287201</td>\n",
       "      <td>-1.819151</td>\n",
       "    </tr>\n",
       "    <tr>\n",
       "      <th>496</th>\n",
       "      <td>0.048390</td>\n",
       "      <td>1.710399</td>\n",
       "    </tr>\n",
       "    <tr>\n",
       "      <th>497</th>\n",
       "      <td>1.481323</td>\n",
       "      <td>-0.129125</td>\n",
       "    </tr>\n",
       "    <tr>\n",
       "      <th>498</th>\n",
       "      <td>-0.613085</td>\n",
       "      <td>0.845011</td>\n",
       "    </tr>\n",
       "    <tr>\n",
       "      <th>499</th>\n",
       "      <td>0.583282</td>\n",
       "      <td>-1.034056</td>\n",
       "    </tr>\n",
       "  </tbody>\n",
       "</table>\n",
       "<p>500 rows × 2 columns</p>\n",
       "</div>"
      ],
      "text/plain": [
       "            1         0\n",
       "0    0.595112  0.049394\n",
       "1   -0.593857  0.054356\n",
       "2    0.728556 -0.469593\n",
       "3   -1.029016 -2.171544\n",
       "4   -0.895415 -0.390617\n",
       "..        ...       ...\n",
       "495  1.287201 -1.819151\n",
       "496  0.048390  1.710399\n",
       "497  1.481323 -0.129125\n",
       "498 -0.613085  0.845011\n",
       "499  0.583282 -1.034056\n",
       "\n",
       "[500 rows x 2 columns]"
      ]
     },
     "execution_count": 26,
     "metadata": {},
     "output_type": "execute_result"
    }
   ],
   "source": [
    "data_set[features]"
   ]
  },
  {
   "cell_type": "code",
   "execution_count": 27,
   "metadata": {},
   "outputs": [
    {
     "data": {
      "text/plain": [
       "0.953809432914698"
      ]
     },
     "execution_count": 27,
     "metadata": {},
     "output_type": "execute_result"
    }
   ],
   "source": [
    "f = 3\n",
    "x = data_set[f].iloc[498]\n",
    "x"
   ]
  },
  {
   "cell_type": "code",
   "execution_count": 28,
   "metadata": {},
   "outputs": [],
   "source": [
    "L_idxs = data_set.index[data_set[f] < x].tolist()\n",
    "R_idxs = data_set.index[data_set[f] >= x].tolist()"
   ]
  },
  {
   "cell_type": "code",
   "execution_count": 29,
   "metadata": {},
   "outputs": [
    {
     "data": {
      "text/plain": [
       "[0,\n",
       " 2,\n",
       " 3,\n",
       " 4,\n",
       " 5,\n",
       " 6,\n",
       " 7,\n",
       " 9,\n",
       " 10,\n",
       " 11,\n",
       " 12,\n",
       " 13,\n",
       " 14,\n",
       " 15,\n",
       " 18,\n",
       " 19,\n",
       " 20,\n",
       " 21,\n",
       " 22,\n",
       " 23,\n",
       " 25,\n",
       " 26,\n",
       " 27,\n",
       " 28,\n",
       " 29,\n",
       " 30,\n",
       " 32,\n",
       " 33,\n",
       " 34,\n",
       " 35,\n",
       " 36,\n",
       " 37,\n",
       " 38,\n",
       " 40,\n",
       " 41,\n",
       " 43,\n",
       " 45,\n",
       " 46,\n",
       " 47,\n",
       " 48,\n",
       " 49,\n",
       " 50,\n",
       " 51,\n",
       " 53,\n",
       " 55,\n",
       " 56,\n",
       " 59,\n",
       " 60,\n",
       " 61,\n",
       " 62,\n",
       " 63,\n",
       " 65,\n",
       " 66,\n",
       " 67,\n",
       " 68,\n",
       " 69,\n",
       " 70,\n",
       " 71,\n",
       " 72,\n",
       " 73,\n",
       " 74,\n",
       " 75,\n",
       " 77,\n",
       " 78,\n",
       " 79,\n",
       " 80,\n",
       " 82,\n",
       " 83,\n",
       " 85,\n",
       " 86,\n",
       " 87,\n",
       " 88,\n",
       " 89,\n",
       " 91,\n",
       " 92,\n",
       " 95,\n",
       " 98,\n",
       " 99,\n",
       " 100,\n",
       " 101,\n",
       " 103,\n",
       " 106,\n",
       " 109,\n",
       " 110,\n",
       " 111,\n",
       " 112,\n",
       " 113,\n",
       " 116,\n",
       " 117,\n",
       " 119,\n",
       " 120,\n",
       " 121,\n",
       " 122,\n",
       " 123,\n",
       " 124,\n",
       " 126,\n",
       " 129,\n",
       " 130,\n",
       " 132,\n",
       " 133,\n",
       " 135,\n",
       " 136,\n",
       " 137,\n",
       " 138,\n",
       " 139,\n",
       " 143,\n",
       " 144,\n",
       " 145,\n",
       " 147,\n",
       " 148,\n",
       " 149,\n",
       " 150,\n",
       " 151,\n",
       " 153,\n",
       " 154,\n",
       " 156,\n",
       " 157,\n",
       " 158,\n",
       " 159,\n",
       " 160,\n",
       " 161,\n",
       " 162,\n",
       " 163,\n",
       " 164,\n",
       " 165,\n",
       " 166,\n",
       " 167,\n",
       " 168,\n",
       " 169,\n",
       " 170,\n",
       " 172,\n",
       " 173,\n",
       " 174,\n",
       " 175,\n",
       " 176,\n",
       " 177,\n",
       " 179,\n",
       " 181,\n",
       " 182,\n",
       " 183,\n",
       " 185,\n",
       " 186,\n",
       " 188,\n",
       " 189,\n",
       " 190,\n",
       " 191,\n",
       " 194,\n",
       " 195,\n",
       " 197,\n",
       " 198,\n",
       " 199,\n",
       " 200,\n",
       " 201,\n",
       " 202,\n",
       " 203,\n",
       " 204,\n",
       " 205,\n",
       " 208,\n",
       " 209,\n",
       " 210,\n",
       " 213,\n",
       " 214,\n",
       " 215,\n",
       " 216,\n",
       " 217,\n",
       " 218,\n",
       " 219,\n",
       " 220,\n",
       " 221,\n",
       " 222,\n",
       " 223,\n",
       " 224,\n",
       " 225,\n",
       " 227,\n",
       " 228,\n",
       " 229,\n",
       " 230,\n",
       " 234,\n",
       " 235,\n",
       " 236,\n",
       " 237,\n",
       " 238,\n",
       " 240,\n",
       " 241,\n",
       " 243,\n",
       " 244,\n",
       " 245,\n",
       " 246,\n",
       " 247,\n",
       " 250,\n",
       " 251,\n",
       " 252,\n",
       " 254,\n",
       " 257,\n",
       " 258,\n",
       " 260,\n",
       " 261,\n",
       " 262,\n",
       " 263,\n",
       " 264,\n",
       " 265,\n",
       " 266,\n",
       " 267,\n",
       " 268,\n",
       " 269,\n",
       " 270,\n",
       " 271,\n",
       " 273,\n",
       " 274,\n",
       " 275,\n",
       " 276,\n",
       " 278,\n",
       " 282,\n",
       " 283,\n",
       " 285,\n",
       " 287,\n",
       " 289,\n",
       " 291,\n",
       " 294,\n",
       " 299,\n",
       " 302,\n",
       " 305,\n",
       " 306,\n",
       " 308,\n",
       " 309,\n",
       " 310,\n",
       " 311,\n",
       " 312,\n",
       " 313,\n",
       " 314,\n",
       " 319,\n",
       " 320,\n",
       " 321,\n",
       " 323,\n",
       " 324,\n",
       " 325,\n",
       " 326,\n",
       " 331,\n",
       " 332,\n",
       " 334,\n",
       " 335,\n",
       " 337,\n",
       " 338,\n",
       " 340,\n",
       " 341,\n",
       " 342,\n",
       " 343,\n",
       " 346,\n",
       " 348,\n",
       " 350,\n",
       " 351,\n",
       " 352,\n",
       " 353,\n",
       " 355,\n",
       " 356,\n",
       " 357,\n",
       " 358,\n",
       " 359,\n",
       " 360,\n",
       " 364,\n",
       " 365,\n",
       " 366,\n",
       " 367,\n",
       " 368,\n",
       " 370,\n",
       " 372,\n",
       " 373,\n",
       " 374,\n",
       " 375,\n",
       " 376,\n",
       " 378,\n",
       " 379,\n",
       " 380,\n",
       " 381,\n",
       " 382,\n",
       " 386,\n",
       " 389,\n",
       " 390,\n",
       " 392,\n",
       " 393,\n",
       " 395,\n",
       " 396,\n",
       " 397,\n",
       " 398,\n",
       " 402,\n",
       " 404,\n",
       " 405,\n",
       " 406,\n",
       " 407,\n",
       " 408,\n",
       " 409,\n",
       " 410,\n",
       " 411,\n",
       " 413,\n",
       " 414,\n",
       " 415,\n",
       " 416,\n",
       " 417,\n",
       " 418,\n",
       " 419,\n",
       " 421,\n",
       " 422,\n",
       " 423,\n",
       " 424,\n",
       " 425,\n",
       " 426,\n",
       " 428,\n",
       " 430,\n",
       " 432,\n",
       " 434,\n",
       " 435,\n",
       " 436,\n",
       " 437,\n",
       " 438,\n",
       " 439,\n",
       " 440,\n",
       " 441,\n",
       " 442,\n",
       " 443,\n",
       " 444,\n",
       " 445,\n",
       " 446,\n",
       " 447,\n",
       " 448,\n",
       " 450,\n",
       " 451,\n",
       " 452,\n",
       " 453,\n",
       " 454,\n",
       " 455,\n",
       " 456,\n",
       " 458,\n",
       " 459,\n",
       " 461,\n",
       " 462,\n",
       " 464,\n",
       " 465,\n",
       " 466,\n",
       " 467,\n",
       " 470,\n",
       " 471,\n",
       " 472,\n",
       " 473,\n",
       " 474,\n",
       " 475,\n",
       " 476,\n",
       " 477,\n",
       " 478,\n",
       " 480,\n",
       " 481,\n",
       " 482,\n",
       " 483,\n",
       " 484,\n",
       " 485,\n",
       " 486,\n",
       " 487,\n",
       " 488,\n",
       " 489,\n",
       " 490,\n",
       " 492,\n",
       " 493,\n",
       " 494,\n",
       " 495,\n",
       " 496,\n",
       " 499]"
      ]
     },
     "execution_count": 29,
     "metadata": {},
     "output_type": "execute_result"
    }
   ],
   "source": [
    "L_idxs"
   ]
  },
  {
   "cell_type": "code",
   "execution_count": 30,
   "metadata": {},
   "outputs": [
    {
     "data": {
      "text/plain": [
       "[1,\n",
       " 8,\n",
       " 16,\n",
       " 17,\n",
       " 24,\n",
       " 31,\n",
       " 39,\n",
       " 42,\n",
       " 44,\n",
       " 52,\n",
       " 54,\n",
       " 57,\n",
       " 58,\n",
       " 64,\n",
       " 76,\n",
       " 81,\n",
       " 84,\n",
       " 90,\n",
       " 93,\n",
       " 94,\n",
       " 96,\n",
       " 97,\n",
       " 102,\n",
       " 104,\n",
       " 105,\n",
       " 107,\n",
       " 108,\n",
       " 114,\n",
       " 115,\n",
       " 118,\n",
       " 125,\n",
       " 127,\n",
       " 128,\n",
       " 131,\n",
       " 134,\n",
       " 140,\n",
       " 141,\n",
       " 142,\n",
       " 146,\n",
       " 152,\n",
       " 155,\n",
       " 171,\n",
       " 178,\n",
       " 180,\n",
       " 184,\n",
       " 187,\n",
       " 192,\n",
       " 193,\n",
       " 196,\n",
       " 206,\n",
       " 207,\n",
       " 211,\n",
       " 212,\n",
       " 226,\n",
       " 231,\n",
       " 232,\n",
       " 233,\n",
       " 239,\n",
       " 242,\n",
       " 248,\n",
       " 249,\n",
       " 253,\n",
       " 255,\n",
       " 256,\n",
       " 259,\n",
       " 272,\n",
       " 277,\n",
       " 279,\n",
       " 280,\n",
       " 281,\n",
       " 284,\n",
       " 286,\n",
       " 288,\n",
       " 290,\n",
       " 292,\n",
       " 293,\n",
       " 295,\n",
       " 296,\n",
       " 297,\n",
       " 298,\n",
       " 300,\n",
       " 301,\n",
       " 303,\n",
       " 304,\n",
       " 307,\n",
       " 315,\n",
       " 316,\n",
       " 317,\n",
       " 318,\n",
       " 322,\n",
       " 327,\n",
       " 328,\n",
       " 329,\n",
       " 330,\n",
       " 333,\n",
       " 336,\n",
       " 339,\n",
       " 344,\n",
       " 345,\n",
       " 347,\n",
       " 349,\n",
       " 354,\n",
       " 361,\n",
       " 362,\n",
       " 363,\n",
       " 369,\n",
       " 371,\n",
       " 377,\n",
       " 383,\n",
       " 384,\n",
       " 385,\n",
       " 387,\n",
       " 388,\n",
       " 391,\n",
       " 394,\n",
       " 399,\n",
       " 400,\n",
       " 401,\n",
       " 403,\n",
       " 412,\n",
       " 420,\n",
       " 427,\n",
       " 429,\n",
       " 431,\n",
       " 433,\n",
       " 449,\n",
       " 457,\n",
       " 460,\n",
       " 463,\n",
       " 468,\n",
       " 469,\n",
       " 479,\n",
       " 491,\n",
       " 497,\n",
       " 498]"
      ]
     },
     "execution_count": 30,
     "metadata": {},
     "output_type": "execute_result"
    }
   ],
   "source": [
    "R_idxs"
   ]
  },
  {
   "cell_type": "code",
   "execution_count": 31,
   "metadata": {},
   "outputs": [],
   "source": [
    "L_labels = labels[L_idxs]\n",
    "R_labels = labels[R_idxs]"
   ]
  },
  {
   "cell_type": "code",
   "execution_count": 32,
   "metadata": {},
   "outputs": [],
   "source": [
    "def gini_index(labels):\n",
    "\n",
    "            C = Counter(labels)\n",
    "            total = len(labels)\n",
    "            frequencies = { k:v/total for (k,v) in C.items()}\n",
    "            gini_index = np.sum([p*(1-p) for p in frequencies.values()])\n",
    "            return gini_index"
   ]
  },
  {
   "cell_type": "code",
   "execution_count": 33,
   "metadata": {},
   "outputs": [
    {
     "name": "stdout",
     "output_type": "stream",
     "text": [
      "0.7177781947832614\n",
      "0.514567901234568\n"
     ]
    }
   ],
   "source": [
    "print(gini_index(L_labels))\n",
    "print(gini_index(R_labels))\n",
    "      "
   ]
  },
  {
   "cell_type": "code",
   "execution_count": 34,
   "metadata": {},
   "outputs": [
    {
     "name": "stdout",
     "output_type": "stream",
     "text": [
      "0.6629114155251142\n"
     ]
    }
   ],
   "source": [
    "gini_index_of_split = (len(L_labels)*gini_index(L_labels) + len(R_labels)*gini_index(R_labels))/len(data_set)\n",
    "print(gini_index_of_split)"
   ]
  },
  {
   "cell_type": "code",
   "execution_count": 37,
   "metadata": {},
   "outputs": [],
   "source": [
    "root = Node(X,y)"
   ]
  },
  {
   "cell_type": "code",
   "execution_count": 38,
   "metadata": {},
   "outputs": [],
   "source": [
    "root.find_best_split()"
   ]
  },
  {
   "cell_type": "code",
   "execution_count": 39,
   "metadata": {},
   "outputs": [
    {
     "data": {
      "text/html": [
       "<div>\n",
       "<style scoped>\n",
       "    .dataframe tbody tr th:only-of-type {\n",
       "        vertical-align: middle;\n",
       "    }\n",
       "\n",
       "    .dataframe tbody tr th {\n",
       "        vertical-align: top;\n",
       "    }\n",
       "\n",
       "    .dataframe thead th {\n",
       "        text-align: right;\n",
       "    }\n",
       "</style>\n",
       "<table border=\"1\" class=\"dataframe\">\n",
       "  <thead>\n",
       "    <tr style=\"text-align: right;\">\n",
       "      <th></th>\n",
       "      <th>0</th>\n",
       "      <th>1</th>\n",
       "      <th>2</th>\n",
       "      <th>3</th>\n",
       "    </tr>\n",
       "  </thead>\n",
       "  <tbody>\n",
       "    <tr>\n",
       "      <th>0</th>\n",
       "      <td>0.049394</td>\n",
       "      <td>0.595112</td>\n",
       "      <td>-0.532922</td>\n",
       "      <td>-1.850891</td>\n",
       "    </tr>\n",
       "    <tr>\n",
       "      <th>1</th>\n",
       "      <td>-2.171544</td>\n",
       "      <td>-1.029016</td>\n",
       "      <td>-1.227838</td>\n",
       "      <td>0.936005</td>\n",
       "    </tr>\n",
       "    <tr>\n",
       "      <th>2</th>\n",
       "      <td>1.487058</td>\n",
       "      <td>-0.237961</td>\n",
       "      <td>-1.474076</td>\n",
       "      <td>-1.315369</td>\n",
       "    </tr>\n",
       "    <tr>\n",
       "      <th>3</th>\n",
       "      <td>-1.475738</td>\n",
       "      <td>0.720018</td>\n",
       "      <td>-0.253985</td>\n",
       "      <td>-0.443309</td>\n",
       "    </tr>\n",
       "    <tr>\n",
       "      <th>4</th>\n",
       "      <td>-2.208001</td>\n",
       "      <td>-0.612180</td>\n",
       "      <td>-0.045651</td>\n",
       "      <td>-1.677388</td>\n",
       "    </tr>\n",
       "    <tr>\n",
       "      <th>...</th>\n",
       "      <td>...</td>\n",
       "      <td>...</td>\n",
       "      <td>...</td>\n",
       "      <td>...</td>\n",
       "    </tr>\n",
       "    <tr>\n",
       "      <th>279</th>\n",
       "      <td>-1.591623</td>\n",
       "      <td>-1.698114</td>\n",
       "      <td>-0.472407</td>\n",
       "      <td>-0.982913</td>\n",
       "    </tr>\n",
       "    <tr>\n",
       "      <th>280</th>\n",
       "      <td>1.509388</td>\n",
       "      <td>0.429420</td>\n",
       "      <td>-0.460095</td>\n",
       "      <td>-1.997120</td>\n",
       "    </tr>\n",
       "    <tr>\n",
       "      <th>281</th>\n",
       "      <td>-0.855635</td>\n",
       "      <td>0.391552</td>\n",
       "      <td>-1.662993</td>\n",
       "      <td>-1.046916</td>\n",
       "    </tr>\n",
       "    <tr>\n",
       "      <th>282</th>\n",
       "      <td>-0.129125</td>\n",
       "      <td>1.481323</td>\n",
       "      <td>-0.744579</td>\n",
       "      <td>1.169140</td>\n",
       "    </tr>\n",
       "    <tr>\n",
       "      <th>283</th>\n",
       "      <td>0.845011</td>\n",
       "      <td>-0.613085</td>\n",
       "      <td>-1.102135</td>\n",
       "      <td>0.953809</td>\n",
       "    </tr>\n",
       "  </tbody>\n",
       "</table>\n",
       "<p>284 rows × 4 columns</p>\n",
       "</div>"
      ],
      "text/plain": [
       "            0         1         2         3\n",
       "0    0.049394  0.595112 -0.532922 -1.850891\n",
       "1   -2.171544 -1.029016 -1.227838  0.936005\n",
       "2    1.487058 -0.237961 -1.474076 -1.315369\n",
       "3   -1.475738  0.720018 -0.253985 -0.443309\n",
       "4   -2.208001 -0.612180 -0.045651 -1.677388\n",
       "..        ...       ...       ...       ...\n",
       "279 -1.591623 -1.698114 -0.472407 -0.982913\n",
       "280  1.509388  0.429420 -0.460095 -1.997120\n",
       "281 -0.855635  0.391552 -1.662993 -1.046916\n",
       "282 -0.129125  1.481323 -0.744579  1.169140\n",
       "283  0.845011 -0.613085 -1.102135  0.953809\n",
       "\n",
       "[284 rows x 4 columns]"
      ]
     },
     "execution_count": 39,
     "metadata": {},
     "output_type": "execute_result"
    }
   ],
   "source": [
    "root.left.data"
   ]
  },
  {
   "cell_type": "code",
   "execution_count": 40,
   "metadata": {},
   "outputs": [
    {
     "data": {
      "text/plain": [
       "array([2, 3, 0, 1, 3, 0, 3, 2, 3, 2, 1, 2, 2, 2, 0, 0, 1, 3, 1, 2, 3, 1,\n",
       "       2, 0, 1, 0, 2, 0, 2, 2, 3, 3, 1, 0, 0, 2, 2, 0, 0, 3, 2, 1, 3, 1,\n",
       "       3, 2, 1, 0, 2, 2, 0, 2, 3, 1, 3, 3, 0, 1, 3, 0, 2, 0, 0, 1, 1, 3,\n",
       "       0, 1, 2, 2, 2, 0, 2, 0, 3, 2, 1, 2, 0, 3, 0, 1, 2, 2, 3, 0, 1, 2,\n",
       "       2, 1, 3, 0, 2, 3, 3, 3, 1, 1, 0, 0, 3, 0, 3, 1, 1, 1, 2, 1, 1, 0,\n",
       "       1, 1, 0, 0, 3, 3, 1, 2, 3, 0, 2, 2, 2, 2, 0, 1, 3, 1, 3, 3, 2, 1,\n",
       "       2, 2, 3, 0, 0, 2, 3, 3, 1, 1, 1, 3, 0, 3, 1, 0, 2, 0, 2, 1, 3, 1,\n",
       "       1, 3, 3, 0, 0, 0, 0, 2, 0, 0, 0, 2, 2, 2, 3, 1, 2, 1, 2, 3, 0, 2,\n",
       "       0, 2, 3, 0, 1, 0, 1, 1, 1, 2, 0, 3, 2, 1, 0, 2, 3, 1, 3, 2, 3, 2,\n",
       "       0, 0, 2, 1, 2, 0, 0, 2, 2, 3, 0, 3, 0, 3, 3, 3, 0, 3, 2, 2, 2, 1,\n",
       "       1, 0, 1, 3, 3, 1, 3, 2, 1, 2, 2, 3, 1, 1, 1, 0, 2, 0, 2, 3, 1, 1,\n",
       "       1, 0, 3, 0, 2, 3, 3, 1, 0, 0, 1, 1, 0, 1, 3, 2, 0, 3, 1, 3, 1, 2,\n",
       "       0, 2, 0, 0, 2, 3, 0, 1, 3, 1, 0, 2, 2, 1, 2, 1, 3, 3, 0, 2, 3, 0,\n",
       "       1, 0, 3, 2, 3, 0, 1, 1, 0, 1, 3, 1, 1, 2, 3, 1, 2, 1, 3, 1, 0, 1,\n",
       "       0, 2, 1, 3, 0, 0, 1, 3, 3, 3, 3, 0, 0, 0, 1, 2, 1, 3, 2, 1, 1, 1,\n",
       "       1, 2, 1, 3, 0, 1, 3, 2, 0, 1, 1, 0, 0, 2, 3, 1, 0, 1, 0, 1, 3, 0,\n",
       "       0, 3, 1, 3, 2, 0, 2, 2, 2, 1, 1, 3, 0, 1, 3, 0, 2, 1, 2, 1, 0, 3,\n",
       "       1, 1, 3, 1, 2, 3, 3, 2, 0, 1, 3, 3, 0, 3, 3, 3, 0, 1, 2, 2, 3, 0,\n",
       "       2, 1, 2, 3, 1, 3, 3, 1, 0, 0, 2, 1, 1, 3, 3, 2, 3, 2, 3, 2, 0, 2,\n",
       "       2, 2, 3, 0, 0, 3, 3, 1, 0, 1, 1, 3, 2, 1, 0, 1, 1, 0, 2, 2, 2, 2,\n",
       "       2, 0, 0, 0, 2, 0, 2, 3, 1, 1, 2, 0, 3, 2, 3, 0, 3, 1, 2, 1, 1, 2,\n",
       "       1, 3, 0, 2, 0, 1, 3, 3, 2, 0, 0, 2, 0, 3, 0, 0, 3, 0, 2, 0, 2, 3,\n",
       "       3, 2, 2, 3, 0, 3, 3, 3, 2, 0, 3, 3, 2, 1, 1, 2])"
      ]
     },
     "execution_count": 40,
     "metadata": {},
     "output_type": "execute_result"
    }
   ],
   "source": [
    "root.labels"
   ]
  },
  {
   "cell_type": "code",
   "execution_count": 41,
   "metadata": {},
   "outputs": [
    {
     "data": {
      "text/plain": [
       "(2, 0.2465509502371508)"
      ]
     },
     "execution_count": 41,
     "metadata": {},
     "output_type": "execute_result"
    }
   ],
   "source": [
    "root.split"
   ]
  },
  {
   "cell_type": "markdown",
   "metadata": {},
   "source": [
    "### Tree class"
   ]
  },
  {
   "cell_type": "code",
   "execution_count": 35,
   "metadata": {},
   "outputs": [],
   "source": [
    "class Tree():\n",
    "    \n",
    "    def __init__(self,root:Node,max_depth = np.inf,min_samples_leaf=1):\n",
    "        self.root = root\n",
    "        self.levels = [[self.root]]\n",
    "        self.max_depth = max_depth\n",
    "        self.splits = []\n",
    "        self.min_samples_leaf = min_samples_leaf\n",
    "        self.root.min_samples_leaf = self.min_samples_leaf\n",
    "        \n",
    "        self.build_tree()\n",
    "        \n",
    "        \n",
    "    def build_tree(self):\n",
    "        \n",
    "                while np.any([((n != None) and (not n.isLeaf)) for n in self.levels[-1]]) and (len(self.levels) < self.max_depth):\n",
    "                    \n",
    "                    level = []\n",
    "                    \n",
    "                    for node in [n for n in self.levels[-1] if ((n != None) and (not n.isLeaf))]:\n",
    "\n",
    "                        if (node != None) and (not node.isLeaf):\n",
    "\n",
    "                            node.find_best_split()\n",
    "                            level.append(node.left)\n",
    "                            level.append(node.right)\n",
    "                            self.splits.append(node.split)\n",
    "                        \n",
    "                        else: continue\n",
    "                            \n",
    "                    if (len(level)==0):\n",
    "                            return\n",
    "                    else:\n",
    "                            self.levels.append(level) \n",
    "\n",
    "        \n",
    "    def predict(self,x):\n",
    "                      \n",
    "        idx = 0\n",
    "        depth = len(self.levels)\n",
    "        \n",
    "        val = Counter(self.root.labels).most_common()[0][0]\n",
    "        \n",
    "        \n",
    "        \n",
    "        for i in range(depth):\n",
    "\n",
    "                node = self.levels[i][idx]\n",
    "\n",
    "                if (node.split != None):\n",
    "                \n",
    "                    s = node.split\n",
    "                    \n",
    "  \n",
    "                    if (x[s[0]] < s[1]):\n",
    "#                         if node.left in self.nodes[i+1]:\n",
    "                            idx = self.levels[i+1].index(node.left)\n",
    "                            val = Counter(node.left.labels).most_common()[0][0]\n",
    "                    \n",
    "                    else:\n",
    "#                         if node.right in self.nodes[i+1]:\n",
    "                                idx = self.levels[i+1].index(node.right)                         \n",
    "                                val = Counter(node.right.labels).most_common()[0][0]  \n",
    "                            \n",
    "                else: return val\n",
    "                \n",
    "        return val\n",
    "\n",
    "\n",
    "                       \n"
   ]
  },
  {
   "cell_type": "markdown",
   "metadata": {},
   "source": [
    "## Applying the Tree to the make_classification data set"
   ]
  },
  {
   "cell_type": "code",
   "execution_count": 42,
   "metadata": {},
   "outputs": [],
   "source": [
    "tree = Tree(root)"
   ]
  },
  {
   "cell_type": "code",
   "execution_count": 43,
   "metadata": {},
   "outputs": [
    {
     "data": {
      "text/plain": [
       "16"
      ]
     },
     "execution_count": 43,
     "metadata": {},
     "output_type": "execute_result"
    }
   ],
   "source": [
    "len(tree.levels)"
   ]
  },
  {
   "cell_type": "code",
   "execution_count": 44,
   "metadata": {},
   "outputs": [
    {
     "data": {
      "text/plain": [
       "40"
      ]
     },
     "execution_count": 44,
     "metadata": {},
     "output_type": "execute_result"
    }
   ],
   "source": [
    "len(tree.levels[8])"
   ]
  },
  {
   "cell_type": "code",
   "execution_count": 45,
   "metadata": {},
   "outputs": [
    {
     "data": {
      "text/plain": [
       "False"
      ]
     },
     "execution_count": 45,
     "metadata": {},
     "output_type": "execute_result"
    }
   ],
   "source": [
    "tree.levels[8][9].isLeaf"
   ]
  },
  {
   "cell_type": "code",
   "execution_count": 46,
   "metadata": {},
   "outputs": [
    {
     "data": {
      "text/plain": [
       "[[<__main__.Node at 0x28bf1395890>],\n",
       " [<__main__.Node at 0x28bf36eb290>, <__main__.Node at 0x28bf14464d0>],\n",
       " [<__main__.Node at 0x28bf3f0f9d0>,\n",
       "  <__main__.Node at 0x28bf3f0f610>,\n",
       "  <__main__.Node at 0x28bf36e9e90>,\n",
       "  <__main__.Node at 0x28bf0d61810>],\n",
       " [<__main__.Node at 0x28bf0d09550>,\n",
       "  <__main__.Node at 0x28bf0d0a810>,\n",
       "  <__main__.Node at 0x28bf3ab9810>,\n",
       "  <__main__.Node at 0x28bf0bdc5d0>,\n",
       "  <__main__.Node at 0x28bf09e3ed0>,\n",
       "  <__main__.Node at 0x28bf0bde750>,\n",
       "  <__main__.Node at 0x28bf36eaf10>,\n",
       "  <__main__.Node at 0x28bf36eaa50>],\n",
       " [<__main__.Node at 0x28bf1548950>,\n",
       "  <__main__.Node at 0x28bf09e1290>,\n",
       "  <__main__.Node at 0x28bf0e936d0>,\n",
       "  <__main__.Node at 0x28bf154b290>,\n",
       "  <__main__.Node at 0x28bf0e91b90>,\n",
       "  <__main__.Node at 0x28bf1549c90>,\n",
       "  <__main__.Node at 0x28bf0e919d0>,\n",
       "  <__main__.Node at 0x28bf1447850>,\n",
       "  <__main__.Node at 0x28bf1445ed0>,\n",
       "  <__main__.Node at 0x28bf36e8c90>,\n",
       "  <__main__.Node at 0x28bf154b1d0>,\n",
       "  <__main__.Node at 0x28bf1445d90>,\n",
       "  <__main__.Node at 0x28bf0c7b450>,\n",
       "  <__main__.Node at 0x28bf154bf50>,\n",
       "  <__main__.Node at 0x28bf0c7a7d0>,\n",
       "  <__main__.Node at 0x28bf0c79090>],\n",
       " [<__main__.Node at 0x28bf0e91810>,\n",
       "  <__main__.Node at 0x28bf09e2a90>,\n",
       "  <__main__.Node at 0x28bf09e35d0>,\n",
       "  <__main__.Node at 0x28bf0c79790>,\n",
       "  <__main__.Node at 0x28bf0c7ba10>,\n",
       "  <__main__.Node at 0x28bf0c79150>,\n",
       "  <__main__.Node at 0x28bf0c7a5d0>,\n",
       "  <__main__.Node at 0x28bf0c79c90>,\n",
       "  <__main__.Node at 0x28bf0c7b3d0>,\n",
       "  <__main__.Node at 0x28bf0c7b410>,\n",
       "  <__main__.Node at 0x28bf0c025d0>,\n",
       "  <__main__.Node at 0x28bf0c00650>,\n",
       "  <__main__.Node at 0x28bf1447190>,\n",
       "  <__main__.Node at 0x28bf0c7b510>,\n",
       "  <__main__.Node at 0x28bf0c79e50>,\n",
       "  <__main__.Node at 0x28bf0c00b50>,\n",
       "  <__main__.Node at 0x28bf0c02ed0>,\n",
       "  <__main__.Node at 0x28bf0c038d0>,\n",
       "  <__main__.Node at 0x28bf0c01050>,\n",
       "  <__main__.Node at 0x28bf3a44590>],\n",
       " [<__main__.Node at 0x28bf0c02fd0>,\n",
       "  <__main__.Node at 0x28bf3a460d0>,\n",
       "  <__main__.Node at 0x28bf0bfa210>,\n",
       "  <__main__.Node at 0x28bf3a46c10>,\n",
       "  <__main__.Node at 0x28bf0bf9a50>,\n",
       "  <__main__.Node at 0x28bf09e0290>,\n",
       "  <__main__.Node at 0x28bf0bfb890>,\n",
       "  <__main__.Node at 0x28bf0c02b10>,\n",
       "  <__main__.Node at 0x28bf0bfbf90>,\n",
       "  <__main__.Node at 0x28bf0bf8810>,\n",
       "  <__main__.Node at 0x28bf0c02f90>,\n",
       "  <__main__.Node at 0x28bf0bfa290>,\n",
       "  <__main__.Node at 0x28bf0cf7c90>,\n",
       "  <__main__.Node at 0x28bf0bf9950>,\n",
       "  <__main__.Node at 0x28bf0e87a10>,\n",
       "  <__main__.Node at 0x28bf0bfa110>,\n",
       "  <__main__.Node at 0x28bf0bfa790>,\n",
       "  <__main__.Node at 0x28bf0c7b050>,\n",
       "  <__main__.Node at 0x28bf0d624d0>,\n",
       "  <__main__.Node at 0x28bf154aa50>,\n",
       "  <__main__.Node at 0x28bf0e91190>,\n",
       "  <__main__.Node at 0x28bf0cf5890>,\n",
       "  <__main__.Node at 0x28bf0cf7810>,\n",
       "  <__main__.Node at 0x28bf0cf6a10>,\n",
       "  <__main__.Node at 0x28bf0cf78d0>,\n",
       "  <__main__.Node at 0x28bf0cf4d90>],\n",
       " [<__main__.Node at 0x28bf0cf60d0>,\n",
       "  <__main__.Node at 0x28bf0d37490>,\n",
       "  <__main__.Node at 0x28bf3a473d0>,\n",
       "  <__main__.Node at 0x28bf3a45d90>,\n",
       "  <__main__.Node at 0x28bf0c02390>,\n",
       "  <__main__.Node at 0x28bf0bf99d0>,\n",
       "  <__main__.Node at 0x28bf0d342d0>,\n",
       "  <__main__.Node at 0x28bf0d36d90>,\n",
       "  <__main__.Node at 0x28bf0d35310>,\n",
       "  <__main__.Node at 0x28bf0d35b50>,\n",
       "  <__main__.Node at 0x28bf0d34990>,\n",
       "  <__main__.Node at 0x28bf0d379d0>,\n",
       "  <__main__.Node at 0x28bf09e3bd0>,\n",
       "  <__main__.Node at 0x28bf0d36910>,\n",
       "  <__main__.Node at 0x28bf0d34190>,\n",
       "  <__main__.Node at 0x28bf0d34390>,\n",
       "  <__main__.Node at 0x28bf0d35290>,\n",
       "  <__main__.Node at 0x28bf0d37090>,\n",
       "  <__main__.Node at 0x28bf0c354d0>,\n",
       "  <__main__.Node at 0x28bf0d34250>,\n",
       "  <__main__.Node at 0x28bf0c35790>,\n",
       "  <__main__.Node at 0x28bf0bfba50>,\n",
       "  <__main__.Node at 0x28bf0c37f50>,\n",
       "  <__main__.Node at 0x28bf0c345d0>,\n",
       "  <__main__.Node at 0x28bf0c34cd0>,\n",
       "  <__main__.Node at 0x28bf0c34550>,\n",
       "  <__main__.Node at 0x28bf0c37e10>,\n",
       "  <__main__.Node at 0x28bf0c34e10>,\n",
       "  <__main__.Node at 0x28bf0d34f10>,\n",
       "  <__main__.Node at 0x28bf0d36a90>,\n",
       "  <__main__.Node at 0x28bf0c377d0>,\n",
       "  <__main__.Node at 0x28bf0c348d0>,\n",
       "  <__main__.Node at 0x28bf0c34d90>,\n",
       "  <__main__.Node at 0x28bf0c37b90>,\n",
       "  <__main__.Node at 0x28bf0c344d0>,\n",
       "  <__main__.Node at 0x28bf0c34f90>],\n",
       " [<__main__.Node at 0x28bf0c2f450>,\n",
       "  <__main__.Node at 0x28bf0c37f10>,\n",
       "  <__main__.Node at 0x28bf0d36f50>,\n",
       "  <__main__.Node at 0x28bf0d343d0>,\n",
       "  <__main__.Node at 0x28bf0c2db50>,\n",
       "  <__main__.Node at 0x28bf0c2ccd0>,\n",
       "  <__main__.Node at 0x28bf0c2d250>,\n",
       "  <__main__.Node at 0x28bf0c2ebd0>,\n",
       "  <__main__.Node at 0x28bf0c2e1d0>,\n",
       "  <__main__.Node at 0x28bf0c2d310>,\n",
       "  <__main__.Node at 0x28bf0c2ff50>,\n",
       "  <__main__.Node at 0x28bf0c2ff90>,\n",
       "  <__main__.Node at 0x28bf0c2f890>,\n",
       "  <__main__.Node at 0x28bf0c2f590>,\n",
       "  <__main__.Node at 0x28bf0c2c450>,\n",
       "  <__main__.Node at 0x28bf0c2fb90>,\n",
       "  <__main__.Node at 0x28bf0c2f410>,\n",
       "  <__main__.Node at 0x28bf0c2e9d0>,\n",
       "  <__main__.Node at 0x28bf0d30450>,\n",
       "  <__main__.Node at 0x28bf0c2d090>,\n",
       "  <__main__.Node at 0x28bf0c35010>,\n",
       "  <__main__.Node at 0x28bf0c36150>,\n",
       "  <__main__.Node at 0x28bf0d31590>,\n",
       "  <__main__.Node at 0x28bf0d33cd0>,\n",
       "  <__main__.Node at 0x28bf0c2f990>,\n",
       "  <__main__.Node at 0x28bf0c2d950>,\n",
       "  <__main__.Node at 0x28bf0d30a90>,\n",
       "  <__main__.Node at 0x28bf3aff150>,\n",
       "  <__main__.Node at 0x28bf3afc3d0>,\n",
       "  <__main__.Node at 0x28bf3afdcd0>,\n",
       "  <__main__.Node at 0x28bf0d31410>,\n",
       "  <__main__.Node at 0x28bf09e3f50>,\n",
       "  <__main__.Node at 0x28bf3afd410>,\n",
       "  <__main__.Node at 0x28bf3afd750>,\n",
       "  <__main__.Node at 0x28bf3afc250>,\n",
       "  <__main__.Node at 0x28bf3afde50>,\n",
       "  <__main__.Node at 0x28bf3afd5d0>,\n",
       "  <__main__.Node at 0x28bf3afe3d0>,\n",
       "  <__main__.Node at 0x28bf3afe8d0>,\n",
       "  <__main__.Node at 0x28bf3afed50>],\n",
       " [<__main__.Node at 0x28bf3afded0>,\n",
       "  <__main__.Node at 0x28bf3aff250>,\n",
       "  <__main__.Node at 0x28bf3afed10>,\n",
       "  <__main__.Node at 0x28bf3aff590>,\n",
       "  <__main__.Node at 0x28bf0efa310>,\n",
       "  <__main__.Node at 0x28bf0c36390>,\n",
       "  <__main__.Node at 0x28bf3afc590>,\n",
       "  <__main__.Node at 0x28bf3afec50>,\n",
       "  <__main__.Node at 0x28bf3afd7d0>,\n",
       "  <__main__.Node at 0x28bf3afced0>,\n",
       "  <__main__.Node at 0x28bf0ef85d0>,\n",
       "  <__main__.Node at 0x28bf0ef9a90>,\n",
       "  <__main__.Node at 0x28bf0efae90>,\n",
       "  <__main__.Node at 0x28bf0d30490>,\n",
       "  <__main__.Node at 0x28bf0efb290>,\n",
       "  <__main__.Node at 0x28bf0ef9e90>,\n",
       "  <__main__.Node at 0x28bf0ef8790>,\n",
       "  <__main__.Node at 0x28bf0ef8b50>,\n",
       "  <__main__.Node at 0x28bf0efa490>,\n",
       "  <__main__.Node at 0x28bf0ef8b90>,\n",
       "  <__main__.Node at 0x28bf0efba50>,\n",
       "  <__main__.Node at 0x28bf0efa550>,\n",
       "  <__main__.Node at 0x28bf3a60310>,\n",
       "  <__main__.Node at 0x28bf0efab50>,\n",
       "  <__main__.Node at 0x28bf0ef9110>,\n",
       "  <__main__.Node at 0x28bf3a604d0>,\n",
       "  <__main__.Node at 0x28bf3a61450>,\n",
       "  <__main__.Node at 0x28bf3a61750>,\n",
       "  <__main__.Node at 0x28bf0ef9c50>,\n",
       "  <__main__.Node at 0x28bf0efb8d0>,\n",
       "  <__main__.Node at 0x28bf14f2910>,\n",
       "  <__main__.Node at 0x28bf14f28d0>,\n",
       "  <__main__.Node at 0x28bf0ef9910>,\n",
       "  <__main__.Node at 0x28bf3a61a90>,\n",
       "  <__main__.Node at 0x28bf3a62b50>,\n",
       "  <__main__.Node at 0x28bf3a619d0>,\n",
       "  <__main__.Node at 0x28bf3a63550>,\n",
       "  <__main__.Node at 0x28bf3a62ad0>,\n",
       "  <__main__.Node at 0x28bf14f1950>,\n",
       "  <__main__.Node at 0x28bf14f3050>,\n",
       "  <__main__.Node at 0x28bf3afedd0>,\n",
       "  <__main__.Node at 0x28bf3afca10>],\n",
       " [<__main__.Node at 0x28bf154bb90>,\n",
       "  <__main__.Node at 0x28bf1549b50>,\n",
       "  <__main__.Node at 0x28bf0efb390>,\n",
       "  <__main__.Node at 0x28bf0c34990>,\n",
       "  <__main__.Node at 0x28bf5122190>,\n",
       "  <__main__.Node at 0x28bf0c01650>,\n",
       "  <__main__.Node at 0x28bf5153810>,\n",
       "  <__main__.Node at 0x28bf0c01d10>,\n",
       "  <__main__.Node at 0x28bf5153950>,\n",
       "  <__main__.Node at 0x28bf5150890>,\n",
       "  <__main__.Node at 0x28bf14f2750>,\n",
       "  <__main__.Node at 0x28bf14f2d50>,\n",
       "  <__main__.Node at 0x28bf0e92050>,\n",
       "  <__main__.Node at 0x28bf5152590>,\n",
       "  <__main__.Node at 0x28bf14f3150>,\n",
       "  <__main__.Node at 0x28bf14f2a10>,\n",
       "  <__main__.Node at 0x28bf0e91890>,\n",
       "  <__main__.Node at 0x28bf0e492d0>,\n",
       "  <__main__.Node at 0x28bf3bbd9d0>,\n",
       "  <__main__.Node at 0x28bf3bbcf50>,\n",
       "  <__main__.Node at 0x28bf3a25bd0>,\n",
       "  <__main__.Node at 0x28bf1372a90>,\n",
       "  <__main__.Node at 0x28bf3a26150>,\n",
       "  <__main__.Node at 0x28bf3a277d0>,\n",
       "  <__main__.Node at 0x28bf3a24f50>,\n",
       "  <__main__.Node at 0x28bf3a24c90>,\n",
       "  <__main__.Node at 0x28bf0e53ed0>,\n",
       "  <__main__.Node at 0x28bf0e52710>,\n",
       "  <__main__.Node at 0x28bf0e53a10>,\n",
       "  <__main__.Node at 0x28bf0e522d0>,\n",
       "  <__main__.Node at 0x28bf0cf70d0>,\n",
       "  <__main__.Node at 0x28bf0cf6ed0>,\n",
       "  <__main__.Node at 0x28bf0e52750>,\n",
       "  <__main__.Node at 0x28bf0e51250>,\n",
       "  <__main__.Node at 0x28bf0e52310>,\n",
       "  <__main__.Node at 0x28bf0e52ed0>,\n",
       "  <__main__.Node at 0x28bf0e50b50>,\n",
       "  <__main__.Node at 0x28bf0e53f50>,\n",
       "  <__main__.Node at 0x28bf0e50410>,\n",
       "  <__main__.Node at 0x28bf0e50d10>,\n",
       "  <__main__.Node at 0x28bf0e50f10>,\n",
       "  <__main__.Node at 0x28bf0e53cd0>,\n",
       "  <__main__.Node at 0x28bf0e51790>,\n",
       "  <__main__.Node at 0x28bf0e50090>],\n",
       " [<__main__.Node at 0x28bf0e52210>,\n",
       "  <__main__.Node at 0x28bf0e52450>,\n",
       "  <__main__.Node at 0x28bf3b0b410>,\n",
       "  <__main__.Node at 0x28bf3b0a890>,\n",
       "  <__main__.Node at 0x28bf3b09850>,\n",
       "  <__main__.Node at 0x28bf3a60390>,\n",
       "  <__main__.Node at 0x28bf3b0a190>,\n",
       "  <__main__.Node at 0x28bf3b09390>,\n",
       "  <__main__.Node at 0x28bf3b08a50>,\n",
       "  <__main__.Node at 0x28bf3b09810>,\n",
       "  <__main__.Node at 0x28bf0e51990>,\n",
       "  <__main__.Node at 0x28bf0e50e10>,\n",
       "  <__main__.Node at 0x28bf3b09c50>,\n",
       "  <__main__.Node at 0x28bf3b0b910>,\n",
       "  <__main__.Node at 0x28bf3b0b7d0>,\n",
       "  <__main__.Node at 0x28bf3b08d90>,\n",
       "  <__main__.Node at 0x28bf3b09690>,\n",
       "  <__main__.Node at 0x28bf3b084d0>,\n",
       "  <__main__.Node at 0x28bf3b0afd0>,\n",
       "  <__main__.Node at 0x28bf3b0ad10>,\n",
       "  <__main__.Node at 0x28bf3b09e90>,\n",
       "  <__main__.Node at 0x28bf3b09f90>,\n",
       "  <__main__.Node at 0x28bf1470dd0>,\n",
       "  <__main__.Node at 0x28bf1473c90>,\n",
       "  <__main__.Node at 0x28bf3b0a610>,\n",
       "  <__main__.Node at 0x28bf15489d0>,\n",
       "  <__main__.Node at 0x28bf1470e90>,\n",
       "  <__main__.Node at 0x28bf0cf4050>,\n",
       "  <__main__.Node at 0x28bf1472510>,\n",
       "  <__main__.Node at 0x28bf1471250>,\n",
       "  <__main__.Node at 0x28bf14705d0>,\n",
       "  <__main__.Node at 0x28bf1473b50>],\n",
       " [<__main__.Node at 0x28bf0c2e650>,\n",
       "  <__main__.Node at 0x28bf1473190>,\n",
       "  <__main__.Node at 0x28bf14736d0>,\n",
       "  <__main__.Node at 0x28bf1472490>,\n",
       "  <__main__.Node at 0x28bf1473510>,\n",
       "  <__main__.Node at 0x28bf1473490>,\n",
       "  <__main__.Node at 0x28bf3a7e090>,\n",
       "  <__main__.Node at 0x28bf3a7e990>,\n",
       "  <__main__.Node at 0x28bf3a7e610>,\n",
       "  <__main__.Node at 0x28bf3a7d6d0>,\n",
       "  <__main__.Node at 0x28bf3a7c290>,\n",
       "  <__main__.Node at 0x28bf3a7c350>,\n",
       "  <__main__.Node at 0x28bf3a7dc90>,\n",
       "  <__main__.Node at 0x28bf3a7d250>,\n",
       "  <__main__.Node at 0x28bf3a7fd50>,\n",
       "  <__main__.Node at 0x28bf3a7f1d0>,\n",
       "  <__main__.Node at 0x28bf3a7fe90>,\n",
       "  <__main__.Node at 0x28bf3a7d010>,\n",
       "  <__main__.Node at 0x28bf3a7ed10>,\n",
       "  <__main__.Node at 0x28bf3a7f110>,\n",
       "  <__main__.Node at 0x28bf3a7c9d0>,\n",
       "  <__main__.Node at 0x28bf3a7cbd0>,\n",
       "  <__main__.Node at 0x28bf3a7e810>,\n",
       "  <__main__.Node at 0x28bf3a7f710>,\n",
       "  <__main__.Node at 0x28bf3a7dad0>,\n",
       "  <__main__.Node at 0x28bf3a7c810>],\n",
       " [<__main__.Node at 0x28bf3a7d950>,\n",
       "  <__main__.Node at 0x28bf3a7cf90>,\n",
       "  <__main__.Node at 0x28bf1375750>,\n",
       "  <__main__.Node at 0x28bf3b0a510>,\n",
       "  <__main__.Node at 0x28bf1375390>,\n",
       "  <__main__.Node at 0x28bf3b0be90>,\n",
       "  <__main__.Node at 0x28bf1375d50>,\n",
       "  <__main__.Node at 0x28bf3b09dd0>,\n",
       "  <__main__.Node at 0x28bf1374ad0>,\n",
       "  <__main__.Node at 0x28bf3b0af90>,\n",
       "  <__main__.Node at 0x28bf3a7d3d0>,\n",
       "  <__main__.Node at 0x28bf3a7f310>,\n",
       "  <__main__.Node at 0x28bf1374610>,\n",
       "  <__main__.Node at 0x28bf3b763d0>,\n",
       "  <__main__.Node at 0x28bf3b77510>,\n",
       "  <__main__.Node at 0x28bf3b74850>,\n",
       "  <__main__.Node at 0x28bf1470a10>,\n",
       "  <__main__.Node at 0x28bf3b77350>],\n",
       " [<__main__.Node at 0x28bf3b75610>,\n",
       "  <__main__.Node at 0x28bf3b75890>,\n",
       "  <__main__.Node at 0x28bf3b09550>,\n",
       "  <__main__.Node at 0x28bf3b774d0>,\n",
       "  <__main__.Node at 0x28bf3b74e90>,\n",
       "  <__main__.Node at 0x28bf3b778d0>,\n",
       "  <__main__.Node at 0x28bf3b77d10>,\n",
       "  <__main__.Node at 0x28bf3b75e50>,\n",
       "  <__main__.Node at 0x28bf3b75050>,\n",
       "  <__main__.Node at 0x28bf3b74a90>,\n",
       "  <__main__.Node at 0x28bf3b75450>,\n",
       "  <__main__.Node at 0x28bf3b74cd0>,\n",
       "  <__main__.Node at 0x28bf3b67950>,\n",
       "  <__main__.Node at 0x28bf3b65490>],\n",
       " [<__main__.Node at 0x28bf3b77610>,\n",
       "  <__main__.Node at 0x28bf3b75850>,\n",
       "  <__main__.Node at 0x28bf3b641d0>,\n",
       "  <__main__.Node at 0x28bf3b64810>,\n",
       "  <__main__.Node at 0x28bf3b670d0>,\n",
       "  <__main__.Node at 0x28bf3b66590>,\n",
       "  <__main__.Node at 0x28bf3b674d0>,\n",
       "  <__main__.Node at 0x28bf3b64110>]]"
      ]
     },
     "execution_count": 46,
     "metadata": {},
     "output_type": "execute_result"
    }
   ],
   "source": [
    "tree.levels"
   ]
  },
  {
   "cell_type": "code",
   "execution_count": 47,
   "metadata": {},
   "outputs": [
    {
     "data": {
      "text/plain": [
       "[(2, 0.2465509502371508),\n",
       " (0, 0.9687147539194852),\n",
       " (2, 2.2996630826729687),\n",
       " (0, 0.21730425448491084),\n",
       " (1, -0.23796069499174927),\n",
       " (0, 0.9319720864048122),\n",
       " (1, -0.7680130843712762),\n",
       " (2, -0.6991537515031667),\n",
       " (1, -1.62095807138373),\n",
       " (2, -0.02368894592226145),\n",
       " (0, 1.1984755154009825),\n",
       " (2, 0.25931453728582765),\n",
       " (0, 1.2297715630819177),\n",
       " (1, -0.8196332489979319),\n",
       " (3, 1.6639366619872655),\n",
       " (1, 1.4531898890601753),\n",
       " (2, -0.5904373135049211),\n",
       " (1, -0.058132435000528095),\n",
       " (3, 0.39046425449857025),\n",
       " (0, 1.5805699067906063),\n",
       " (0, 1.1269891138391692),\n",
       " (0, 1.5919709787338958),\n",
       " (1, 2.1037061683485674),\n",
       " (0, 0.9873901412944132),\n",
       " (0, 1.688229350401455),\n",
       " (1, -0.7193818472729827),\n",
       " (3, 0.5088095280426599),\n",
       " (1, 0.7942449976518312),\n",
       " (2, -0.09630548049588805),\n",
       " (1, 0.5119404326598391),\n",
       " (3, 0.821505332516027),\n",
       " (0, 1.2896994735135154),\n",
       " (0, 1.914188908848222),\n",
       " (1, -1.5017733146642565),\n",
       " (3, 2.0701910645210013),\n",
       " (1, -0.08809296088804665),\n",
       " (3, -0.7247856272090827),\n",
       " (2, 1.6793723145656974),\n",
       " (2, -0.9031179412250607),\n",
       " (0, -0.08743974672287251),\n",
       " (1, -1.3713437430635576),\n",
       " (2, -0.39952660081618074),\n",
       " (1, -0.6445649540263685),\n",
       " (1, -0.6088816875185957),\n",
       " (0, 0.4410460108784513),\n",
       " (0, 0.4169514293079699),\n",
       " (1, 0.6814387724440016),\n",
       " (0, 1.2318177243132309),\n",
       " (1, -0.182685642533669),\n",
       " (2, -0.2867712001719469),\n",
       " (3, -0.09969607437358263),\n",
       " (2, 0.49163464959917247),\n",
       " (2, 0.7741714180728614),\n",
       " (2, 1.4942477199832285),\n",
       " (2, 1.317475044994643),\n",
       " (2, 1.0001757163140408),\n",
       " (2, -2.3387939317842545),\n",
       " (2, -0.8213198240389414),\n",
       " (1, 0.6533836375671868),\n",
       " (0, 0.06026779795516658),\n",
       " (2, 0.16950665288788302),\n",
       " (2, -0.04565147063971886),\n",
       " (3, -0.697421178141554),\n",
       " (3, 0.21629380913666807),\n",
       " (0, 0.6071286957902772),\n",
       " (0, 0.6863030841128847),\n",
       " (1, 0.15561433754438803),\n",
       " (3, -0.0029516226010302127),\n",
       " (2, -0.47183580129742686),\n",
       " (2, -0.10787469581401754),\n",
       " (2, -0.4451337635084269),\n",
       " (2, 0.2875461880490886),\n",
       " (3, 0.20611371248188692),\n",
       " (1, 1.5854327860907986),\n",
       " (1, 0.28048777285274196),\n",
       " (3, 0.32234601792692563),\n",
       " (0, -0.18492490404936388),\n",
       " (2, -1.2301339794890556),\n",
       " (3, 0.13614521659506795),\n",
       " (3, -1.8184057272079397),\n",
       " (2, 0.2311192564655964),\n",
       " (3, -1.1927712264729455),\n",
       " (0, -0.2209071254279185),\n",
       " (0, -1.0986795594459986),\n",
       " (1, -0.15526639745828982),\n",
       " (0, 0.9636665152241769),\n",
       " (1, 0.9892857896009551),\n",
       " (1, 1.6614005488487689),\n",
       " (2, -0.26168548055782503),\n",
       " (2, -1.1977063285984435),\n",
       " (0, -0.17380948929611148),\n",
       " (0, -0.42922150469022663),\n",
       " (1, 0.33879587318182663),\n",
       " (1, -1.4129097032088263),\n",
       " (2, 1.953596945522508),\n",
       " (1, -0.08811367038766137),\n",
       " (3, 1.9766320854564676),\n",
       " (3, 0.4229264842899938),\n",
       " (1, -2.479922621521149),\n",
       " (0, -0.3014506119842762),\n",
       " (1, -0.40268898266761194),\n",
       " (3, -1.4280815712161536),\n",
       " (3, 0.4416204105353516),\n",
       " (2, -0.5884219107016776),\n",
       " (1, -0.0967080708190823),\n",
       " (2, 0.1964734207229053),\n",
       " (1, 1.6648492434109294),\n",
       " (0, 0.7641239904860772),\n",
       " (3, 1.340542719606038),\n",
       " (2, -0.9160155417178448),\n",
       " (1, 0.705988576345598),\n",
       " (3, 0.8201737457811522),\n",
       " (0, -0.06265993007917435),\n",
       " (0, -1.5051894564720623),\n",
       " (3, 1.6869798814097439),\n",
       " (3, -0.08644726075816167),\n",
       " (2, 1.236391404366994),\n",
       " (2, 1.07763903699687),\n",
       " (1, -0.144539340782452),\n",
       " (0, -0.018058414151661376),\n",
       " (1, -0.554308359345976),\n",
       " (0, -0.10857724433878854),\n",
       " (0, -0.8588277409667713),\n",
       " (2, -0.7223116907186019),\n",
       " (2, -0.9582549013989814),\n",
       " (0, -1.0585525142513843),\n",
       " (3, -0.39281891900575694),\n",
       " (3, 1.5254314901192898),\n",
       " (1, 0.25001842813884634),\n",
       " (1, -0.38634176089014416),\n",
       " (1, -0.26622899671759703),\n",
       " (3, -0.7649028313489243),\n",
       " (2, 1.4241176943604446),\n",
       " (3, -0.6665363148690489),\n",
       " (0, 0.9216218755250294),\n",
       " (3, 0.969668122843871),\n",
       " (3, 0.24493922709728244),\n",
       " (1, -0.20552540166709002),\n",
       " (0, -0.9519822568719587),\n",
       " (3, 1.113215560455888),\n",
       " (3, -0.44330933089088354),\n",
       " (1, -0.3950841735027503),\n",
       " (3, -0.5537325008040682),\n",
       " (0, -1.1148437968713216),\n",
       " (0, 0.5071087257409509),\n",
       " (2, 1.281891860595591),\n",
       " (0, -0.6539628626834381),\n",
       " (1, -0.10785563521654355),\n",
       " (1, -0.04196256636053414),\n",
       " (2, -1.0177423636859484),\n",
       " (2, -0.34120664233649856),\n",
       " (1, 0.2907831928521898),\n",
       " (0, -1.2100224878743353),\n",
       " (0, -0.675173875532055),\n",
       " (0, 0.6406634199535137),\n",
       " (0, 0.2267264868107101),\n",
       " (2, 1.0578695059999315),\n",
       " (1, -0.16462486195267415),\n",
       " (2, -0.8284051951214306),\n",
       " (1, -0.11413340452188478),\n",
       " (1, 0.5331802287092808),\n",
       " (0, -1.3481222079350428),\n",
       " (0, -0.001226669425603721),\n",
       " (0, 0.3586881399861716),\n",
       " (3, -0.9545827758009497),\n",
       " (2, -0.3145026859962988),\n",
       " (2, -0.15240349433686962),\n",
       " (0, 0.6150272916582378)]"
      ]
     },
     "execution_count": 47,
     "metadata": {},
     "output_type": "execute_result"
    }
   ],
   "source": [
    "tree.splits"
   ]
  },
  {
   "cell_type": "code",
   "execution_count": 48,
   "metadata": {},
   "outputs": [
    {
     "data": {
      "text/plain": [
       "True"
      ]
     },
     "execution_count": 48,
     "metadata": {},
     "output_type": "execute_result"
    }
   ],
   "source": [
    "tree.levels[8][0].isLeaf"
   ]
  },
  {
   "cell_type": "code",
   "execution_count": 49,
   "metadata": {},
   "outputs": [],
   "source": [
    "x = X.iloc[30].values"
   ]
  },
  {
   "cell_type": "code",
   "execution_count": 50,
   "metadata": {},
   "outputs": [
    {
     "data": {
      "text/plain": [
       "array([ 0.33565959, -1.54591243,  0.73868113, -0.07345774])"
      ]
     },
     "execution_count": 50,
     "metadata": {},
     "output_type": "execute_result"
    }
   ],
   "source": [
    "x"
   ]
  },
  {
   "cell_type": "code",
   "execution_count": 51,
   "metadata": {},
   "outputs": [
    {
     "data": {
      "text/plain": [
       "3"
      ]
     },
     "execution_count": 51,
     "metadata": {},
     "output_type": "execute_result"
    }
   ],
   "source": [
    "tree.predict(x)"
   ]
  },
  {
   "cell_type": "code",
   "execution_count": 52,
   "metadata": {},
   "outputs": [
    {
     "data": {
      "text/plain": [
       "3"
      ]
     },
     "execution_count": 52,
     "metadata": {},
     "output_type": "execute_result"
    }
   ],
   "source": [
    "y[30]"
   ]
  },
  {
   "cell_type": "markdown",
   "metadata": {},
   "source": [
    "### RandomForestClassifier class"
   ]
  },
  {
   "cell_type": "code",
   "execution_count": 53,
   "metadata": {},
   "outputs": [],
   "source": [
    "class RandomForestClassifier():\n",
    "    \n",
    "    def __init__(self,n_estimators=10,max_features=1.0,min_samples_leaf=1,bootstrap=False,max_depth = np.inf,\n",
    "                 random_state=None):\n",
    "        self.n_estimators = n_estimators\n",
    "        self.max_features = max_features\n",
    "        self.min_samples_leaf = min_samples_leaf\n",
    "        self.max_depth = max_depth\n",
    "        self.bootstrap = bootstrap\n",
    "        if random_state is not None:\n",
    "            np.random.seed(random_state)\n",
    "        self.trees = []  \n",
    "        \n",
    "    def fit(self,data,labels):\n",
    "        \n",
    "        N = len(labels)\n",
    "        \n",
    "        for i in range(self.n_estimators):\n",
    "            if self.bootstrap:\n",
    "                idxs = np.random.choice(range(N),N)\n",
    "                data_set = data.iloc[idxs]\n",
    "                label_set = labels[idxs]\n",
    "            else:\n",
    "                data_set = data\n",
    "                label_set = labels\n",
    "                \n",
    "            root = Node(data_set,label_set)\n",
    "            root.max_features = self.max_features\n",
    "            t = Tree(root,self.max_depth,self.min_samples_leaf)\n",
    "            \n",
    "            self.trees.append(t)\n",
    "            \n",
    "    def predict(self,data_points):\n",
    "            \n",
    "            if len(self.trees) == 0:\n",
    "                print('Classifier needs to be fitted')\n",
    "                return\n",
    "            \n",
    "            if type(data_points) == pd.DataFrame:\n",
    "                data_points = data_points.values\n",
    "            \n",
    "            preds = []\n",
    "            for x in data_points:\n",
    "\n",
    "                x_preds = []\n",
    "                for t in self.trees:\n",
    "                    x_preds.append(t.predict(x))\n",
    "                    \n",
    "                preds.append(Counter(x_preds).most_common()[0][0])\n",
    "                \n",
    "            return preds\n",
    "                \n",
    "                \n",
    "        \n",
    "            \n",
    "    "
   ]
  },
  {
   "cell_type": "code",
   "execution_count": 54,
   "metadata": {},
   "outputs": [],
   "source": [
    "from sklearn.model_selection import train_test_split"
   ]
  },
  {
   "cell_type": "code",
   "execution_count": 55,
   "metadata": {},
   "outputs": [],
   "source": [
    "X_train,X_test,y_train,y_test = train_test_split(X,y,test_size=0.2)"
   ]
  },
  {
   "cell_type": "code",
   "execution_count": 56,
   "metadata": {},
   "outputs": [],
   "source": [
    "rf_clf = RandomForestClassifier(n_estimators=40,bootstrap=True,max_depth=4,max_features=0.5)"
   ]
  },
  {
   "cell_type": "code",
   "execution_count": 57,
   "metadata": {},
   "outputs": [],
   "source": [
    "rf_clf.fit(X_train,y_train)"
   ]
  },
  {
   "cell_type": "code",
   "execution_count": 58,
   "metadata": {},
   "outputs": [],
   "source": [
    "preds = rf_clf.predict(X_test)"
   ]
  },
  {
   "cell_type": "code",
   "execution_count": 60,
   "metadata": {},
   "outputs": [],
   "source": [
    "from sklearn.metrics import accuracy_score"
   ]
  },
  {
   "cell_type": "code",
   "execution_count": 61,
   "metadata": {},
   "outputs": [
    {
     "data": {
      "text/plain": [
       "0.69"
      ]
     },
     "execution_count": 61,
     "metadata": {},
     "output_type": "execute_result"
    }
   ],
   "source": [
    "accuracy_score(y_test,preds)"
   ]
  },
  {
   "cell_type": "markdown",
   "metadata": {},
   "source": [
    "## Data set with 2 features and 4 labels"
   ]
  },
  {
   "cell_type": "code",
   "execution_count": 62,
   "metadata": {},
   "outputs": [],
   "source": [
    "Z, u = make_classification(n_features=2, n_redundant=0, n_informative=2,\n",
    "                             n_clusters_per_class=1, n_classes=4)"
   ]
  },
  {
   "cell_type": "code",
   "execution_count": 63,
   "metadata": {},
   "outputs": [
    {
     "data": {
      "image/png": "[encoded data removed]",
      "text/plain": [
       "<Figure size 640x480 with 1 Axes>"
      ]
     },
     "metadata": {},
     "output_type": "display_data"
    }
   ],
   "source": [
    "plt.scatter(Z[:,0],Z[:,1],c=u);"
   ]
  },
  {
   "cell_type": "code",
   "execution_count": 64,
   "metadata": {},
   "outputs": [],
   "source": [
    "Z = pd.DataFrame(data = Z, columns = [0,1])"
   ]
  },
  {
   "cell_type": "code",
   "execution_count": 65,
   "metadata": {},
   "outputs": [
    {
     "name": "stdout",
     "output_type": "stream",
     "text": [
      "           0         1\n",
      "0   0.812487  1.103855\n",
      "1  -1.271290 -0.898880\n",
      "2  -1.017977 -0.730959\n",
      "3   1.501318 -0.280840\n",
      "4  -2.390920 -0.371140\n",
      "..       ...       ...\n",
      "95 -0.342879  1.312584\n",
      "96  1.227982  1.025067\n",
      "97 -1.561512  0.845420\n",
      "98  0.539276  1.129099\n",
      "99 -0.746465 -1.083400\n",
      "\n",
      "[100 rows x 2 columns]\n"
     ]
    }
   ],
   "source": [
    "print(Z)"
   ]
  },
  {
   "cell_type": "markdown",
   "metadata": {},
   "source": [
    "## RandomForestClassifier applied to the 2-dim make_classification data set"
   ]
  },
  {
   "cell_type": "code",
   "execution_count": 66,
   "metadata": {},
   "outputs": [],
   "source": [
    "rf_clf = RandomForestClassifier(n_estimators=15,max_features=0.4)"
   ]
  },
  {
   "cell_type": "code",
   "execution_count": 67,
   "metadata": {},
   "outputs": [],
   "source": [
    "rf_clf.fit(Z,u)"
   ]
  },
  {
   "cell_type": "code",
   "execution_count": 68,
   "metadata": {},
   "outputs": [],
   "source": [
    "pred = rf_clf.predict(Z)"
   ]
  },
  {
   "cell_type": "code",
   "execution_count": 69,
   "metadata": {},
   "outputs": [],
   "source": [
    "data = Z.values"
   ]
  },
  {
   "cell_type": "code",
   "execution_count": 70,
   "metadata": {},
   "outputs": [
    {
     "data": {
      "image/png": "[encoded data removed]",
      "text/plain": [
       "<Figure size 640x480 with 1 Axes>"
      ]
     },
     "metadata": {},
     "output_type": "display_data"
    }
   ],
   "source": [
    "plot_decision_boundary(data,u,rf_clf)"
   ]
  },
  {
   "cell_type": "code",
   "execution_count": 71,
   "metadata": {},
   "outputs": [
    {
     "data": {
      "text/plain": [
       "1.0"
      ]
     },
     "execution_count": 71,
     "metadata": {},
     "output_type": "execute_result"
    }
   ],
   "source": [
    "accuracy_score(u,pred)"
   ]
  },
  {
   "cell_type": "code",
   "execution_count": 72,
   "metadata": {},
   "outputs": [
    {
     "data": {
      "text/plain": [
       "1.0"
      ]
     },
     "execution_count": 72,
     "metadata": {},
     "output_type": "execute_result"
    }
   ],
   "source": [
    "len(u[u == pred])/len(Z)"
   ]
  },
  {
   "cell_type": "code",
   "execution_count": 73,
   "metadata": {},
   "outputs": [],
   "source": [
    "rf_clf = RandomForestClassifier(n_estimators=100,bootstrap=True,max_features=0.5,random_state=123)"
   ]
  },
  {
   "cell_type": "code",
   "execution_count": 74,
   "metadata": {},
   "outputs": [],
   "source": [
    "rf_clf.fit(Z,u)"
   ]
  },
  {
   "cell_type": "code",
   "execution_count": 75,
   "metadata": {},
   "outputs": [],
   "source": [
    "preds = rf_clf.predict(Z.values)"
   ]
  },
  {
   "cell_type": "code",
   "execution_count": 76,
   "metadata": {},
   "outputs": [
    {
     "data": {
      "text/plain": [
       "1.0"
      ]
     },
     "execution_count": 76,
     "metadata": {},
     "output_type": "execute_result"
    }
   ],
   "source": [
    "accuracy_score(u,preds)"
   ]
  },
  {
   "cell_type": "code",
   "execution_count": 77,
   "metadata": {},
   "outputs": [
    {
     "data": {
      "image/png": "[encoded data removed]",
      "text/plain": [
       "<Figure size 640x480 with 1 Axes>"
      ]
     },
     "metadata": {},
     "output_type": "display_data"
    }
   ],
   "source": [
    "plot_decision_boundary(Z.values,u,rf_clf)"
   ]
  },
  {
   "cell_type": "code",
   "execution_count": 78,
   "metadata": {},
   "outputs": [],
   "source": [
    "Z_train,Z_test,u_train,u_test = train_test_split(Z,u,test_size=0.2)"
   ]
  },
  {
   "cell_type": "code",
   "execution_count": 79,
   "metadata": {},
   "outputs": [],
   "source": [
    "rf_clf.fit(Z_train,u_train)"
   ]
  },
  {
   "cell_type": "code",
   "execution_count": 81,
   "metadata": {},
   "outputs": [],
   "source": [
    "test_pred = rf_clf.predict(Z_test)"
   ]
  },
  {
   "cell_type": "code",
   "execution_count": 83,
   "metadata": {},
   "outputs": [
    {
     "data": {
      "text/plain": [
       "1.0"
      ]
     },
     "execution_count": 83,
     "metadata": {},
     "output_type": "execute_result"
    }
   ],
   "source": [
    "accuracy_score(test_pred,u_test)"
   ]
  },
  {
   "cell_type": "markdown",
   "metadata": {},
   "source": [
    "## sklearn RandomForestClassifier"
   ]
  },
  {
   "cell_type": "code",
   "execution_count": 84,
   "metadata": {},
   "outputs": [],
   "source": [
    "from sklearn.ensemble import RandomForestClassifier"
   ]
  },
  {
   "cell_type": "code",
   "execution_count": 85,
   "metadata": {},
   "outputs": [],
   "source": [
    "rf_clf = RandomForestClassifier(n_estimators=100,bootstrap=True,max_depth=7,max_features=0.5,min_samples_leaf=10)"
   ]
  },
  {
   "cell_type": "code",
   "execution_count": 86,
   "metadata": {},
   "outputs": [
    {
     "data": {
      "text/html": [
       "<style>#sk-container-id-1 {color: black;}#sk-container-id-1 pre{padding: 0;}#sk-container-id-1 div.sk-toggleable {background-color: white;}#sk-container-id-1 label.sk-toggleable__label {cursor: pointer;display: block;width: 100%;margin-bottom: 0;padding: 0.3em;box-sizing: border-box;text-align: center;}#sk-container-id-1 label.sk-toggleable__label-arrow:before {content: \"▸\";float: left;margin-right: 0.25em;color: #696969;}#sk-container-id-1 label.sk-toggleable__label-arrow:hover:before {color: black;}#sk-container-id-1 div.sk-estimator:hover label.sk-toggleable__label-arrow:before {color: black;}#sk-container-id-1 div.sk-toggleable__content {max-height: 0;max-width: 0;overflow: hidden;text-align: left;background-color: #f0f8ff;}#sk-container-id-1 div.sk-toggleable__content pre {margin: 0.2em;color: black;border-radius: 0.25em;background-color: #f0f8ff;}#sk-container-id-1 input.sk-toggleable__control:checked~div.sk-toggleable__content {max-height: 200px;max-width: 100%;overflow: auto;}#sk-container-id-1 input.sk-toggleable__control:checked~label.sk-toggleable__label-arrow:before {content: \"▾\";}#sk-container-id-1 div.sk-estimator input.sk-toggleable__control:checked~label.sk-toggleable__label {background-color: #d4ebff;}#sk-container-id-1 div.sk-label input.sk-toggleable__control:checked~label.sk-toggleable__label {background-color: #d4ebff;}#sk-container-id-1 input.sk-hidden--visually {border: 0;clip: rect(1px 1px 1px 1px);clip: rect(1px, 1px, 1px, 1px);height: 1px;margin: -1px;overflow: hidden;padding: 0;position: absolute;width: 1px;}#sk-container-id-1 div.sk-estimator {font-family: monospace;background-color: #f0f8ff;border: 1px dotted black;border-radius: 0.25em;box-sizing: border-box;margin-bottom: 0.5em;}#sk-container-id-1 div.sk-estimator:hover {background-color: #d4ebff;}#sk-container-id-1 div.sk-parallel-item::after {content: \"\";width: 100%;border-bottom: 1px solid gray;flex-grow: 1;}#sk-container-id-1 div.sk-label:hover label.sk-toggleable__label {background-color: #d4ebff;}#sk-container-id-1 div.sk-serial::before {content: \"\";position: absolute;border-left: 1px solid gray;box-sizing: border-box;top: 0;bottom: 0;left: 50%;z-index: 0;}#sk-container-id-1 div.sk-serial {display: flex;flex-direction: column;align-items: center;background-color: white;padding-right: 0.2em;padding-left: 0.2em;position: relative;}#sk-container-id-1 div.sk-item {position: relative;z-index: 1;}#sk-container-id-1 div.sk-parallel {display: flex;align-items: stretch;justify-content: center;background-color: white;position: relative;}#sk-container-id-1 div.sk-item::before, #sk-container-id-1 div.sk-parallel-item::before {content: \"\";position: absolute;border-left: 1px solid gray;box-sizing: border-box;top: 0;bottom: 0;left: 50%;z-index: -1;}#sk-container-id-1 div.sk-parallel-item {display: flex;flex-direction: column;z-index: 1;position: relative;background-color: white;}#sk-container-id-1 div.sk-parallel-item:first-child::after {align-self: flex-end;width: 50%;}#sk-container-id-1 div.sk-parallel-item:last-child::after {align-self: flex-start;width: 50%;}#sk-container-id-1 div.sk-parallel-item:only-child::after {width: 0;}#sk-container-id-1 div.sk-dashed-wrapped {border: 1px dashed gray;margin: 0 0.4em 0.5em 0.4em;box-sizing: border-box;padding-bottom: 0.4em;background-color: white;}#sk-container-id-1 div.sk-label label {font-family: monospace;font-weight: bold;display: inline-block;line-height: 1.2em;}#sk-container-id-1 div.sk-label-container {text-align: center;}#sk-container-id-1 div.sk-container {/* jupyter's `normalize.less` sets `[hidden] { display: none; }` but bootstrap.min.css set `[hidden] { display: none !important; }` so we also need the `!important` here to be able to override the default hidden behavior on the sphinx rendered scikit-learn.org. See: https://github.com/scikit-learn/scikit-learn/issues/21755 */display: inline-block !important;position: relative;}#sk-container-id-1 div.sk-text-repr-fallback {display: none;}</style><div id=\"sk-container-id-1\" class=\"sk-top-container\"><div class=\"sk-text-repr-fallback\"><pre>RandomForestClassifier(max_depth=7, max_features=0.5, min_samples_leaf=10)</pre><b>In a Jupyter environment, please rerun this cell to show the HTML representation or trust the notebook. <br />On GitHub, the HTML representation is unable to render, please try loading this page with nbviewer.org.</b></div><div class=\"sk-container\" hidden><div class=\"sk-item\"><div class=\"sk-estimator sk-toggleable\"><input class=\"sk-toggleable__control sk-hidden--visually\" id=\"sk-estimator-id-1\" type=\"checkbox\" checked><label for=\"sk-estimator-id-1\" class=\"sk-toggleable__label sk-toggleable__label-arrow\">RandomForestClassifier</label><div class=\"sk-toggleable__content\"><pre>RandomForestClassifier(max_depth=7, max_features=0.5, min_samples_leaf=10)</pre></div></div></div></div></div>"
      ],
      "text/plain": [
       "RandomForestClassifier(max_depth=7, max_features=0.5, min_samples_leaf=10)"
      ]
     },
     "execution_count": 86,
     "metadata": {},
     "output_type": "execute_result"
    }
   ],
   "source": [
    "rf_clf.fit(X_train,y_train)"
   ]
  },
  {
   "cell_type": "code",
   "execution_count": 87,
   "metadata": {},
   "outputs": [],
   "source": [
    "preds = rf_clf.predict(X_test)"
   ]
  },
  {
   "cell_type": "code",
   "execution_count": 88,
   "metadata": {},
   "outputs": [
    {
     "data": {
      "text/plain": [
       "0.76"
      ]
     },
     "execution_count": 88,
     "metadata": {},
     "output_type": "execute_result"
    }
   ],
   "source": [
    "accuracy_score(y_test,preds)"
   ]
  },
  {
   "cell_type": "code",
   "execution_count": null,
   "metadata": {},
   "outputs": [],
   "source": []
  }
 ],
 "metadata": {
  "kernelspec": {
   "display_name": "Python 3 (ipykernel)",
   "language": "python",
   "name": "python3"
  },
  "language_info": {
   "codemirror_mode": {
    "name": "ipython",
    "version": 3
   },
   "file_extension": ".py",
   "mimetype": "text/x-python",
   "name": "python",
   "nbconvert_exporter": "python",
   "pygments_lexer": "ipython3",
   "version": "3.8.8"
  },
  "latex_envs": {
   "LaTeX_envs_menu_present": true,
   "autoclose": false,
   "autocomplete": true,
   "bibliofile": "biblio.bib",
   "cite_by": "apalike",
   "current_citInitial": 1,
   "eqLabelWithNumbers": true,
   "eqNumInitial": 1,
   "hotkeys": {
    "equation": "Ctrl-E",
    "itemize": "Ctrl-I"
   },
   "labels_anchors": false,
   "latex_user_defs": false,
   "report_style_numbering": false,
   "user_envs_cfg": false
  }
 },
 "nbformat": 4,
 "nbformat_minor": 2
}
