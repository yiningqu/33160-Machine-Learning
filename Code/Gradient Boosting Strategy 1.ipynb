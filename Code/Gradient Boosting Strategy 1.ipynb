{
 "cells": [
  {
   "cell_type": "code",
   "execution_count": 1,
   "metadata": {},
   "outputs": [
    {
     "data": {
      "text/plain": [
       "[<matplotlib.lines.Line2D at 0x272f53a7640>]"
      ]
     },
     "execution_count": 1,
     "metadata": {},
     "output_type": "execute_result"
    },
    {
     "data": {
      "image/png": "[encoded data removed]",
      "text/plain": [
       "<Figure size 432x288 with 1 Axes>"
      ]
     },
     "metadata": {
      "needs_background": "light"
     },
     "output_type": "display_data"
    }
   ],
   "source": [
    "import matplotlib.pyplot as plt\n",
    "%matplotlib inline\n",
    "plt.plot([1,2,3,4])"
   ]
  },
  {
   "cell_type": "code",
   "execution_count": 2,
   "metadata": {
    "ExecuteTime": {
     "end_time": "2020-03-03T02:04:18.675044Z",
     "start_time": "2020-03-03T02:04:15.120387Z"
    }
   },
   "outputs": [],
   "source": [
    "import pandas as pd\n",
    "import numpy as np\n",
    "import matplotlib.pyplot as plt\n",
    "%matplotlib inline\n",
    "from sklearn.metrics import accuracy_score, confusion_matrix\n",
    "from sklearn.tree import DecisionTreeClassifier\n",
    "import lightgbm\n",
    "pd.set_option('use_inf_as_na', True)\n",
    "from collections import Counter\n",
    "import pickle\n",
    "\n",
    "import optuna\n",
    "from optuna.trial import Trial\n",
    "import optuna.integration.lightgbm as lgb\n",
    "\n",
    "\n",
    "from lightgbm import LGBMClassifier\n",
    "from lightgbm import early_stopping\n",
    "from lightgbm import log_evaluation\n",
    "import sklearn.datasets\n",
    "from sklearn.model_selection import train_test_split\n",
    "\n",
    "from functools import partial"
   ]
  },
  {
   "cell_type": "code",
   "execution_count": 3,
   "metadata": {},
   "outputs": [],
   "source": [
    "from lightgbm import log_evaluation"
   ]
  },
  {
   "cell_type": "code",
   "execution_count": 4,
   "metadata": {
    "ExecuteTime": {
     "end_time": "2020-03-03T02:04:21.903526Z",
     "start_time": "2020-03-03T02:04:19.923963Z"
    }
   },
   "outputs": [],
   "source": [
    "raw_data = pd.read_pickle(r'C:\\Users\\niels\\OneDrive\\Machine Learning 2022\\Lecture 2\\dataset.pkl')\n",
    "data = raw_data[raw_data['market_cap'] > 1000.0]\n",
    "data = data.copy()\n",
    "data.fillna(0.0,inplace=True)"
   ]
  },
  {
   "cell_type": "code",
   "execution_count": 5,
   "metadata": {
    "ExecuteTime": {
     "end_time": "2020-03-03T02:04:24.516696Z",
     "start_time": "2020-03-03T02:04:24.512695Z"
    }
   },
   "outputs": [],
   "source": [
    "def f(x):\n",
    "    if x > 0.01:\n",
    "        return 1\n",
    "    elif x < -0.025:\n",
    "        return -1\n",
    "    else:\n",
    "    \n",
    "        return 0"
   ]
  },
  {
   "cell_type": "code",
   "execution_count": 6,
   "metadata": {
    "ExecuteTime": {
     "end_time": "2020-03-03T02:04:30.421746Z",
     "start_time": "2020-03-03T02:04:30.370536Z"
    }
   },
   "outputs": [],
   "source": [
    "data['rel_performance'] = data['pred_rel_return'].apply(f)\n",
    "data.reset_index(inplace=True)\n",
    "data.set_index('date',inplace=True)"
   ]
  },
  {
   "cell_type": "code",
   "execution_count": 7,
   "metadata": {},
   "outputs": [],
   "source": [
    "from sklearn.preprocessing import MinMaxScaler,StandardScaler\n",
    "scaler = StandardScaler()"
   ]
  },
  {
   "cell_type": "markdown",
   "metadata": {},
   "source": [
    "## Long term performance with AdaBoost Classifier, optimal hyper-parameters"
   ]
  },
  {
   "cell_type": "code",
   "execution_count": 8,
   "metadata": {
    "ExecuteTime": {
     "end_time": "2020-02-11T00:59:21.882803Z",
     "start_time": "2020-02-11T00:59:21.859799Z"
    }
   },
   "outputs": [],
   "source": [
    "start_dates = [pd.to_datetime('2001-01-01') + pd.DateOffset(months = 3*i) for i in range(57)]\n",
    "end_dates = [d + pd.DateOffset(months = 36) for d in start_dates]"
   ]
  },
  {
   "cell_type": "code",
   "execution_count": 9,
   "metadata": {
    "ExecuteTime": {
     "end_time": "2020-02-11T01:00:06.107690Z",
     "start_time": "2020-02-11T01:00:06.050640Z"
    }
   },
   "outputs": [],
   "source": [
    "training_frames = [data.loc[d:d+pd.DateOffset(months = 36)] for d in start_dates]\n",
    "valid_frames = [data.loc[d:d+pd.DateOffset(months = 3)] for d in end_dates]\n",
    "test_frames = [data.loc[d+pd.DateOffset(months = 6):d+pd.DateOffset(months = 9)] for d in end_dates]"
   ]
  },
  {
   "cell_type": "code",
   "execution_count": 10,
   "metadata": {
    "ExecuteTime": {
     "end_time": "2020-02-11T01:00:20.984116Z",
     "start_time": "2020-02-11T01:00:11.072616Z"
    }
   },
   "outputs": [],
   "source": [
    "training_data = [d.reset_index().drop\n",
    "                                 (['ticker','date',\n",
    "                                   'next_period_return',\n",
    "                                   'spy_next_period_return',\n",
    "                                   'rel_performance','pred_rel_return',\n",
    "                                  'return', 'cum_ret', 'spy_cum_ret'],axis=1) for d in training_frames]"
   ]
  },
  {
   "cell_type": "code",
   "execution_count": 11,
   "metadata": {},
   "outputs": [],
   "source": [
    "valid_data = [d.reset_index().drop\n",
    "                                 (['ticker','date',\n",
    "                                   'next_period_return',\n",
    "                                   'spy_next_period_return',\n",
    "                                   'rel_performance','pred_rel_return',\n",
    "                                  'return', 'cum_ret', 'spy_cum_ret'],axis=1) for d in valid_frames]"
   ]
  },
  {
   "cell_type": "code",
   "execution_count": 12,
   "metadata": {
    "ExecuteTime": {
     "end_time": "2020-02-11T01:00:22.138142Z",
     "start_time": "2020-02-11T01:00:20.986086Z"
    }
   },
   "outputs": [],
   "source": [
    "test_data = [d.reset_index().drop(['ticker','date',\n",
    "                                   'next_period_return',\n",
    "                                   'spy_next_period_return',\n",
    "                                   'rel_performance','pred_rel_return',\n",
    "                                  'return', 'cum_ret', 'spy_cum_ret'],axis=1) for d in test_frames]"
   ]
  },
  {
   "cell_type": "code",
   "execution_count": 13,
   "metadata": {
    "ExecuteTime": {
     "end_time": "2020-02-11T01:00:28.172336Z",
     "start_time": "2020-02-11T01:00:28.162322Z"
    }
   },
   "outputs": [],
   "source": [
    "training_labels = [d['rel_performance'].values for d in training_frames]\n",
    "valid_labels = [d['rel_performance'].values for d in valid_frames] "
   ]
  },
  {
   "cell_type": "code",
   "execution_count": 14,
   "metadata": {},
   "outputs": [],
   "source": [
    "for i in range(len(start_dates)-1):\n",
    "    float_vars = [x for x in training_data[i].columns if data[x].dtype == 'float64']\n",
    "\n",
    "    scaler = StandardScaler()\n",
    "    training_data[i] = training_data[i].copy()\n",
    "    valid_data[i] = valid_data[i].copy()\n",
    "    test_data[i] = test_data[i].copy()\n",
    "    training_data[i][float_vars] = scaler.fit_transform(training_data[i][float_vars])\n",
    "    valid_data[i][float_vars] = scaler.transform(valid_data[i][float_vars])\n",
    "    test_data[i][float_vars] = scaler.transform(test_data[i][float_vars])\n",
    "        \n",
    "    "
   ]
  },
  {
   "cell_type": "code",
   "execution_count": 16,
   "metadata": {},
   "outputs": [],
   "source": [
    "import optuna\n",
    "from optuna.trial import Trial\n",
    "optuna.logging.set_verbosity(optuna.logging.FATAL)\n",
    "import warnings\n",
    "warnings.filterwarnings(\"ignore\")"
   ]
  },
  {
   "cell_type": "code",
   "execution_count": 17,
   "metadata": {},
   "outputs": [],
   "source": [
    "def objective(trial:Trial,train=None,labels=None,val=None,val_labels=None,val_rets=None):\n",
    "    \n",
    "    params = {\n",
    "        \"objective\": \"multiclass\",\n",
    "        \"verbosity\": -1,\n",
    "        \"boosting_type\": \"gbdt\",\n",
    "        \"n_estimators\":trial.suggest_int('n_estimators',10,100,step=10),\n",
    "        \"reg_lambda\": trial.suggest_float(\"reg_lambda\", 1e-8, 10.0, log=True),\n",
    "        \"num_leaves\": trial.suggest_int(\"num_leaves\", 5, 25),\n",
    "        'min_data_in_leaf': trial.suggest_int('min_data_in_leaf',400,2400,step=400),\n",
    "        'learning_rate': trial.suggest_float('learning_rate',0.01,0.2,step=0.01)\n",
    "    }\n",
    "    \n",
    "    gb_clf = LGBMClassifier(**params)\n",
    "    gbm = gb_clf.fit(train,labels)\n",
    "    preds = gbm.predict(val)\n",
    "    profit = (preds*val_rets).sum()\n",
    "    return profit\n"
   ]
  },
  {
   "cell_type": "code",
   "execution_count": 15,
   "metadata": {},
   "outputs": [],
   "source": [
    "optimal_hyperparameters = []"
   ]
  },
  {
   "cell_type": "code",
   "execution_count": 19,
   "metadata": {
    "scrolled": true
   },
   "outputs": [
    {
     "name": "stdout",
     "output_type": "stream",
     "text": [
      "{'n_estimators': 70, 'reg_lambda': 1.2933640992521154, 'num_leaves': 17, 'min_data_in_leaf': 400, 'learning_rate': 0.09999999999999999}\n",
      "{'n_estimators': 40, 'reg_lambda': 0.00028455163202996755, 'num_leaves': 18, 'min_data_in_leaf': 400, 'learning_rate': 0.16}\n",
      "{'n_estimators': 40, 'reg_lambda': 0.00010867307783582423, 'num_leaves': 12, 'min_data_in_leaf': 1600, 'learning_rate': 0.01}\n",
      "{'n_estimators': 10, 'reg_lambda': 1.246871610115909, 'num_leaves': 14, 'min_data_in_leaf': 2400, 'learning_rate': 0.19}\n",
      "{'n_estimators': 80, 'reg_lambda': 0.5470426439402686, 'num_leaves': 11, 'min_data_in_leaf': 1600, 'learning_rate': 0.2}\n",
      "{'n_estimators': 10, 'reg_lambda': 3.973909407154452e-07, 'num_leaves': 24, 'min_data_in_leaf': 1600, 'learning_rate': 0.05}\n",
      "{'n_estimators': 50, 'reg_lambda': 0.0007676774985477343, 'num_leaves': 25, 'min_data_in_leaf': 400, 'learning_rate': 0.2}\n",
      "{'n_estimators': 70, 'reg_lambda': 0.06496226034573477, 'num_leaves': 16, 'min_data_in_leaf': 1600, 'learning_rate': 0.02}\n",
      "{'n_estimators': 10, 'reg_lambda': 0.00012239391899450733, 'num_leaves': 20, 'min_data_in_leaf': 1200, 'learning_rate': 0.09}\n",
      "{'n_estimators': 90, 'reg_lambda': 1.0577266369288387e-05, 'num_leaves': 16, 'min_data_in_leaf': 400, 'learning_rate': 0.2}\n",
      "{'n_estimators': 20, 'reg_lambda': 1.8198694732414802, 'num_leaves': 18, 'min_data_in_leaf': 1200, 'learning_rate': 0.01}\n",
      "{'n_estimators': 20, 'reg_lambda': 6.478161807695982, 'num_leaves': 5, 'min_data_in_leaf': 400, 'learning_rate': 0.01}\n",
      "{'n_estimators': 10, 'reg_lambda': 1.4917034462300989e-06, 'num_leaves': 18, 'min_data_in_leaf': 400, 'learning_rate': 0.06999999999999999}\n",
      "{'n_estimators': 70, 'reg_lambda': 0.002420364741766339, 'num_leaves': 20, 'min_data_in_leaf': 1200, 'learning_rate': 0.2}\n",
      "{'n_estimators': 70, 'reg_lambda': 5.6849298833635356, 'num_leaves': 20, 'min_data_in_leaf': 2400, 'learning_rate': 0.2}\n",
      "{'n_estimators': 80, 'reg_lambda': 0.0061284371777079755, 'num_leaves': 12, 'min_data_in_leaf': 400, 'learning_rate': 0.2}\n",
      "{'n_estimators': 90, 'reg_lambda': 0.0004337150533994116, 'num_leaves': 6, 'min_data_in_leaf': 2000, 'learning_rate': 0.03}\n",
      "{'n_estimators': 90, 'reg_lambda': 0.00673597778288809, 'num_leaves': 15, 'min_data_in_leaf': 400, 'learning_rate': 0.18000000000000002}\n",
      "{'n_estimators': 100, 'reg_lambda': 4.0366803927414134e-05, 'num_leaves': 24, 'min_data_in_leaf': 400, 'learning_rate': 0.19}\n",
      "{'n_estimators': 30, 'reg_lambda': 0.003989363508232399, 'num_leaves': 17, 'min_data_in_leaf': 400, 'learning_rate': 0.13}\n",
      "{'n_estimators': 10, 'reg_lambda': 6.334961764607385e-08, 'num_leaves': 6, 'min_data_in_leaf': 400, 'learning_rate': 0.03}\n",
      "{'n_estimators': 10, 'reg_lambda': 0.000780361554537545, 'num_leaves': 13, 'min_data_in_leaf': 400, 'learning_rate': 0.01}\n",
      "{'n_estimators': 10, 'reg_lambda': 0.5777832070761251, 'num_leaves': 21, 'min_data_in_leaf': 2000, 'learning_rate': 0.01}\n",
      "{'n_estimators': 70, 'reg_lambda': 7.579280145555945e-06, 'num_leaves': 21, 'min_data_in_leaf': 800, 'learning_rate': 0.01}\n",
      "{'n_estimators': 90, 'reg_lambda': 0.017882856294143788, 'num_leaves': 8, 'min_data_in_leaf': 400, 'learning_rate': 0.01}\n",
      "{'n_estimators': 90, 'reg_lambda': 2.8051662684754674e-06, 'num_leaves': 21, 'min_data_in_leaf': 400, 'learning_rate': 0.2}\n",
      "{'n_estimators': 10, 'reg_lambda': 1.8404504113251024e-08, 'num_leaves': 6, 'min_data_in_leaf': 2400, 'learning_rate': 0.03}\n",
      "{'n_estimators': 80, 'reg_lambda': 6.6253524998782265e-06, 'num_leaves': 21, 'min_data_in_leaf': 2000, 'learning_rate': 0.01}\n",
      "{'n_estimators': 10, 'reg_lambda': 5.255367860147532e-08, 'num_leaves': 5, 'min_data_in_leaf': 800, 'learning_rate': 0.11}\n",
      "{'n_estimators': 100, 'reg_lambda': 2.1949802619017942e-05, 'num_leaves': 21, 'min_data_in_leaf': 400, 'learning_rate': 0.2}\n",
      "{'n_estimators': 50, 'reg_lambda': 6.251268558482281, 'num_leaves': 11, 'min_data_in_leaf': 800, 'learning_rate': 0.16}\n",
      "{'n_estimators': 50, 'reg_lambda': 4.383691014565643, 'num_leaves': 19, 'min_data_in_leaf': 2000, 'learning_rate': 0.02}\n",
      "{'n_estimators': 30, 'reg_lambda': 8.283539242380378, 'num_leaves': 24, 'min_data_in_leaf': 400, 'learning_rate': 0.2}\n",
      "{'n_estimators': 100, 'reg_lambda': 0.0006207464797389109, 'num_leaves': 19, 'min_data_in_leaf': 400, 'learning_rate': 0.2}\n",
      "{'n_estimators': 20, 'reg_lambda': 4.995424435977249e-05, 'num_leaves': 20, 'min_data_in_leaf': 2000, 'learning_rate': 0.02}\n",
      "{'n_estimators': 10, 'reg_lambda': 0.00023278681757826886, 'num_leaves': 13, 'min_data_in_leaf': 1200, 'learning_rate': 0.01}\n",
      "{'n_estimators': 10, 'reg_lambda': 0.3056442932625645, 'num_leaves': 6, 'min_data_in_leaf': 400, 'learning_rate': 0.05}\n",
      "{'n_estimators': 10, 'reg_lambda': 4.069961362527518e-08, 'num_leaves': 6, 'min_data_in_leaf': 2400, 'learning_rate': 0.02}\n",
      "{'n_estimators': 40, 'reg_lambda': 2.35512749004433e-05, 'num_leaves': 9, 'min_data_in_leaf': 1200, 'learning_rate': 0.01}\n",
      "{'n_estimators': 100, 'reg_lambda': 0.006621812032819528, 'num_leaves': 25, 'min_data_in_leaf': 1200, 'learning_rate': 0.03}\n",
      "{'n_estimators': 10, 'reg_lambda': 0.0001637234811696298, 'num_leaves': 15, 'min_data_in_leaf': 2400, 'learning_rate': 0.06999999999999999}\n",
      "{'n_estimators': 10, 'reg_lambda': 0.04318494250805774, 'num_leaves': 7, 'min_data_in_leaf': 1600, 'learning_rate': 0.02}\n",
      "{'n_estimators': 90, 'reg_lambda': 0.09182454693838629, 'num_leaves': 5, 'min_data_in_leaf': 800, 'learning_rate': 0.13}\n",
      "{'n_estimators': 10, 'reg_lambda': 1.2095736570690804e-07, 'num_leaves': 14, 'min_data_in_leaf': 1200, 'learning_rate': 0.16}\n",
      "{'n_estimators': 50, 'reg_lambda': 2.836061643275266e-06, 'num_leaves': 5, 'min_data_in_leaf': 1200, 'learning_rate': 0.01}\n",
      "{'n_estimators': 80, 'reg_lambda': 3.657274741634547e-07, 'num_leaves': 11, 'min_data_in_leaf': 2400, 'learning_rate': 0.13}\n",
      "{'n_estimators': 100, 'reg_lambda': 1.0720709858897719e-08, 'num_leaves': 20, 'min_data_in_leaf': 400, 'learning_rate': 0.2}\n",
      "{'n_estimators': 90, 'reg_lambda': 2.8174608694948167, 'num_leaves': 19, 'min_data_in_leaf': 800, 'learning_rate': 0.18000000000000002}\n",
      "{'n_estimators': 50, 'reg_lambda': 4.2691550042846646e-05, 'num_leaves': 6, 'min_data_in_leaf': 400, 'learning_rate': 0.01}\n",
      "{'n_estimators': 10, 'reg_lambda': 6.255152235077284, 'num_leaves': 16, 'min_data_in_leaf': 1600, 'learning_rate': 0.01}\n",
      "{'n_estimators': 70, 'reg_lambda': 2.1997254007836936e-05, 'num_leaves': 17, 'min_data_in_leaf': 800, 'learning_rate': 0.06999999999999999}\n",
      "{'n_estimators': 10, 'reg_lambda': 1.0493097039364404e-07, 'num_leaves': 5, 'min_data_in_leaf': 2400, 'learning_rate': 0.01}\n",
      "{'n_estimators': 10, 'reg_lambda': 6.325696307759561e-07, 'num_leaves': 8, 'min_data_in_leaf': 800, 'learning_rate': 0.02}\n",
      "{'n_estimators': 50, 'reg_lambda': 1.3275777689292668e-06, 'num_leaves': 24, 'min_data_in_leaf': 2000, 'learning_rate': 0.04}\n",
      "{'n_estimators': 10, 'reg_lambda': 2.560514143106792e-06, 'num_leaves': 13, 'min_data_in_leaf': 400, 'learning_rate': 0.01}\n",
      "{'n_estimators': 10, 'reg_lambda': 1.925380029123643e-06, 'num_leaves': 17, 'min_data_in_leaf': 2400, 'learning_rate': 0.01}\n"
     ]
    }
   ],
   "source": [
    "for i in range(len(start_dates)-1):\n",
    "    \n",
    "    study = optuna.create_study(direction=\"maximize\")\n",
    "    \n",
    "    study.optimize(partial(objective,\n",
    "                           train=training_data[i],\n",
    "                           labels=training_labels[i],\n",
    "                           val=valid_data[i],\n",
    "                           val_labels=valid_labels[i],\n",
    "                           val_rets=valid_frames[i]['next_period_return']), n_trials=25,n_jobs=-1)\n",
    "    \n",
    "    optimal_hyperparameters.append(study.best_params)  \n",
    "    print(study.best_params)\n",
    "    "
   ]
  },
  {
   "cell_type": "code",
   "execution_count": 16,
   "metadata": {},
   "outputs": [],
   "source": [
    "import pickle"
   ]
  },
  {
   "cell_type": "code",
   "execution_count": 20,
   "metadata": {},
   "outputs": [],
   "source": [
    "with open(r'optimal_hyperparameters_gb_01.pkl','wb') as f:\n",
    "    pickle.dump(optimal_hyperparameters,f)"
   ]
  },
  {
   "cell_type": "code",
   "execution_count": 17,
   "metadata": {},
   "outputs": [],
   "source": [
    "with open(r'optimal_hyperparameters_gb_01.pkl','rb') as f:\n",
    "    optimal_hyperparameters = pickle.load(f)"
   ]
  },
  {
   "cell_type": "code",
   "execution_count": 18,
   "metadata": {},
   "outputs": [
    {
     "data": {
      "text/plain": [
       "[{'n_estimators': 70,\n",
       "  'reg_lambda': 1.2933640992521154,\n",
       "  'num_leaves': 17,\n",
       "  'min_data_in_leaf': 400,\n",
       "  'learning_rate': 0.09999999999999999},\n",
       " {'n_estimators': 40,\n",
       "  'reg_lambda': 0.00028455163202996755,\n",
       "  'num_leaves': 18,\n",
       "  'min_data_in_leaf': 400,\n",
       "  'learning_rate': 0.16},\n",
       " {'n_estimators': 40,\n",
       "  'reg_lambda': 0.00010867307783582423,\n",
       "  'num_leaves': 12,\n",
       "  'min_data_in_leaf': 1600,\n",
       "  'learning_rate': 0.01},\n",
       " {'n_estimators': 10,\n",
       "  'reg_lambda': 1.246871610115909,\n",
       "  'num_leaves': 14,\n",
       "  'min_data_in_leaf': 2400,\n",
       "  'learning_rate': 0.19},\n",
       " {'n_estimators': 80,\n",
       "  'reg_lambda': 0.5470426439402686,\n",
       "  'num_leaves': 11,\n",
       "  'min_data_in_leaf': 1600,\n",
       "  'learning_rate': 0.2},\n",
       " {'n_estimators': 10,\n",
       "  'reg_lambda': 3.973909407154452e-07,\n",
       "  'num_leaves': 24,\n",
       "  'min_data_in_leaf': 1600,\n",
       "  'learning_rate': 0.05},\n",
       " {'n_estimators': 50,\n",
       "  'reg_lambda': 0.0007676774985477343,\n",
       "  'num_leaves': 25,\n",
       "  'min_data_in_leaf': 400,\n",
       "  'learning_rate': 0.2},\n",
       " {'n_estimators': 70,\n",
       "  'reg_lambda': 0.06496226034573477,\n",
       "  'num_leaves': 16,\n",
       "  'min_data_in_leaf': 1600,\n",
       "  'learning_rate': 0.02},\n",
       " {'n_estimators': 10,\n",
       "  'reg_lambda': 0.00012239391899450733,\n",
       "  'num_leaves': 20,\n",
       "  'min_data_in_leaf': 1200,\n",
       "  'learning_rate': 0.09},\n",
       " {'n_estimators': 90,\n",
       "  'reg_lambda': 1.0577266369288387e-05,\n",
       "  'num_leaves': 16,\n",
       "  'min_data_in_leaf': 400,\n",
       "  'learning_rate': 0.2},\n",
       " {'n_estimators': 20,\n",
       "  'reg_lambda': 1.8198694732414802,\n",
       "  'num_leaves': 18,\n",
       "  'min_data_in_leaf': 1200,\n",
       "  'learning_rate': 0.01},\n",
       " {'n_estimators': 20,\n",
       "  'reg_lambda': 6.478161807695982,\n",
       "  'num_leaves': 5,\n",
       "  'min_data_in_leaf': 400,\n",
       "  'learning_rate': 0.01},\n",
       " {'n_estimators': 10,\n",
       "  'reg_lambda': 1.4917034462300989e-06,\n",
       "  'num_leaves': 18,\n",
       "  'min_data_in_leaf': 400,\n",
       "  'learning_rate': 0.06999999999999999},\n",
       " {'n_estimators': 70,\n",
       "  'reg_lambda': 0.002420364741766339,\n",
       "  'num_leaves': 20,\n",
       "  'min_data_in_leaf': 1200,\n",
       "  'learning_rate': 0.2},\n",
       " {'n_estimators': 70,\n",
       "  'reg_lambda': 5.6849298833635356,\n",
       "  'num_leaves': 20,\n",
       "  'min_data_in_leaf': 2400,\n",
       "  'learning_rate': 0.2},\n",
       " {'n_estimators': 80,\n",
       "  'reg_lambda': 0.0061284371777079755,\n",
       "  'num_leaves': 12,\n",
       "  'min_data_in_leaf': 400,\n",
       "  'learning_rate': 0.2},\n",
       " {'n_estimators': 90,\n",
       "  'reg_lambda': 0.0004337150533994116,\n",
       "  'num_leaves': 6,\n",
       "  'min_data_in_leaf': 2000,\n",
       "  'learning_rate': 0.03},\n",
       " {'n_estimators': 90,\n",
       "  'reg_lambda': 0.00673597778288809,\n",
       "  'num_leaves': 15,\n",
       "  'min_data_in_leaf': 400,\n",
       "  'learning_rate': 0.18000000000000002},\n",
       " {'n_estimators': 100,\n",
       "  'reg_lambda': 4.0366803927414134e-05,\n",
       "  'num_leaves': 24,\n",
       "  'min_data_in_leaf': 400,\n",
       "  'learning_rate': 0.19},\n",
       " {'n_estimators': 30,\n",
       "  'reg_lambda': 0.003989363508232399,\n",
       "  'num_leaves': 17,\n",
       "  'min_data_in_leaf': 400,\n",
       "  'learning_rate': 0.13},\n",
       " {'n_estimators': 10,\n",
       "  'reg_lambda': 6.334961764607385e-08,\n",
       "  'num_leaves': 6,\n",
       "  'min_data_in_leaf': 400,\n",
       "  'learning_rate': 0.03},\n",
       " {'n_estimators': 10,\n",
       "  'reg_lambda': 0.000780361554537545,\n",
       "  'num_leaves': 13,\n",
       "  'min_data_in_leaf': 400,\n",
       "  'learning_rate': 0.01},\n",
       " {'n_estimators': 10,\n",
       "  'reg_lambda': 0.5777832070761251,\n",
       "  'num_leaves': 21,\n",
       "  'min_data_in_leaf': 2000,\n",
       "  'learning_rate': 0.01},\n",
       " {'n_estimators': 70,\n",
       "  'reg_lambda': 7.579280145555945e-06,\n",
       "  'num_leaves': 21,\n",
       "  'min_data_in_leaf': 800,\n",
       "  'learning_rate': 0.01},\n",
       " {'n_estimators': 90,\n",
       "  'reg_lambda': 0.017882856294143788,\n",
       "  'num_leaves': 8,\n",
       "  'min_data_in_leaf': 400,\n",
       "  'learning_rate': 0.01},\n",
       " {'n_estimators': 90,\n",
       "  'reg_lambda': 2.8051662684754674e-06,\n",
       "  'num_leaves': 21,\n",
       "  'min_data_in_leaf': 400,\n",
       "  'learning_rate': 0.2},\n",
       " {'n_estimators': 10,\n",
       "  'reg_lambda': 1.8404504113251024e-08,\n",
       "  'num_leaves': 6,\n",
       "  'min_data_in_leaf': 2400,\n",
       "  'learning_rate': 0.03},\n",
       " {'n_estimators': 80,\n",
       "  'reg_lambda': 6.6253524998782265e-06,\n",
       "  'num_leaves': 21,\n",
       "  'min_data_in_leaf': 2000,\n",
       "  'learning_rate': 0.01},\n",
       " {'n_estimators': 10,\n",
       "  'reg_lambda': 5.255367860147532e-08,\n",
       "  'num_leaves': 5,\n",
       "  'min_data_in_leaf': 800,\n",
       "  'learning_rate': 0.11},\n",
       " {'n_estimators': 100,\n",
       "  'reg_lambda': 2.1949802619017942e-05,\n",
       "  'num_leaves': 21,\n",
       "  'min_data_in_leaf': 400,\n",
       "  'learning_rate': 0.2},\n",
       " {'n_estimators': 50,\n",
       "  'reg_lambda': 6.251268558482281,\n",
       "  'num_leaves': 11,\n",
       "  'min_data_in_leaf': 800,\n",
       "  'learning_rate': 0.16},\n",
       " {'n_estimators': 50,\n",
       "  'reg_lambda': 4.383691014565643,\n",
       "  'num_leaves': 19,\n",
       "  'min_data_in_leaf': 2000,\n",
       "  'learning_rate': 0.02},\n",
       " {'n_estimators': 30,\n",
       "  'reg_lambda': 8.283539242380378,\n",
       "  'num_leaves': 24,\n",
       "  'min_data_in_leaf': 400,\n",
       "  'learning_rate': 0.2},\n",
       " {'n_estimators': 100,\n",
       "  'reg_lambda': 0.0006207464797389109,\n",
       "  'num_leaves': 19,\n",
       "  'min_data_in_leaf': 400,\n",
       "  'learning_rate': 0.2},\n",
       " {'n_estimators': 20,\n",
       "  'reg_lambda': 4.995424435977249e-05,\n",
       "  'num_leaves': 20,\n",
       "  'min_data_in_leaf': 2000,\n",
       "  'learning_rate': 0.02},\n",
       " {'n_estimators': 10,\n",
       "  'reg_lambda': 0.00023278681757826886,\n",
       "  'num_leaves': 13,\n",
       "  'min_data_in_leaf': 1200,\n",
       "  'learning_rate': 0.01},\n",
       " {'n_estimators': 10,\n",
       "  'reg_lambda': 0.3056442932625645,\n",
       "  'num_leaves': 6,\n",
       "  'min_data_in_leaf': 400,\n",
       "  'learning_rate': 0.05},\n",
       " {'n_estimators': 10,\n",
       "  'reg_lambda': 4.069961362527518e-08,\n",
       "  'num_leaves': 6,\n",
       "  'min_data_in_leaf': 2400,\n",
       "  'learning_rate': 0.02},\n",
       " {'n_estimators': 40,\n",
       "  'reg_lambda': 2.35512749004433e-05,\n",
       "  'num_leaves': 9,\n",
       "  'min_data_in_leaf': 1200,\n",
       "  'learning_rate': 0.01},\n",
       " {'n_estimators': 100,\n",
       "  'reg_lambda': 0.006621812032819528,\n",
       "  'num_leaves': 25,\n",
       "  'min_data_in_leaf': 1200,\n",
       "  'learning_rate': 0.03},\n",
       " {'n_estimators': 10,\n",
       "  'reg_lambda': 0.0001637234811696298,\n",
       "  'num_leaves': 15,\n",
       "  'min_data_in_leaf': 2400,\n",
       "  'learning_rate': 0.06999999999999999},\n",
       " {'n_estimators': 10,\n",
       "  'reg_lambda': 0.04318494250805774,\n",
       "  'num_leaves': 7,\n",
       "  'min_data_in_leaf': 1600,\n",
       "  'learning_rate': 0.02},\n",
       " {'n_estimators': 90,\n",
       "  'reg_lambda': 0.09182454693838629,\n",
       "  'num_leaves': 5,\n",
       "  'min_data_in_leaf': 800,\n",
       "  'learning_rate': 0.13},\n",
       " {'n_estimators': 10,\n",
       "  'reg_lambda': 1.2095736570690804e-07,\n",
       "  'num_leaves': 14,\n",
       "  'min_data_in_leaf': 1200,\n",
       "  'learning_rate': 0.16},\n",
       " {'n_estimators': 50,\n",
       "  'reg_lambda': 2.836061643275266e-06,\n",
       "  'num_leaves': 5,\n",
       "  'min_data_in_leaf': 1200,\n",
       "  'learning_rate': 0.01},\n",
       " {'n_estimators': 80,\n",
       "  'reg_lambda': 3.657274741634547e-07,\n",
       "  'num_leaves': 11,\n",
       "  'min_data_in_leaf': 2400,\n",
       "  'learning_rate': 0.13},\n",
       " {'n_estimators': 100,\n",
       "  'reg_lambda': 1.0720709858897719e-08,\n",
       "  'num_leaves': 20,\n",
       "  'min_data_in_leaf': 400,\n",
       "  'learning_rate': 0.2},\n",
       " {'n_estimators': 90,\n",
       "  'reg_lambda': 2.8174608694948167,\n",
       "  'num_leaves': 19,\n",
       "  'min_data_in_leaf': 800,\n",
       "  'learning_rate': 0.18000000000000002},\n",
       " {'n_estimators': 50,\n",
       "  'reg_lambda': 4.2691550042846646e-05,\n",
       "  'num_leaves': 6,\n",
       "  'min_data_in_leaf': 400,\n",
       "  'learning_rate': 0.01},\n",
       " {'n_estimators': 10,\n",
       "  'reg_lambda': 6.255152235077284,\n",
       "  'num_leaves': 16,\n",
       "  'min_data_in_leaf': 1600,\n",
       "  'learning_rate': 0.01},\n",
       " {'n_estimators': 70,\n",
       "  'reg_lambda': 2.1997254007836936e-05,\n",
       "  'num_leaves': 17,\n",
       "  'min_data_in_leaf': 800,\n",
       "  'learning_rate': 0.06999999999999999},\n",
       " {'n_estimators': 10,\n",
       "  'reg_lambda': 1.0493097039364404e-07,\n",
       "  'num_leaves': 5,\n",
       "  'min_data_in_leaf': 2400,\n",
       "  'learning_rate': 0.01},\n",
       " {'n_estimators': 10,\n",
       "  'reg_lambda': 6.325696307759561e-07,\n",
       "  'num_leaves': 8,\n",
       "  'min_data_in_leaf': 800,\n",
       "  'learning_rate': 0.02},\n",
       " {'n_estimators': 50,\n",
       "  'reg_lambda': 1.3275777689292668e-06,\n",
       "  'num_leaves': 24,\n",
       "  'min_data_in_leaf': 2000,\n",
       "  'learning_rate': 0.04},\n",
       " {'n_estimators': 10,\n",
       "  'reg_lambda': 2.560514143106792e-06,\n",
       "  'num_leaves': 13,\n",
       "  'min_data_in_leaf': 400,\n",
       "  'learning_rate': 0.01},\n",
       " {'n_estimators': 10,\n",
       "  'reg_lambda': 1.925380029123643e-06,\n",
       "  'num_leaves': 17,\n",
       "  'min_data_in_leaf': 2400,\n",
       "  'learning_rate': 0.01}]"
      ]
     },
     "execution_count": 18,
     "metadata": {},
     "output_type": "execute_result"
    }
   ],
   "source": [
    "optimal_hyperparameters"
   ]
  },
  {
   "cell_type": "code",
   "execution_count": 22,
   "metadata": {},
   "outputs": [],
   "source": [
    "classifiers = []"
   ]
  },
  {
   "cell_type": "code",
   "execution_count": 24,
   "metadata": {},
   "outputs": [],
   "source": [
    "for hyp_par in optimal_hyperparameters:\n",
    "    gb_clf = LGBMClassifier(**hyp_par)\n",
    "    classifiers.append(gb_clf)"
   ]
  },
  {
   "cell_type": "code",
   "execution_count": 25,
   "metadata": {},
   "outputs": [
    {
     "name": "stdout",
     "output_type": "stream",
     "text": [
      "[LightGBM] [Warning] min_data_in_leaf is set=400, min_child_samples=20 will be ignored. Current value: min_data_in_leaf=400\n"
     ]
    }
   ],
   "source": [
    "for i in range(len(start_dates)-1): \n",
    "    classifiers[i].fit(training_data[i],training_labels[i])"
   ]
  },
  {
   "cell_type": "code",
   "execution_count": 26,
   "metadata": {},
   "outputs": [],
   "source": [
    "with open(r'classifiers_gb_clf_01.pkl','wb') as f:\n",
    "    pickle.dump(classifiers,f)"
   ]
  },
  {
   "cell_type": "code",
   "execution_count": 19,
   "metadata": {},
   "outputs": [],
   "source": [
    "with open(r'classifiers_gb_clf_01.pkl','rb') as f:\n",
    "    classifiers = pickle.load(f)"
   ]
  },
  {
   "cell_type": "code",
   "execution_count": 20,
   "metadata": {
    "ExecuteTime": {
     "end_time": "2020-02-11T00:30:26.233418Z",
     "start_time": "2020-02-11T00:30:26.207352Z"
    }
   },
   "outputs": [],
   "source": [
    "def gbm_feat_importances(m, df):\n",
    "        \n",
    "    return pd.DataFrame({'cols':df.columns, 'feat_imp': m.feature_importances_}\n",
    "                       ).sort_values('feat_imp', ascending=False)"
   ]
  },
  {
   "cell_type": "code",
   "execution_count": 21,
   "metadata": {},
   "outputs": [
    {
     "name": "stdout",
     "output_type": "stream",
     "text": [
      "CPU times: total: 31.2 ms\n",
      "Wall time: 90.6 ms\n"
     ]
    }
   ],
   "source": [
    "%%time\n",
    "significant_features = []\n",
    "for i in range(len(start_dates)-1):\n",
    "\n",
    "    fi = gbm_feat_importances(classifiers[i],training_data[i])\n",
    "    features = fi[fi['feat_imp'] > 0]\n",
    "    significant_features.append(features)"
   ]
  },
  {
   "cell_type": "code",
   "execution_count": 22,
   "metadata": {},
   "outputs": [
    {
     "data": {
      "text/html": [
       "<div>\n",
       "<style scoped>\n",
       "    .dataframe tbody tr th:only-of-type {\n",
       "        vertical-align: middle;\n",
       "    }\n",
       "\n",
       "    .dataframe tbody tr th {\n",
       "        vertical-align: top;\n",
       "    }\n",
       "\n",
       "    .dataframe thead th {\n",
       "        text-align: right;\n",
       "    }\n",
       "</style>\n",
       "<table border=\"1\" class=\"dataframe\">\n",
       "  <thead>\n",
       "    <tr style=\"text-align: right;\">\n",
       "      <th></th>\n",
       "      <th>cols</th>\n",
       "      <th>feat_imp</th>\n",
       "    </tr>\n",
       "  </thead>\n",
       "  <tbody>\n",
       "    <tr>\n",
       "      <th>102</th>\n",
       "      <td>oancfy_q</td>\n",
       "      <td>32</td>\n",
       "    </tr>\n",
       "    <tr>\n",
       "      <th>156</th>\n",
       "      <td>fcf_yield</td>\n",
       "      <td>28</td>\n",
       "    </tr>\n",
       "    <tr>\n",
       "      <th>90</th>\n",
       "      <td>book_value_per_share</td>\n",
       "      <td>20</td>\n",
       "    </tr>\n",
       "    <tr>\n",
       "      <th>104</th>\n",
       "      <td>cfo-per-share</td>\n",
       "      <td>20</td>\n",
       "    </tr>\n",
       "    <tr>\n",
       "      <th>179</th>\n",
       "      <td>fqtr_1</td>\n",
       "      <td>16</td>\n",
       "    </tr>\n",
       "    <tr>\n",
       "      <th>86</th>\n",
       "      <td>dvpspq</td>\n",
       "      <td>16</td>\n",
       "    </tr>\n",
       "    <tr>\n",
       "      <th>105</th>\n",
       "      <td>cf_yield</td>\n",
       "      <td>12</td>\n",
       "    </tr>\n",
       "    <tr>\n",
       "      <th>107</th>\n",
       "      <td>dvq</td>\n",
       "      <td>12</td>\n",
       "    </tr>\n",
       "    <tr>\n",
       "      <th>162</th>\n",
       "      <td>de_ratioq</td>\n",
       "      <td>12</td>\n",
       "    </tr>\n",
       "    <tr>\n",
       "      <th>160</th>\n",
       "      <td>debt_assetsq</td>\n",
       "      <td>9</td>\n",
       "    </tr>\n",
       "    <tr>\n",
       "      <th>59</th>\n",
       "      <td>txtq</td>\n",
       "      <td>8</td>\n",
       "    </tr>\n",
       "    <tr>\n",
       "      <th>165</th>\n",
       "      <td>cash_ratioq</td>\n",
       "      <td>8</td>\n",
       "    </tr>\n",
       "    <tr>\n",
       "      <th>15</th>\n",
       "      <td>dpq</td>\n",
       "      <td>8</td>\n",
       "    </tr>\n",
       "    <tr>\n",
       "      <th>143</th>\n",
       "      <td>cash_ltq</td>\n",
       "      <td>8</td>\n",
       "    </tr>\n",
       "    <tr>\n",
       "      <th>91</th>\n",
       "      <td>book_value_yield</td>\n",
       "      <td>8</td>\n",
       "    </tr>\n",
       "    <tr>\n",
       "      <th>120</th>\n",
       "      <td>efftaxq</td>\n",
       "      <td>5</td>\n",
       "    </tr>\n",
       "    <tr>\n",
       "      <th>72</th>\n",
       "      <td>dvy</td>\n",
       "      <td>4</td>\n",
       "    </tr>\n",
       "    <tr>\n",
       "      <th>84</th>\n",
       "      <td>xrdy</td>\n",
       "      <td>4</td>\n",
       "    </tr>\n",
       "    <tr>\n",
       "      <th>93</th>\n",
       "      <td>buy_back_yield</td>\n",
       "      <td>3</td>\n",
       "    </tr>\n",
       "    <tr>\n",
       "      <th>61</th>\n",
       "      <td>xoprq</td>\n",
       "      <td>3</td>\n",
       "    </tr>\n",
       "    <tr>\n",
       "      <th>113</th>\n",
       "      <td>ptpmq</td>\n",
       "      <td>2</td>\n",
       "    </tr>\n",
       "    <tr>\n",
       "      <th>171</th>\n",
       "      <td>rect_turnq</td>\n",
       "      <td>2</td>\n",
       "    </tr>\n",
       "  </tbody>\n",
       "</table>\n",
       "</div>"
      ],
      "text/plain": [
       "                     cols  feat_imp\n",
       "102              oancfy_q        32\n",
       "156             fcf_yield        28\n",
       "90   book_value_per_share        20\n",
       "104         cfo-per-share        20\n",
       "179                fqtr_1        16\n",
       "86                 dvpspq        16\n",
       "105              cf_yield        12\n",
       "107                   dvq        12\n",
       "162             de_ratioq        12\n",
       "160          debt_assetsq         9\n",
       "59                   txtq         8\n",
       "165           cash_ratioq         8\n",
       "15                    dpq         8\n",
       "143              cash_ltq         8\n",
       "91       book_value_yield         8\n",
       "120               efftaxq         5\n",
       "72                    dvy         4\n",
       "84                   xrdy         4\n",
       "93         buy_back_yield         3\n",
       "61                  xoprq         3\n",
       "113                 ptpmq         2\n",
       "171            rect_turnq         2"
      ]
     },
     "execution_count": 22,
     "metadata": {},
     "output_type": "execute_result"
    }
   ],
   "source": [
    "significant_features[11]"
   ]
  },
  {
   "cell_type": "code",
   "execution_count": 23,
   "metadata": {},
   "outputs": [],
   "source": [
    "with open(r'significant_features_gb_clf_01.pkl','wb') as f:\n",
    "    pickle.dump(significant_features,f)"
   ]
  },
  {
   "cell_type": "code",
   "execution_count": 24,
   "metadata": {},
   "outputs": [],
   "source": [
    "new_training_data = []\n",
    "new_valid_data = []\n",
    "new_test_data = []"
   ]
  },
  {
   "cell_type": "code",
   "execution_count": 25,
   "metadata": {},
   "outputs": [],
   "source": [
    "for i in range(len(start_dates)-1): \n",
    "    new_training_data.append(training_data[i][significant_features[i]['cols']])\n",
    "    new_valid_data.append(valid_data[i][significant_features[i]['cols']])\n",
    "    new_test_data.append(test_data[i][significant_features[i]['cols']])\n",
    "    "
   ]
  },
  {
   "cell_type": "code",
   "execution_count": null,
   "metadata": {},
   "outputs": [],
   "source": []
  },
  {
   "cell_type": "code",
   "execution_count": 26,
   "metadata": {},
   "outputs": [],
   "source": [
    "for i in range(len(start_dates)-1):\n",
    "    float_vars = [x for x in new_training_data[i].columns if data[x].dtype == 'float64']\n",
    "\n",
    "    scaler = StandardScaler()\n",
    "    new_training_data[i] = new_training_data[i].copy()\n",
    "    new_valid_data[i] = new_valid_data[i].copy()\n",
    "    new_test_data[i] = new_test_data[i].copy()\n",
    "    new_training_data[i][float_vars] = scaler.fit_transform(new_training_data[i][float_vars])\n",
    "    new_valid_data[i][float_vars] = scaler.transform(new_valid_data[i][float_vars])\n",
    "    new_test_data[i][float_vars] = scaler.transform(new_test_data[i][float_vars])"
   ]
  },
  {
   "cell_type": "code",
   "execution_count": 65,
   "metadata": {},
   "outputs": [],
   "source": [
    "for i in range(len(start_dates)-1): \n",
    "    classifiers[i].fit(new_training_data[i],training_labels[i])"
   ]
  },
  {
   "cell_type": "code",
   "execution_count": 66,
   "metadata": {},
   "outputs": [],
   "source": [
    "with open(r'new_classifiers_gb_clf_01.pkl','wb') as f:\n",
    "    pickle.dump(classifiers,f)"
   ]
  },
  {
   "cell_type": "code",
   "execution_count": 32,
   "metadata": {},
   "outputs": [],
   "source": [
    "with open(r'new_classifiers_gb_clf_01.pkl','rb') as f:\n",
    "    classifiers = pickle.load(f)"
   ]
  },
  {
   "cell_type": "code",
   "execution_count": 31,
   "metadata": {},
   "outputs": [],
   "source": [
    "def model(features):\n",
    "    tree_features = features[features.columns[:-1].values]\n",
    "\n",
    "    pred = gb_clf.predict(tree_features)\n",
    "\n",
    "    ret = pred * features[features.columns[-1]]\n",
    "\n",
    "    return ret"
   ]
  },
  {
   "cell_type": "code",
   "execution_count": 28,
   "metadata": {},
   "outputs": [],
   "source": [
    "import shap"
   ]
  },
  {
   "cell_type": "code",
   "execution_count": 29,
   "metadata": {},
   "outputs": [],
   "source": [
    "shap_features = []"
   ]
  },
  {
   "cell_type": "code",
   "execution_count": 33,
   "metadata": {},
   "outputs": [
    {
     "name": "stdout",
     "output_type": "stream",
     "text": [
      "179\n"
     ]
    },
    {
     "name": "stderr",
     "output_type": "stream",
     "text": [
      "Permutation explainer: 1123it [10:06,  1.83it/s]                                                                       \n"
     ]
    },
    {
     "name": "stdout",
     "output_type": "stream",
     "text": [
      "179\n",
      "177\n"
     ]
    },
    {
     "name": "stderr",
     "output_type": "stream",
     "text": [
      "Permutation explainer: 1156it [08:17,  2.28it/s]                                                                       \n"
     ]
    },
    {
     "name": "stdout",
     "output_type": "stream",
     "text": [
      "175\n",
      "36\n"
     ]
    },
    {
     "name": "stderr",
     "output_type": "stream",
     "text": [
      "Permutation explainer: 1174it [03:12,  5.77it/s]                                                                       \n"
     ]
    },
    {
     "name": "stdout",
     "output_type": "stream",
     "text": [
      "10\n",
      "41\n"
     ]
    },
    {
     "name": "stderr",
     "output_type": "stream",
     "text": [
      "Permutation explainer: 1137it [02:13,  7.84it/s]                                                                       \n"
     ]
    },
    {
     "name": "stdout",
     "output_type": "stream",
     "text": [
      "10\n",
      "161\n"
     ]
    },
    {
     "name": "stderr",
     "output_type": "stream",
     "text": [
      "Permutation explainer: 1266it [07:37,  2.71it/s]                                                                       \n"
     ]
    },
    {
     "name": "stdout",
     "output_type": "stream",
     "text": [
      "151\n",
      "43\n"
     ]
    },
    {
     "name": "stderr",
     "output_type": "stream",
     "text": [
      "Permutation explainer: 1261it [02:40,  7.31it/s]                                                                       \n"
     ]
    },
    {
     "name": "stdout",
     "output_type": "stream",
     "text": [
      "10\n",
      "184\n"
     ]
    },
    {
     "name": "stderr",
     "output_type": "stream",
     "text": [
      "Permutation explainer: 1256it [09:02,  2.27it/s]                                                                       \n"
     ]
    },
    {
     "name": "stdout",
     "output_type": "stream",
     "text": [
      "184\n",
      "94\n"
     ]
    },
    {
     "name": "stderr",
     "output_type": "stream",
     "text": [
      "Permutation explainer: 1284it [06:01,  3.43it/s]                                                                       \n"
     ]
    },
    {
     "name": "stdout",
     "output_type": "stream",
     "text": [
      "2\n",
      "78\n"
     ]
    },
    {
     "name": "stderr",
     "output_type": "stream",
     "text": [
      "Permutation explainer: 1316it [04:47,  4.40it/s]                                                                       \n"
     ]
    },
    {
     "name": "stdout",
     "output_type": "stream",
     "text": [
      "10\n",
      "188\n"
     ]
    },
    {
     "name": "stderr",
     "output_type": "stream",
     "text": [
      "Permutation explainer: 1414it [13:20,  1.75it/s]                                                                       \n"
     ]
    },
    {
     "name": "stdout",
     "output_type": "stream",
     "text": [
      "188\n",
      "48\n"
     ]
    },
    {
     "name": "stderr",
     "output_type": "stream",
     "text": [
      "Permutation explainer: 1361it [03:58,  5.43it/s]                                                                       \n"
     ]
    },
    {
     "name": "stdout",
     "output_type": "stream",
     "text": [
      "10\n",
      "22\n"
     ]
    },
    {
     "name": "stderr",
     "output_type": "stream",
     "text": [
      "Permutation explainer: 1355it [02:08,  9.73it/s]                                                                       \n"
     ]
    },
    {
     "name": "stdout",
     "output_type": "stream",
     "text": [
      "10\n",
      "137\n"
     ]
    },
    {
     "name": "stderr",
     "output_type": "stream",
     "text": [
      "Permutation explainer: 1475it [04:58,  4.76it/s]                                                                       \n"
     ]
    },
    {
     "name": "stdout",
     "output_type": "stream",
     "text": [
      "61\n",
      "178\n"
     ]
    },
    {
     "name": "stderr",
     "output_type": "stream",
     "text": [
      "Permutation explainer: 1512it [10:49,  2.29it/s]                                                                       \n"
     ]
    },
    {
     "name": "stdout",
     "output_type": "stream",
     "text": [
      "175\n",
      "154\n"
     ]
    },
    {
     "name": "stderr",
     "output_type": "stream",
     "text": [
      "Permutation explainer: 1523it [08:09,  3.04it/s]                                                                       \n"
     ]
    },
    {
     "name": "stdout",
     "output_type": "stream",
     "text": [
      "133\n",
      "187\n"
     ]
    },
    {
     "name": "stderr",
     "output_type": "stream",
     "text": [
      "Permutation explainer: 1499it [11:44,  2.10it/s]                                                                       \n"
     ]
    },
    {
     "name": "stdout",
     "output_type": "stream",
     "text": [
      "186\n",
      "127\n"
     ]
    },
    {
     "name": "stderr",
     "output_type": "stream",
     "text": [
      "Permutation explainer: 1455it [06:44,  3.50it/s]                                                                       \n"
     ]
    },
    {
     "name": "stdout",
     "output_type": "stream",
     "text": [
      "109\n",
      "191\n"
     ]
    },
    {
     "name": "stderr",
     "output_type": "stream",
     "text": [
      "Permutation explainer: 1400it [11:17,  2.04it/s]                                                                       \n"
     ]
    },
    {
     "name": "stdout",
     "output_type": "stream",
     "text": [
      "190\n",
      "191\n"
     ]
    },
    {
     "name": "stderr",
     "output_type": "stream",
     "text": [
      "Permutation explainer: 1376it [13:06,  1.72it/s]                                                                       \n"
     ]
    },
    {
     "name": "stdout",
     "output_type": "stream",
     "text": [
      "190\n",
      "186\n"
     ]
    },
    {
     "name": "stderr",
     "output_type": "stream",
     "text": [
      "Permutation explainer: 1301it [07:16,  2.91it/s]                                                                       \n"
     ]
    },
    {
     "name": "stdout",
     "output_type": "stream",
     "text": [
      "170\n",
      "42\n"
     ]
    },
    {
     "name": "stderr",
     "output_type": "stream",
     "text": [
      "Permutation explainer: 1099it [02:16,  7.50it/s]                                                                       \n"
     ]
    },
    {
     "name": "stdout",
     "output_type": "stream",
     "text": [
      "10\n",
      "52\n"
     ]
    },
    {
     "name": "stderr",
     "output_type": "stream",
     "text": [
      "Permutation explainer: 1029it [02:24,  6.58it/s]                                                                       \n"
     ]
    },
    {
     "name": "stdout",
     "output_type": "stream",
     "text": [
      "10\n",
      "22\n"
     ]
    },
    {
     "name": "stderr",
     "output_type": "stream",
     "text": [
      "Permutation explainer: 1180it [01:34, 11.21it/s]                                                                       \n"
     ]
    },
    {
     "name": "stdout",
     "output_type": "stream",
     "text": [
      "8\n",
      "151\n"
     ]
    },
    {
     "name": "stderr",
     "output_type": "stream",
     "text": [
      "Permutation explainer: 1279it [06:52,  3.03it/s]                                                                       \n"
     ]
    },
    {
     "name": "stdout",
     "output_type": "stream",
     "text": [
      "93\n",
      "101\n"
     ]
    },
    {
     "name": "stderr",
     "output_type": "stream",
     "text": [
      "Permutation explainer: 1353it [06:52,  3.19it/s]                                                                       \n"
     ]
    },
    {
     "name": "stdout",
     "output_type": "stream",
     "text": [
      "68\n",
      "189\n"
     ]
    },
    {
     "name": "stderr",
     "output_type": "stream",
     "text": [
      "Permutation explainer: 1442it [12:42,  1.87it/s]                                                                       \n"
     ]
    },
    {
     "name": "stdout",
     "output_type": "stream",
     "text": [
      "189\n",
      "20\n"
     ]
    },
    {
     "name": "stderr",
     "output_type": "stream",
     "text": [
      "Permutation explainer: 1388it [01:48, 11.61it/s]                                                                       \n"
     ]
    },
    {
     "name": "stdout",
     "output_type": "stream",
     "text": [
      "7\n",
      "58\n"
     ]
    },
    {
     "name": "stderr",
     "output_type": "stream",
     "text": [
      "Permutation explainer: 1443it [06:02,  3.87it/s]                                                                       \n"
     ]
    },
    {
     "name": "stdout",
     "output_type": "stream",
     "text": [
      "10\n",
      "43\n"
     ]
    },
    {
     "name": "stderr",
     "output_type": "stream",
     "text": [
      "Permutation explainer: 1554it [02:57,  8.26it/s]                                                                       \n"
     ]
    },
    {
     "name": "stdout",
     "output_type": "stream",
     "text": [
      "15\n",
      "191\n"
     ]
    },
    {
     "name": "stderr",
     "output_type": "stream",
     "text": [
      "Permutation explainer: 1547it [14:41,  1.73it/s]                                                                       \n"
     ]
    },
    {
     "name": "stdout",
     "output_type": "stream",
     "text": [
      "191\n",
      "181\n"
     ]
    },
    {
     "name": "stderr",
     "output_type": "stream",
     "text": [
      "Permutation explainer: 1612it [09:36,  2.75it/s]                                                                       \n"
     ]
    },
    {
     "name": "stdout",
     "output_type": "stream",
     "text": [
      "171\n",
      "82\n"
     ]
    },
    {
     "name": "stderr",
     "output_type": "stream",
     "text": [
      "Permutation explainer: 1426it [04:35,  4.96it/s]                                                                       \n"
     ]
    },
    {
     "name": "stdout",
     "output_type": "stream",
     "text": [
      "10\n",
      "188\n"
     ]
    },
    {
     "name": "stderr",
     "output_type": "stream",
     "text": [
      "Permutation explainer: 1528it [09:04,  2.76it/s]                                                                       \n"
     ]
    },
    {
     "name": "stdout",
     "output_type": "stream",
     "text": [
      "187\n",
      "191\n"
     ]
    },
    {
     "name": "stderr",
     "output_type": "stream",
     "text": [
      "Permutation explainer: 1610it [14:39,  1.81it/s]                                                                       \n"
     ]
    },
    {
     "name": "stdout",
     "output_type": "stream",
     "text": [
      "191\n",
      "53\n"
     ]
    },
    {
     "name": "stderr",
     "output_type": "stream",
     "text": [
      "Permutation explainer: 1619it [04:40,  5.57it/s]                                                                       \n"
     ]
    },
    {
     "name": "stdout",
     "output_type": "stream",
     "text": [
      "4\n",
      "39\n"
     ]
    },
    {
     "name": "stderr",
     "output_type": "stream",
     "text": [
      "Permutation explainer: 1531it [03:58,  6.14it/s]                                                                       \n"
     ]
    },
    {
     "name": "stdout",
     "output_type": "stream",
     "text": [
      "10\n",
      "44\n"
     ]
    },
    {
     "name": "stderr",
     "output_type": "stream",
     "text": [
      "Permutation explainer: 1625it [03:34,  7.16it/s]                                                                       \n"
     ]
    },
    {
     "name": "stdout",
     "output_type": "stream",
     "text": [
      "4\n",
      "18\n"
     ]
    },
    {
     "name": "stderr",
     "output_type": "stream",
     "text": [
      "Permutation explainer: 1751it [02:23, 11.36it/s]                                                                       \n"
     ]
    },
    {
     "name": "stdout",
     "output_type": "stream",
     "text": [
      "10\n",
      "76\n"
     ]
    },
    {
     "name": "stderr",
     "output_type": "stream",
     "text": [
      "Permutation explainer: 1802it [06:39,  4.40it/s]                                                                       \n"
     ]
    },
    {
     "name": "stdout",
     "output_type": "stream",
     "text": [
      "10\n",
      "171\n"
     ]
    },
    {
     "name": "stderr",
     "output_type": "stream",
     "text": [
      "Permutation explainer: 1875it [13:47,  2.24it/s]                                                                       \n"
     ]
    },
    {
     "name": "stdout",
     "output_type": "stream",
     "text": [
      "166\n",
      "49\n"
     ]
    },
    {
     "name": "stderr",
     "output_type": "stream",
     "text": [
      "Permutation explainer: 1957it [04:27,  6.96it/s]                                                                       \n"
     ]
    },
    {
     "name": "stdout",
     "output_type": "stream",
     "text": [
      "31\n",
      "30\n"
     ]
    },
    {
     "name": "stderr",
     "output_type": "stream",
     "text": [
      "Permutation explainer: 1969it [06:03,  5.25it/s]                                                                       \n"
     ]
    },
    {
     "name": "stdout",
     "output_type": "stream",
     "text": [
      "9\n",
      "167\n"
     ]
    },
    {
     "name": "stderr",
     "output_type": "stream",
     "text": [
      "Permutation explainer: 2061it [13:38,  2.49it/s]                                                                       \n"
     ]
    },
    {
     "name": "stdout",
     "output_type": "stream",
     "text": [
      "146\n",
      "123\n"
     ]
    },
    {
     "name": "stderr",
     "output_type": "stream",
     "text": [
      "Permutation explainer: 1973it [09:55,  3.25it/s]                                                                       \n"
     ]
    },
    {
     "name": "stdout",
     "output_type": "stream",
     "text": [
      "103\n",
      "32\n"
     ]
    },
    {
     "name": "stderr",
     "output_type": "stream",
     "text": [
      "Permutation explainer: 2042it [06:32,  5.04it/s]                                                                       \n"
     ]
    },
    {
     "name": "stdout",
     "output_type": "stream",
     "text": [
      "17\n",
      "166\n"
     ]
    },
    {
     "name": "stderr",
     "output_type": "stream",
     "text": [
      "Permutation explainer: 2081it [16:08,  2.13it/s]                                                                       \n"
     ]
    },
    {
     "name": "stdout",
     "output_type": "stream",
     "text": [
      "154\n",
      "193\n"
     ]
    },
    {
     "name": "stderr",
     "output_type": "stream",
     "text": [
      "Permutation explainer: 2136it [24:24,  1.45it/s]                                                                       \n"
     ]
    },
    {
     "name": "stdout",
     "output_type": "stream",
     "text": [
      "193\n",
      "187\n"
     ]
    },
    {
     "name": "stderr",
     "output_type": "stream",
     "text": [
      "Permutation explainer: 1949it [19:21,  1.67it/s]                                                                       \n"
     ]
    },
    {
     "name": "stdout",
     "output_type": "stream",
     "text": [
      "187\n",
      "59\n"
     ]
    },
    {
     "name": "stderr",
     "output_type": "stream",
     "text": [
      "Permutation explainer: 1965it [07:17,  4.37it/s]                                                                       \n"
     ]
    },
    {
     "name": "stdout",
     "output_type": "stream",
     "text": [
      "44\n",
      "39\n"
     ]
    },
    {
     "name": "stderr",
     "output_type": "stream",
     "text": [
      "Permutation explainer: 1951it [05:53,  5.36it/s]                                                                       \n"
     ]
    },
    {
     "name": "stdout",
     "output_type": "stream",
     "text": [
      "10\n",
      "184\n"
     ]
    },
    {
     "name": "stderr",
     "output_type": "stream",
     "text": [
      "Permutation explainer: 2006it [15:41,  2.11it/s]                                                                       \n"
     ]
    },
    {
     "name": "stdout",
     "output_type": "stream",
     "text": [
      "182\n",
      "14\n"
     ]
    },
    {
     "name": "stderr",
     "output_type": "stream",
     "text": [
      "Permutation explainer: 2006it [03:36,  8.83it/s]                                                                       \n"
     ]
    },
    {
     "name": "stdout",
     "output_type": "stream",
     "text": [
      "12\n",
      "34\n"
     ]
    },
    {
     "name": "stderr",
     "output_type": "stream",
     "text": [
      "Permutation explainer: 2067it [04:21,  7.59it/s]                                                                       \n"
     ]
    },
    {
     "name": "stdout",
     "output_type": "stream",
     "text": [
      "10\n",
      "134\n"
     ]
    },
    {
     "name": "stderr",
     "output_type": "stream",
     "text": [
      "Permutation explainer: 2109it [09:04,  3.80it/s]                                                                       \n"
     ]
    },
    {
     "name": "stdout",
     "output_type": "stream",
     "text": [
      "105\n",
      "51\n"
     ]
    },
    {
     "name": "stderr",
     "output_type": "stream",
     "text": [
      "Permutation explainer: 2155it [04:55,  6.99it/s]                                                                       \n"
     ]
    },
    {
     "name": "stdout",
     "output_type": "stream",
     "text": [
      "10\n",
      "29\n"
     ]
    },
    {
     "name": "stderr",
     "output_type": "stream",
     "text": [
      "Permutation explainer: 2155it [04:44,  7.30it/s]                                                                       \n"
     ]
    },
    {
     "name": "stdout",
     "output_type": "stream",
     "text": [
      "10\n"
     ]
    }
   ],
   "source": [
    "for i in range(len(start_dates)-1):\n",
    "    valid_1 = new_valid_data[i].copy()\n",
    "    cols = new_valid_data[i].columns\n",
    "    print(len(cols))\n",
    "    valid_1['rets'] = valid_frames[i]['next_period_return'].values\n",
    "    gb_clf = classifiers[i]\n",
    "    explainer = shap.explainers.Permutation(model,valid_1)\n",
    "    shap_values = explainer(valid_1,max_evals=500,)\n",
    "    shap_cols = cols[np.abs(shap_values[:,:-1].values).mean(axis=0)>0.000]\n",
    "    if shap_cols.empty:\n",
    "        shap_cols = cols[:10]\n",
    "    print(len(shap_cols))\n",
    "    shap_features.append(shap_cols)\n",
    "    "
   ]
  },
  {
   "cell_type": "code",
   "execution_count": 34,
   "metadata": {},
   "outputs": [],
   "source": [
    "with open(r'shap_features_gb_clf_01.pkl','wb') as f:\n",
    "    pickle.dump(shap_features,f)"
   ]
  },
  {
   "cell_type": "code",
   "execution_count": 35,
   "metadata": {},
   "outputs": [],
   "source": [
    "with open(r'shap_features_gb_clf_01.pkl','rb') as f:\n",
    "    shap_features = pickle.load(f)"
   ]
  },
  {
   "cell_type": "code",
   "execution_count": 36,
   "metadata": {},
   "outputs": [
    {
     "data": {
      "text/plain": [
       "Index(['oancfy_q', 'cf_yield', 'de_ratioq', 'xsgay', 'cshiq', 'debt_atq',\n",
       "       'opmadq', 'oepsxy', 'lagppent4', 'epspxq'],\n",
       "      dtype='object')"
      ]
     },
     "execution_count": 36,
     "metadata": {},
     "output_type": "execute_result"
    }
   ],
   "source": [
    "shap_features[10]"
   ]
  },
  {
   "cell_type": "code",
   "execution_count": 55,
   "metadata": {},
   "outputs": [],
   "source": [
    "start_dates = [pd.to_datetime('2001-01-01') + pd.DateOffset(months = 3*i) for i in range(57)]\n",
    "end_dates = [d + pd.DateOffset(months = 39) for d in start_dates]"
   ]
  },
  {
   "cell_type": "code",
   "execution_count": 56,
   "metadata": {},
   "outputs": [],
   "source": [
    "training_frames = [data.loc[d:d+pd.DateOffset(months = 39)] for d in start_dates]\n",
    "test_frames = [data.loc[d+pd.DateOffset(months = 3):d+pd.DateOffset(months = 6)] for d in end_dates]"
   ]
  },
  {
   "cell_type": "code",
   "execution_count": 57,
   "metadata": {
    "ExecuteTime": {
     "end_time": "2020-02-11T01:00:33.994294Z",
     "start_time": "2020-02-11T01:00:33.869286Z"
    }
   },
   "outputs": [],
   "source": [
    "scalers = [StandardScaler() for i in range(len(start_dates)-1)]\n",
    "           \n",
    "opt_training_data = [pd.DataFrame(scalers[i].fit_transform(training_frames[i][shap_features[i]].values),columns=shap_features[i]) for i in range(len(start_dates)-1)]\n",
    "opt_test_data = [pd.DataFrame(scalers[i].transform(test_frames[i][shap_features[i]].values),columns=shap_features[i]) for i in range(len(start_dates)-1)]"
   ]
  },
  {
   "cell_type": "code",
   "execution_count": 58,
   "metadata": {},
   "outputs": [],
   "source": [
    "training_labels = [d['rel_performance'].values for d in training_frames]"
   ]
  },
  {
   "cell_type": "code",
   "execution_count": 59,
   "metadata": {
    "ExecuteTime": {
     "end_time": "2020-02-11T01:01:15.387898Z",
     "start_time": "2020-02-11T01:00:58.271824Z"
    }
   },
   "outputs": [
    {
     "name": "stdout",
     "output_type": "stream",
     "text": [
      "[LightGBM] [Warning] min_data_in_leaf is set=400, min_child_samples=20 will be ignored. Current value: min_data_in_leaf=400\n",
      "[LightGBM] [Warning] min_data_in_leaf is set=400, min_child_samples=20 will be ignored. Current value: min_data_in_leaf=400\n",
      "[LightGBM] [Warning] min_data_in_leaf is set=1600, min_child_samples=20 will be ignored. Current value: min_data_in_leaf=1600\n",
      "[LightGBM] [Warning] min_data_in_leaf is set=2400, min_child_samples=20 will be ignored. Current value: min_data_in_leaf=2400\n",
      "[LightGBM] [Warning] min_data_in_leaf is set=1600, min_child_samples=20 will be ignored. Current value: min_data_in_leaf=1600\n",
      "[LightGBM] [Warning] min_data_in_leaf is set=1600, min_child_samples=20 will be ignored. Current value: min_data_in_leaf=1600\n",
      "[LightGBM] [Warning] min_data_in_leaf is set=400, min_child_samples=20 will be ignored. Current value: min_data_in_leaf=400\n",
      "[LightGBM] [Warning] min_data_in_leaf is set=1600, min_child_samples=20 will be ignored. Current value: min_data_in_leaf=1600\n",
      "[LightGBM] [Warning] min_data_in_leaf is set=1200, min_child_samples=20 will be ignored. Current value: min_data_in_leaf=1200\n",
      "[LightGBM] [Warning] min_data_in_leaf is set=400, min_child_samples=20 will be ignored. Current value: min_data_in_leaf=400\n",
      "[LightGBM] [Warning] min_data_in_leaf is set=1200, min_child_samples=20 will be ignored. Current value: min_data_in_leaf=1200\n",
      "[LightGBM] [Warning] min_data_in_leaf is set=400, min_child_samples=20 will be ignored. Current value: min_data_in_leaf=400\n",
      "[LightGBM] [Warning] min_data_in_leaf is set=400, min_child_samples=20 will be ignored. Current value: min_data_in_leaf=400\n",
      "[LightGBM] [Warning] min_data_in_leaf is set=1200, min_child_samples=20 will be ignored. Current value: min_data_in_leaf=1200\n",
      "[LightGBM] [Warning] min_data_in_leaf is set=2400, min_child_samples=20 will be ignored. Current value: min_data_in_leaf=2400\n",
      "[LightGBM] [Warning] min_data_in_leaf is set=400, min_child_samples=20 will be ignored. Current value: min_data_in_leaf=400\n",
      "[LightGBM] [Warning] min_data_in_leaf is set=2000, min_child_samples=20 will be ignored. Current value: min_data_in_leaf=2000\n",
      "[LightGBM] [Warning] min_data_in_leaf is set=400, min_child_samples=20 will be ignored. Current value: min_data_in_leaf=400\n",
      "[LightGBM] [Warning] min_data_in_leaf is set=400, min_child_samples=20 will be ignored. Current value: min_data_in_leaf=400\n",
      "[LightGBM] [Warning] min_data_in_leaf is set=400, min_child_samples=20 will be ignored. Current value: min_data_in_leaf=400\n",
      "[LightGBM] [Warning] min_data_in_leaf is set=400, min_child_samples=20 will be ignored. Current value: min_data_in_leaf=400\n",
      "[LightGBM] [Warning] min_data_in_leaf is set=400, min_child_samples=20 will be ignored. Current value: min_data_in_leaf=400\n",
      "[LightGBM] [Warning] min_data_in_leaf is set=2000, min_child_samples=20 will be ignored. Current value: min_data_in_leaf=2000\n",
      "[LightGBM] [Warning] min_data_in_leaf is set=800, min_child_samples=20 will be ignored. Current value: min_data_in_leaf=800\n",
      "[LightGBM] [Warning] min_data_in_leaf is set=400, min_child_samples=20 will be ignored. Current value: min_data_in_leaf=400\n",
      "[LightGBM] [Warning] min_data_in_leaf is set=400, min_child_samples=20 will be ignored. Current value: min_data_in_leaf=400\n",
      "[LightGBM] [Warning] min_data_in_leaf is set=2400, min_child_samples=20 will be ignored. Current value: min_data_in_leaf=2400\n",
      "[LightGBM] [Warning] min_data_in_leaf is set=2000, min_child_samples=20 will be ignored. Current value: min_data_in_leaf=2000\n",
      "[LightGBM] [Warning] min_data_in_leaf is set=800, min_child_samples=20 will be ignored. Current value: min_data_in_leaf=800\n",
      "[LightGBM] [Warning] min_data_in_leaf is set=400, min_child_samples=20 will be ignored. Current value: min_data_in_leaf=400\n",
      "[LightGBM] [Warning] min_data_in_leaf is set=800, min_child_samples=20 will be ignored. Current value: min_data_in_leaf=800\n",
      "[LightGBM] [Warning] min_data_in_leaf is set=2000, min_child_samples=20 will be ignored. Current value: min_data_in_leaf=2000\n",
      "[LightGBM] [Warning] min_data_in_leaf is set=400, min_child_samples=20 will be ignored. Current value: min_data_in_leaf=400\n",
      "[LightGBM] [Warning] min_data_in_leaf is set=400, min_child_samples=20 will be ignored. Current value: min_data_in_leaf=400\n",
      "[LightGBM] [Warning] min_data_in_leaf is set=2000, min_child_samples=20 will be ignored. Current value: min_data_in_leaf=2000\n",
      "[LightGBM] [Warning] min_data_in_leaf is set=1200, min_child_samples=20 will be ignored. Current value: min_data_in_leaf=1200\n",
      "[LightGBM] [Warning] min_data_in_leaf is set=400, min_child_samples=20 will be ignored. Current value: min_data_in_leaf=400\n",
      "[LightGBM] [Warning] min_data_in_leaf is set=2400, min_child_samples=20 will be ignored. Current value: min_data_in_leaf=2400\n",
      "[LightGBM] [Warning] min_data_in_leaf is set=1200, min_child_samples=20 will be ignored. Current value: min_data_in_leaf=1200\n",
      "[LightGBM] [Warning] min_data_in_leaf is set=1200, min_child_samples=20 will be ignored. Current value: min_data_in_leaf=1200\n",
      "[LightGBM] [Warning] min_data_in_leaf is set=2400, min_child_samples=20 will be ignored. Current value: min_data_in_leaf=2400\n",
      "[LightGBM] [Warning] min_data_in_leaf is set=1600, min_child_samples=20 will be ignored. Current value: min_data_in_leaf=1600\n",
      "[LightGBM] [Warning] min_data_in_leaf is set=800, min_child_samples=20 will be ignored. Current value: min_data_in_leaf=800\n",
      "[LightGBM] [Warning] min_data_in_leaf is set=1200, min_child_samples=20 will be ignored. Current value: min_data_in_leaf=1200\n",
      "[LightGBM] [Warning] min_data_in_leaf is set=1200, min_child_samples=20 will be ignored. Current value: min_data_in_leaf=1200\n",
      "[LightGBM] [Warning] min_data_in_leaf is set=2400, min_child_samples=20 will be ignored. Current value: min_data_in_leaf=2400\n",
      "[LightGBM] [Warning] min_data_in_leaf is set=400, min_child_samples=20 will be ignored. Current value: min_data_in_leaf=400\n",
      "[LightGBM] [Warning] min_data_in_leaf is set=800, min_child_samples=20 will be ignored. Current value: min_data_in_leaf=800\n",
      "[LightGBM] [Warning] min_data_in_leaf is set=400, min_child_samples=20 will be ignored. Current value: min_data_in_leaf=400\n",
      "[LightGBM] [Warning] min_data_in_leaf is set=1600, min_child_samples=20 will be ignored. Current value: min_data_in_leaf=1600\n",
      "[LightGBM] [Warning] min_data_in_leaf is set=800, min_child_samples=20 will be ignored. Current value: min_data_in_leaf=800\n",
      "[LightGBM] [Warning] min_data_in_leaf is set=2400, min_child_samples=20 will be ignored. Current value: min_data_in_leaf=2400\n",
      "[LightGBM] [Warning] min_data_in_leaf is set=800, min_child_samples=20 will be ignored. Current value: min_data_in_leaf=800\n",
      "[LightGBM] [Warning] min_data_in_leaf is set=2000, min_child_samples=20 will be ignored. Current value: min_data_in_leaf=2000\n",
      "[LightGBM] [Warning] min_data_in_leaf is set=400, min_child_samples=20 will be ignored. Current value: min_data_in_leaf=400\n",
      "[LightGBM] [Warning] min_data_in_leaf is set=2400, min_child_samples=20 will be ignored. Current value: min_data_in_leaf=2400\n"
     ]
    }
   ],
   "source": [
    "x = [1]\n",
    "ret = []\n",
    "\n",
    "for i in range(len(start_dates)-1):\n",
    "        \n",
    "        classifiers[i].fit(opt_training_data[i],training_labels[i])\n",
    "\n",
    "        preds = classifiers[i].predict(opt_test_data[i])\n",
    "        profit_i = (preds*test_frames[i]['next_period_return']).sum()\n",
    "        ret.append(profit_i)\n",
    "        num_names = len(opt_test_data[i])\n",
    "        x.append(x[i] + (x[i]/num_names)*profit_i)"
   ]
  },
  {
   "cell_type": "code",
   "execution_count": null,
   "metadata": {},
   "outputs": [],
   "source": []
  },
  {
   "cell_type": "code",
   "execution_count": 60,
   "metadata": {
    "ExecuteTime": {
     "end_time": "2020-02-11T01:01:20.294124Z",
     "start_time": "2020-02-11T01:01:20.107095Z"
    }
   },
   "outputs": [
    {
     "data": {
      "image/png": "[encoded data removed]",
      "text/plain": [
       "<Figure size 432x288 with 1 Axes>"
      ]
     },
     "metadata": {
      "needs_background": "light"
     },
     "output_type": "display_data"
    }
   ],
   "source": [
    "plt.plot(x);"
   ]
  },
  {
   "cell_type": "code",
   "execution_count": 30,
   "metadata": {},
   "outputs": [
    {
     "data": {
      "text/plain": [
       "57"
      ]
     },
     "execution_count": 30,
     "metadata": {},
     "output_type": "execute_result"
    }
   ],
   "source": [
    "len(x)"
   ]
  },
  {
   "cell_type": "code",
   "execution_count": 61,
   "metadata": {
    "ExecuteTime": {
     "end_time": "2020-02-11T01:01:37.494042Z",
     "start_time": "2020-02-11T01:01:37.445007Z"
    }
   },
   "outputs": [],
   "source": [
    "SPY = pd.read_pickle(r'C:\\Users\\niels\\OneDrive\\Machine Learning 2022\\Lecture 2\\SPY_cum_ret.pkl')\n",
    "SPY = SPY.loc['2004-09-01':'2018-09-30']\n",
    "SPY = SPY.resample('Q').ffill()\n",
    "SPY['spy_cum_ret'] = (SPY['spy_cum_ret'] - SPY['spy_cum_ret'][0] + 1)\n",
    "SPY['strategy'] = x"
   ]
  },
  {
   "cell_type": "code",
   "execution_count": 62,
   "metadata": {
    "ExecuteTime": {
     "end_time": "2020-02-11T01:01:41.397432Z",
     "start_time": "2020-02-11T01:01:41.198433Z"
    }
   },
   "outputs": [
    {
     "data": {
      "image/png": "[encoded data removed]",
      "text/plain": [
       "<Figure size 432x288 with 1 Axes>"
      ]
     },
     "metadata": {
      "needs_background": "light"
     },
     "output_type": "display_data"
    }
   ],
   "source": [
    "SPY.plot();"
   ]
  },
  {
   "cell_type": "code",
   "execution_count": 63,
   "metadata": {
    "ExecuteTime": {
     "end_time": "2020-02-11T01:01:46.417678Z",
     "start_time": "2020-02-11T01:01:46.157159Z"
    }
   },
   "outputs": [
    {
     "data": {
      "image/png": "[encoded data removed]",
      "text/plain": [
       "<Figure size 432x288 with 1 Axes>"
      ]
     },
     "metadata": {
      "needs_background": "light"
     },
     "output_type": "display_data"
    }
   ],
   "source": [
    "SPY = SPY.resample('Y').ffill()\n",
    "SPY.plot();"
   ]
  },
  {
   "cell_type": "code",
   "execution_count": 64,
   "metadata": {},
   "outputs": [],
   "source": [
    "with open(r'gb_strategy.pkl','wb') as f:\n",
    "    pickle.dump(SPY['strategy'],f)"
   ]
  },
  {
   "cell_type": "code",
   "execution_count": 65,
   "metadata": {
    "ExecuteTime": {
     "end_time": "2020-02-11T01:01:54.486712Z",
     "start_time": "2020-02-11T01:01:54.468721Z"
    }
   },
   "outputs": [
    {
     "name": "stdout",
     "output_type": "stream",
     "text": [
      "Strategy Sharpe Ratio:  0.7762064255829813\n"
     ]
    }
   ],
   "source": [
    "strategy_mean_ret = (SPY['strategy'] - 1).diff().mean()\n",
    "strategy_std = (SPY['strategy'] - 1).diff().std()\n",
    "strategy_sr = strategy_mean_ret/strategy_std\n",
    "print('Strategy Sharpe Ratio: ',strategy_sr)"
   ]
  },
  {
   "cell_type": "code",
   "execution_count": 66,
   "metadata": {
    "ExecuteTime": {
     "end_time": "2020-02-11T01:02:00.792517Z",
     "start_time": "2020-02-11T01:02:00.786515Z"
    }
   },
   "outputs": [
    {
     "data": {
      "text/plain": [
       "4.106900807540151"
      ]
     },
     "execution_count": 66,
     "metadata": {},
     "output_type": "execute_result"
    }
   ],
   "source": [
    "x[-1]"
   ]
  },
  {
   "cell_type": "code",
   "execution_count": 67,
   "metadata": {
    "ExecuteTime": {
     "end_time": "2020-02-09T20:42:54.524395Z",
     "start_time": "2020-02-09T20:42:54.519365Z"
    }
   },
   "outputs": [
    {
     "data": {
      "text/plain": [
       "2.4779340000000003"
      ]
     },
     "execution_count": 67,
     "metadata": {},
     "output_type": "execute_result"
    }
   ],
   "source": [
    "SPY['spy_cum_ret'][-1]"
   ]
  },
  {
   "cell_type": "code",
   "execution_count": 68,
   "metadata": {
    "ExecuteTime": {
     "end_time": "2020-02-09T20:42:59.954056Z",
     "start_time": "2020-02-09T20:42:59.949042Z"
    }
   },
   "outputs": [],
   "source": [
    "strategy_ret = (SPY['strategy'] - 1).diff().values[1:]\n",
    "spy_ret = (SPY['spy_cum_ret'] - 1).diff().values[1:]"
   ]
  },
  {
   "cell_type": "code",
   "execution_count": 69,
   "metadata": {
    "ExecuteTime": {
     "end_time": "2020-02-09T20:43:01.135837Z",
     "start_time": "2020-02-09T20:43:01.130715Z"
    }
   },
   "outputs": [],
   "source": [
    "beta = (np.cov(spy_ret,strategy_ret)/np.var(spy_ret))[1,0]"
   ]
  },
  {
   "cell_type": "code",
   "execution_count": 70,
   "metadata": {
    "ExecuteTime": {
     "end_time": "2020-02-09T20:43:02.086883Z",
     "start_time": "2020-02-09T20:43:02.081733Z"
    }
   },
   "outputs": [
    {
     "data": {
      "text/plain": [
       "1.6426685220054509"
      ]
     },
     "execution_count": 70,
     "metadata": {},
     "output_type": "execute_result"
    }
   ],
   "source": [
    "beta "
   ]
  },
  {
   "cell_type": "code",
   "execution_count": 144,
   "metadata": {},
   "outputs": [],
   "source": [
    "SPY['hedge'] = SPY['strategy'] - 1.54*(SPY['spy_cum_ret'])+1.54"
   ]
  },
  {
   "cell_type": "code",
   "execution_count": 145,
   "metadata": {},
   "outputs": [
    {
     "data": {
      "image/png": "[encoded data removed]",
      "text/plain": [
       "<Figure size 432x288 with 1 Axes>"
      ]
     },
     "metadata": {
      "needs_background": "light"
     },
     "output_type": "display_data"
    }
   ],
   "source": [
    "SPY.plot();"
   ]
  },
  {
   "cell_type": "code",
   "execution_count": 146,
   "metadata": {},
   "outputs": [],
   "source": [
    "hedge_ret = (SPY['hedge'] - 1).diff().values[1:]"
   ]
  },
  {
   "cell_type": "code",
   "execution_count": 158,
   "metadata": {},
   "outputs": [
    {
     "data": {
      "text/plain": [
       "1.8308824475401502"
      ]
     },
     "execution_count": 158,
     "metadata": {},
     "output_type": "execute_result"
    }
   ],
   "source": [
    "SPY['hedge'][-1]"
   ]
  },
  {
   "cell_type": "code",
   "execution_count": 159,
   "metadata": {},
   "outputs": [
    {
     "data": {
      "text/plain": [
       "0.2335612610267228"
      ]
     },
     "execution_count": 159,
     "metadata": {},
     "output_type": "execute_result"
    }
   ],
   "source": [
    "SPY['hedge'].std()"
   ]
  },
  {
   "cell_type": "code",
   "execution_count": 147,
   "metadata": {},
   "outputs": [],
   "source": [
    "beta_hedge = (np.cov(spy_ret,hedge_ret)/np.var(spy_ret))[1,0]"
   ]
  },
  {
   "cell_type": "code",
   "execution_count": 148,
   "metadata": {},
   "outputs": [
    {
     "data": {
      "text/plain": [
       "-0.01579301645608734"
      ]
     },
     "execution_count": 148,
     "metadata": {},
     "output_type": "execute_result"
    }
   ],
   "source": [
    "beta_hedge"
   ]
  },
  {
   "cell_type": "code",
   "execution_count": 149,
   "metadata": {},
   "outputs": [
    {
     "name": "stdout",
     "output_type": "stream",
     "text": [
      "Hedge Sharpe Ratio:  0.7762064255829813\n"
     ]
    }
   ],
   "source": [
    "hedge_mean_ret = (SPY['hedge'] - 1).diff().mean()\n",
    "hedge_std = (SPY['hedge'] - 1).diff().std()\n",
    "hedge_sr = hedge_mean_ret/hedge_std\n",
    "print('Hedge Sharpe Ratio: ',strategy_sr)"
   ]
  },
  {
   "cell_type": "code",
   "execution_count": 150,
   "metadata": {},
   "outputs": [
    {
     "name": "stderr",
     "output_type": "stream",
     "text": [
      "Indexing a DataFrame with a datetimelike index using a single string to slice the rows, like `frame[string]`, is deprecated and will be removed in a future version. Use `frame.loc[string]` instead.\n"
     ]
    },
    {
     "data": {
      "image/png": "[encoded data removed]",
      "text/plain": [
       "<Figure size 432x288 with 1 Axes>"
      ]
     },
     "metadata": {
      "needs_background": "light"
     },
     "output_type": "display_data"
    }
   ],
   "source": [
    "starting_year='2010'\n",
    "a = SPY.loc[starting_year]['spy_cum_ret'].values\n",
    "b = SPY[starting_year]['strategy'].values\n",
    "plt.plot(SPY.loc[starting_year:]['spy_cum_ret'] - a + 1);\n",
    "plt.plot(SPY.loc[starting_year:]['strategy'] - b + 1);"
   ]
  },
  {
   "cell_type": "code",
   "execution_count": 155,
   "metadata": {},
   "outputs": [],
   "source": [
    "combined = 5*(SPY.loc['2010':]['hedge']+1.54)"
   ]
  },
  {
   "cell_type": "code",
   "execution_count": 152,
   "metadata": {},
   "outputs": [],
   "source": [
    "combined[0]=1"
   ]
  },
  {
   "cell_type": "code",
   "execution_count": 156,
   "metadata": {},
   "outputs": [
    {
     "data": {
      "text/plain": [
       "[<matplotlib.lines.Line2D at 0x27356813010>]"
      ]
     },
     "execution_count": 156,
     "metadata": {},
     "output_type": "execute_result"
    },
    {
     "data": {
      "image/png": "[encoded data removed]",
      "text/plain": [
       "<Figure size 432x288 with 1 Axes>"
      ]
     },
     "metadata": {
      "needs_background": "light"
     },
     "output_type": "display_data"
    }
   ],
   "source": [
    "plt.plot(combined)"
   ]
  },
  {
   "cell_type": "code",
   "execution_count": null,
   "metadata": {},
   "outputs": [],
   "source": []
  }
 ],
 "metadata": {
  "kernelspec": {
   "display_name": "Python 3 (ipykernel)",
   "language": "python",
   "name": "python3"
  },
  "language_info": {
   "codemirror_mode": {
    "name": "ipython",
    "version": 3
   },
   "file_extension": ".py",
   "mimetype": "text/x-python",
   "name": "python",
   "nbconvert_exporter": "python",
   "pygments_lexer": "ipython3",
   "version": "3.8.8"
  },
  "latex_envs": {
   "LaTeX_envs_menu_present": true,
   "autoclose": false,
   "autocomplete": true,
   "bibliofile": "biblio.bib",
   "cite_by": "apalike",
   "current_citInitial": 1,
   "eqLabelWithNumbers": true,
   "eqNumInitial": 1,
   "hotkeys": {
    "equation": "Ctrl-E",
    "itemize": "Ctrl-I"
   },
   "labels_anchors": false,
   "latex_user_defs": false,
   "report_style_numbering": false,
   "user_envs_cfg": false
  }
 },
 "nbformat": 4,
 "nbformat_minor": 2
}
